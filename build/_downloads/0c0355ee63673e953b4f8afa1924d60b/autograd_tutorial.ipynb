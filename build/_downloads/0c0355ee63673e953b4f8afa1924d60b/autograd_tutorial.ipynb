{
  "cells": [
    {
      "cell_type": "code",
      "execution_count": null,
      "metadata": {
        "collapsed": false
      },
      "outputs": [],
      "source": [
        "%matplotlib inline"
      ]
    },
    {
      "cell_type": "markdown",
      "metadata": {},
      "source": [
        "\nAutograd: \u81ea\u52a8\u5fae\u5206\n===================================\n**\u7ffb\u8bd1\u8005**: `Antares\u535a\u58eb <http://www.studyai.com/antares>`_\n\n\u5728PyTorch\u7684\u6240\u6709\u795e\u7ecf\u7f51\u7edc\u4e2d\uff0c\u6838\u5fc3\u662f ``autograd`` \u5305\u3002\u8ba9\u6211\u4eec\u5148\u7b80\u5355\u4ecb\u7ecd\u4e00\u4e0b\uff0c\n\u7136\u540e\u6211\u4eec\u5c06\u5f00\u59cb\u8bad\u7ec3\u6211\u4eec\u7684\u7b2c\u4e00\u4e2a\u795e\u7ecf\u7f51\u7edc\u3002\n\n\n``autograd`` package \u4e3a\u5f20\u91cf\u4e0a\u7684\u6240\u6709\u64cd\u4f5c\u63d0\u4f9b\u81ea\u52a8\u5fae\u5206(automatic differentiation)\u3002\n\u5b83\u662f\u4e00\u4e2a\u6309\u8fd0\u884c\u5b9a\u4e49\u7684\u6846\u67b6(define-by-run framework)\uff0c\n\u8fd9\u610f\u5473\u7740\u60a8\u7684\u540e\u7aef(backprop)\u7531\u60a8\u7684\u4ee3\u7801\u8fd0\u884c\u65b9\u5f0f\u6765\u5b9a\u4e49\uff0c\u5e76\u4e14\u6bcf\u4e2a\u8fed\u4ee3\u90fd\u53ef\u80fd\u662f\u4e0d\u540c\u7684\u3002\n\n\u8ba9\u6211\u4eec\u7528\u66f4\u7b80\u5355\u7684\u672f\u8bed\u6765\u770b\u8fd9\u4e00\u70b9\uff0c\u5e76\u4e3e\u51e0\u4e2a\u4f8b\u5b50\u3002\n\n\u5f20\u91cf(Tensor)\n--------------\n\n``torch.Tensor`` \u662f\u6b64package\u7684\u6838\u5fc3\u7c7b\u3002 \u5982\u679c\u4f60\u5c06\u5b83\u7684\u5c5e\u6027 ``.requires_grad`` \u8bbe\u7f6e\u4e3a ``True``, \n\u5b83\u5c31\u5f00\u59cb\u8ddf\u8e2a\u5728\u5b83\u4e0a\u9762\u7684\u6240\u6709\u8fd0\u7b97\u64cd\u4f5c\u3002\u5f53\u4f60\u5b8c\u6210\u8ba1\u7b97\u65f6\u4f60\u53ef\u4ee5\u8c03\u7528 ``.backward()`` \uff0c\n\u8fd9\u4f1a\u4f7f\u5f97\u6240\u6709\u7684\u68af\u5ea6\u90fd\u88ab\u81ea\u52a8\u8ba1\u7b97\u51fa\u6765\u3002\u5bf9\u4e8e\u8fd9\u4e2atensor\u7684\u68af\u5ea6\u5c06\u4f1a\u88ab\u7d2f\u52a0\u5230 ``.grad`` \u5c5e\u6027\u4e2d\u53bb\u3002\n\n\u5982\u679c\u60f3\u8981\u963b\u6b62\u4e00\u4e2atensor\u4e0d\u53bb\u8ddf\u8e2a\u5386\u53f2(tracking history), \u4f60\u53ef\u4ee5\u8c03\u7528 ``.detach()`` \u65b9\u6cd5\n\u628a\u5b83\u4ece\u8ba1\u7b97\u5386\u53f2\u4e2d\u5206\u79bb\u51fa\u6765, \u5e76\u4e14\u4f1a\u963b\u6b62\u8fdb\u4e00\u6b65\u7684\u8ba1\u7b97\u88ab\u8ddf\u8e2a\u3002 \n\n\u82e5\u8981\u9632\u6b62\u8ddf\u8e2a\u5386\u53f2\u8bb0\u5f55(\u5e76\u4f7f\u7528\u5185\u5b58)\uff0c\u8fd8\u53ef\u4ee5\u628a\u4ee3\u7801\u5757\u5c01\u88c5\u5728with\u8bed\u53e5 ``with torch.no_grad():`` \u4e2d\u3002 \n\u8fd9\u5728\u8bc4\u4f30\u6a21\u578b\u65f6\u7279\u522b\u6709\u7528\uff0c\u56e0\u4e3a\u6a21\u578b\u53ef\u80fd\u5177\u6709\u53ef\u8bad\u7ec3\u7684\u53c2\u6570(`requires_grad=True`)\u3002\u4f46\u662f\u5728\u8bc4\u4f30\u6a21\u578b\u7684\n\u65f6\u5019\u4e0d\u9700\u8981\u8ba1\u7b97\u68af\u5ea6\uff0c\u800c\u4e14\u6211\u4eec\u4e0d\u60f3\u628a\u6a21\u578b\u7684\u8fd9\u4e9b\u53ef\u8bad\u7ec3\u53c2\u6570\u8bbe\u7f6e\u4e3a `requires_grad=False` \uff0c\u90a3\u4e48\u5c01\u88c5\u5728\nwith\u8bed\u53e5 ``with torch.no_grad():`` \u4e2d\u662f\u5f88\u8d5e\u7684\u3002\n\n\u8fd8\u6709\u4e00\u4e2a\u7c7b\u5bf9\u4e8e\u5b9e\u73b0\u81ea\u52a8\u5fae\u5206\u81f3\u5173\u91cd\u8981\uff0c\u90a3\u5c31\u662f--- ``Function`` \u3002\n\n``Tensor`` \u548c ``Function`` \u662f\u5185\u90e8\u76f8\u4e92\u8054\u7cfb\u7684\uff0c\u5e76\u5efa\u7acb\u4e86\u4e00\u4e2a\u65e0\u73af\u56fe(acyclic graph)\uff0c\u5b83\u7f16\u7801\u4e86\u4e00\u4e2a\u5b8c\u6574\u7684\u8ba1\u7b97\u5386\u53f2\u3002\n\u6bcf\u4e2atensor\u90fd\u6709\u4e00\u4e2a ``.grad_fn`` \u5c5e\u6027\uff0c\u5b83\u5f15\u7528\u4e86\u521b\u5efa\u4e86 ``Tensor`` \u7684 ``Function`` \u3002\n(\u9664\u4e86\u7531\u7528\u6237\u521b\u5efa\u7684 Tensors -\u5b83\u4eec\u7684 ``grad_fn is None``)\u3002\n\n\u5982\u679c\u8981\u8ba1\u7b97\u5bfc\u6570(derivatives)\uff0c\u53ef\u4ee5\u5728 ``Tensor`` \u4e0a\u8c03\u7528 ``.backward()`` \u3002 \n\u5982\u679c ``Tensor`` \u662f\u4e00\u4e2a\u6807\u91cf(scalar) (i.e. \u5b83\u91cc\u9762\u53ea\u6301\u6709\u4e00\u4e2a\u5143\u7d20\u7684\u6570\u636e), \n\u90a3\u4e48\u4f60\u4e0d\u9700\u8981\u4e3a ``backward()`` \u65b9\u6cd5\u4f20\u9012\u4efb\u4f55\u53c2\u6570\u3002\u7136\u800c\uff0c\u5982\u679c ``Tensor`` \u6709\u66f4\u591a\u7684\u5143\u7d20\uff0c\u90a3\u4e48\n\u4f60\u9700\u8981\u6307\u5b9a\u4e00\u4e2a ``gradient`` \u53c2\u6570\uff0c\u5176\u5fc5\u987b\u662f\u4e00\u4e2ashape\u76f8\u5339\u914d\u7684 tensor \u3002\n\n"
      ]
    },
    {
      "cell_type": "code",
      "execution_count": null,
      "metadata": {
        "collapsed": false
      },
      "outputs": [],
      "source": [
        "import torch"
      ]
    },
    {
      "cell_type": "markdown",
      "metadata": {},
      "source": [
        "\u521b\u5efa\u4e00\u4e2a tensor \u5e76\u8bbe\u7f6e requires_grad=True \u6765\u8ddf\u8e2a\u8fd9\u4e2atensor\u4e0a\u7684\u8ba1\u7b97\n\n"
      ]
    },
    {
      "cell_type": "code",
      "execution_count": null,
      "metadata": {
        "collapsed": false
      },
      "outputs": [],
      "source": [
        "x = torch.ones(2, 2, requires_grad=True)\nprint(x)"
      ]
    },
    {
      "cell_type": "markdown",
      "metadata": {},
      "source": [
        "\u5bf9 tensor \u505a\u8fd0\u7b97:\n\n"
      ]
    },
    {
      "cell_type": "code",
      "execution_count": null,
      "metadata": {
        "collapsed": false
      },
      "outputs": [],
      "source": [
        "y = x + 2\nprint(y)"
      ]
    },
    {
      "cell_type": "markdown",
      "metadata": {},
      "source": [
        "``y`` \u4f5c\u4e3a\u52a0\u6cd5\u8fd0\u7b97\u7684\u7ed3\u679c\u88ab\u521b\u5efa\u4e86\u51fa\u6765, \u56e0\u6b64\u5b83\u6709\u4e00\u4e2a ``grad_fn``.\n\n"
      ]
    },
    {
      "cell_type": "code",
      "execution_count": null,
      "metadata": {
        "collapsed": false
      },
      "outputs": [],
      "source": [
        "print(y.grad_fn)"
      ]
    },
    {
      "cell_type": "markdown",
      "metadata": {},
      "source": [
        "\u5728\u5f20\u91cf  ``y`` \u4e0a\u505a\u66f4\u591a\u8fd0\u7b97\u64cd\u4f5c\n\n"
      ]
    },
    {
      "cell_type": "code",
      "execution_count": null,
      "metadata": {
        "collapsed": false
      },
      "outputs": [],
      "source": [
        "z = y * y * 3\nout = z.mean()\n\nprint(z, out)"
      ]
    },
    {
      "cell_type": "markdown",
      "metadata": {},
      "source": [
        "``.requires_grad_( ... )`` \u53ef\u4ee5\u539f\u4f4d(in-place)\u4fee\u6539\u4e00\u4e2a\u5df2\u7ecf\u5b58\u5728\u7684 \nTensor \u7684 ``requires_grad`` \u6807\u5fd7\u4f4d\u3002\n\u5982\u679c\u6ca1\u6709\u7ed9\u5b9a\uff0c \u8f93\u5165\u7684\u6807\u5fd7\u4f4d\u9ed8\u8ba4\u662f ``False`` \u3002\n\n"
      ]
    },
    {
      "cell_type": "code",
      "execution_count": null,
      "metadata": {
        "collapsed": false
      },
      "outputs": [],
      "source": [
        "a = torch.randn(2, 2)\na = ((a * 3) / (a - 1))\nprint(a.requires_grad)\na.requires_grad_(True)\nprint(a.requires_grad)\nb = (a * a).sum()\nprint(b.grad_fn)\nprint(b.requires_grad)"
      ]
    },
    {
      "cell_type": "markdown",
      "metadata": {},
      "source": [
        "\u68af\u5ea6(Gradient)\n--------------------\n\u73b0\u5728\u6211\u4eec\u5f00\u59cb\u53cd\u5411\u4f20\u64ad\u5566\n\u56e0\u4e3a ``out`` \u5305\u542b\u4e00\u4e2a\u5355\u4e2a\u7684\u6807\u91cf, ``out.backward()`` \n\u662f\u7b49\u4ef7\u4e8e ``out.backward(torch.tensor(1.))`` \u7684\u3002\n\n"
      ]
    },
    {
      "cell_type": "code",
      "execution_count": null,
      "metadata": {
        "collapsed": false
      },
      "outputs": [],
      "source": [
        "out.backward()"
      ]
    },
    {
      "cell_type": "markdown",
      "metadata": {},
      "source": [
        "\u8f93\u51fa\u68af\u5ea6 d(out)/dx\n\n\n"
      ]
    },
    {
      "cell_type": "code",
      "execution_count": null,
      "metadata": {
        "collapsed": false
      },
      "outputs": [],
      "source": [
        "print(x.grad)"
      ]
    },
    {
      "cell_type": "markdown",
      "metadata": {},
      "source": [
        "\u4f60\u5e94\u8be5\u5f97\u5230\u4e86\u4e00\u4e2a ``4.5`` \u76842x2\u77e9\u9635\u3002 \u6211\u4eec\u628a ``out`` \u79f0\u4e3a\n*Tensor* \u201c$o$\u201d \u3002\n\u6211\u4eec\u6709\u8fd9\u6837\u4e00\u4e2a\u5f0f\u5b50\u6210\u7acb $o = \\frac{1}{4}\\sum_i z_i$,\n$z_i = 3(x_i+2)^2$ \u548c $z_i\\bigr\\rvert_{x_i=1} = 27$.\n\u56e0\u6b64,\n$\\frac{\\partial o}{\\partial x_i} = \\frac{3}{2}(x_i+2)$, \u56e0\u6b64\n$\\frac{\\partial o}{\\partial x_i}\\bigr\\rvert_{x_i=1} = \\frac{9}{2} = 4.5$.\n\n"
      ]
    },
    {
      "cell_type": "markdown",
      "metadata": {},
      "source": [
        "\u6570\u5b66\u4e0a, \u5982\u679c\u4f60\u6709\u4e00\u4e2a\u5411\u91cf\u503c\u51fd\u6570(vector valued function) $\\vec{y}=f(\\vec{x})$,\n\u90a3\u4e48 $\\vec{y}$ \u76f8\u5bf9\u4e8e $\\vec{x}$ \u7684\u68af\u5ea6\n\u662f\u4e00\u4e2a\u96c5\u514b\u6bd4\u77e9\u9635(Jacobian matrix) :\n\n\\begin{align}J=\\left(\\begin{array}{ccc}\n   \\frac{\\partial y_{1}}{\\partial x_{1}} & \\cdots & \\frac{\\partial y_{m}}{\\partial x_{1}}\\\\\n   \\vdots & \\ddots & \\vdots\\\\\n   \\frac{\\partial y_{1}}{\\partial x_{n}} & \\cdots & \\frac{\\partial y_{m}}{\\partial x_{n}}\n   \\end{array}\\right)\\end{align}\n\n\u5e7f\u4e49\u4e0a\u8bf4, ``torch.autograd`` \u662f\u4e00\u4e2a\u7528\u6765\u8ba1\u7b97\u96c5\u514b\u6bd4\u5411\u91cf\u4e58\u79ef(Jacobian-vector product)\u7684\u5f15\u64ce\u3002\n\u8fd9\u5c31\u662f\u8bf4, \u7ed9\u5b9a\u4efb\u610f\u7684\u5411\u91cf \n$v=\\left(\\begin{array}{cccc} v_{1} & v_{2} & \\cdots & v_{m}\\end{array}\\right)^{T}$,\n\u8ba1\u7b97\u4e58\u79ef $J\\cdot v$ \u3002 \u5982\u679c $v$ \u6070\u597d\u662f\u4e00\u4e2a\u6807\u91cf\u51fd\u6570 $l=g\\left(\\vec{y}\\right)$ \u7684\u68af\u5ea6\uff0c\n\u5373,\n$v=\\left(\\begin{array}{ccc}\\frac{\\partial l}{\\partial y_{1}} & \\cdots & \\frac{\\partial l}{\\partial y_{m}}\\end{array}\\right)^{T}$,\n\u90a3\u4e48\u6839\u636e\u94fe\u5f0f\u6cd5\u5219, \u96c5\u514b\u6bd4\u5411\u91cf\u4e58\u79ef \u5c31\u662f $l$ \u76f8\u5bf9\u4e8e $\\vec{x}$ \u7684\u68af\u5ea6 :\n\n\\begin{align}J\\cdot v=\\left(\\begin{array}{ccc}\n   \\frac{\\partial y_{1}}{\\partial x_{1}} & \\cdots & \\frac{\\partial y_{m}}{\\partial x_{1}}\\\\\n   \\vdots & \\ddots & \\vdots\\\\\n   \\frac{\\partial y_{1}}{\\partial x_{n}} & \\cdots & \\frac{\\partial y_{m}}{\\partial x_{n}}\n   \\end{array}\\right)\\left(\\begin{array}{c}\n   \\frac{\\partial l}{\\partial y_{1}}\\\\\n   \\vdots\\\\\n   \\frac{\\partial l}{\\partial y_{m}}\n   \\end{array}\\right)=\\left(\\begin{array}{c}\n   \\frac{\\partial l}{\\partial x_{1}}\\\\\n   \\vdots\\\\\n   \\frac{\\partial l}{\\partial x_{n}}\n   \\end{array}\\right)\\end{align}\n\n\u96c5\u514b\u6bd4\u5411\u91cf\u4e58\u79ef\u7684\u8fd9\u4e2a\u7279\u70b9\u4f7f\u5f97 \u5c06\u5916\u90e8\u68af\u5ea6\u8f93\u5165\u5230\u4e00\u4e2a\u5177\u6709\u975e\u6807\u91cf\u8f93\u51fa\u7684\u6a21\u578b\u4e2d\u53bb \u53d8\u5f97\u975e\u5e38\u65b9\u4fbf\u3002\n\n"
      ]
    },
    {
      "cell_type": "markdown",
      "metadata": {},
      "source": [
        "\u73b0\u5728\u5462 \u6211\u5c31\u6765\u770b\u770b \u96c5\u514b\u6bd4\u5411\u91cf\u4e58\u79ef(Jacobian-vector product) \u7684\u4e00\u4e2a\u4f8b\u5b50:\n\n"
      ]
    },
    {
      "cell_type": "code",
      "execution_count": null,
      "metadata": {
        "collapsed": false
      },
      "outputs": [],
      "source": [
        "x = torch.randn(3, requires_grad=True)\n\ny = x * 2\nwhile y.data.norm() < 1000:\n    y = y * 2\n\nprint(y)"
      ]
    },
    {
      "cell_type": "markdown",
      "metadata": {},
      "source": [
        "\u73b0\u5728 ``y`` \u4e0d\u518d\u662f\u4e00\u4e2a\u6807\u91cf\u5566\u3002 ``torch.autograd``\n\u4e0d\u80fd\u76f4\u63a5\u8ba1\u7b97\u51fa\u6574\u4e2a\u96c5\u53ef\u6bd4\u77e9\u9635, \u4f46\u5982\u679c\u6211\u4eec\u53ea\u60f3\u8981\u96c5\u53ef\u6bd4\u5411\u91cf\u79ef(Jacobian-vector product), \n\u53ea\u9700\u8981\u7b80\u5355\u7684\u4f20\u9012\u4e00\u4e2a\u5411\u91cf\u5230\u51fd\u6570 ``backward`` \u7684\u53c2\u6570\u4e2d\u53bb:\n\n"
      ]
    },
    {
      "cell_type": "code",
      "execution_count": null,
      "metadata": {
        "collapsed": false
      },
      "outputs": [],
      "source": [
        "v = torch.tensor([0.1, 1.0, 0.0001], dtype=torch.float)\ny.backward(v)\n\nprint(x.grad)"
      ]
    },
    {
      "cell_type": "markdown",
      "metadata": {},
      "source": [
        "\u60a8\u8fd8\u53ef\u4ee5\u901a\u8fc7\u5c06\u4ee3\u7801\u5757\u5305\u88c5\u5728\u4e0b\u9762\u7684 ``with torch.no_grad()`` \u4ee3\u7801\u5757\u4e2d\uff0c\n\u4ece\u800c\u505c\u6b62\u4f7f\u7528autograd\u6765\u8ddf\u8e2a\u72b6\u6001\u4e3a ``.requires_grad=True`` \u7684 tensors \u4e0a\u7684\u5386\u53f2\u8bb0\u5f55:\n\n"
      ]
    },
    {
      "cell_type": "code",
      "execution_count": null,
      "metadata": {
        "collapsed": false
      },
      "outputs": [],
      "source": [
        "print(x.requires_grad)\nprint((x ** 2).requires_grad)\n\nwith torch.no_grad():\n\tprint((x ** 2).requires_grad)"
      ]
    },
    {
      "cell_type": "markdown",
      "metadata": {},
      "source": [
        "**\u540e\u7eed\u9605\u8bfb:**\n\n``autograd`` \u548c ``Function`` \u7684\u6587\u6863\u5728 \nhttps://pytorch.org/docs/autograd\n\n"
      ]
    }
  ],
  "metadata": {
    "kernelspec": {
      "display_name": "Python 3",
      "language": "python",
      "name": "python3"
    },
    "language_info": {
      "codemirror_mode": {
        "name": "ipython",
        "version": 3
      },
      "file_extension": ".py",
      "mimetype": "text/x-python",
      "name": "python",
      "nbconvert_exporter": "python",
      "pygments_lexer": "ipython3",
      "version": "3.6.5"
    }
  },
  "nbformat": 4,
  "nbformat_minor": 0
}