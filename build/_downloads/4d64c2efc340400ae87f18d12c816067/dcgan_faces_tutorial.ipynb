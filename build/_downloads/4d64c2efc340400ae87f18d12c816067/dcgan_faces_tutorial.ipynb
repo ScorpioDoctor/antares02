{
  "cells": [
    {
      "cell_type": "code",
      "execution_count": null,
      "metadata": {
        "collapsed": false
      },
      "outputs": [],
      "source": [
        "%matplotlib inline"
      ]
    },
    {
      "cell_type": "markdown",
      "metadata": {},
      "source": [
        "\nDCGAN \u6559\u7a0b\n==============\n\n**\u7ffb\u8bd1\u8005**: `Antares\u535a\u58eb <http://www.studyai.com/antares>`_\n\n\n"
      ]
    },
    {
      "cell_type": "markdown",
      "metadata": {},
      "source": [
        "\u4ecb\u7ecd\n------------\n\n\u672c\u6559\u7a0b\u5c06\u901a\u8fc7\u4e00\u4e2a\u793a\u4f8b\u4ecb\u7ecdDCGANs\u3002\u6211\u4eec\u5c06\u8bad\u7ec3\u4e00\u4e2a\u751f\u6210\u5bf9\u6297\u7f51\u7edc(generative adversarial network, GAN)\uff0c\n\u5728\u7ed9\u5b83\u5c55\u793a\u8bb8\u591a\u540d\u6d41\u7684\u7167\u7247\u4e4b\u540e\uff0c\u4ea7\u751f\u65b0\u7684\u540d\u4eba\u3002\u8fd9\u91cc\u7684\u5927\u90e8\u5206\u4ee3\u7801\u90fd\u6765\u81ea `pytorch/examples <https://github.com/pytorch/examples>`__ \u7684\u5b9e\u73b0\uff0c\n\u672c\u6587\u6863\u5c06\u8be6\u7ec6\u89e3\u91ca\u5b9e\u73b0\uff0c\u5e76\u9610\u660e\u8be5\u6a21\u578b\u662f\u5982\u4f55\u5de5\u4f5c\u7684\u548c\u4e3a\u4ec0\u4e48\u5de5\u4f5c\u7684\u3002\u4f46\u522b\u62c5\u5fc3\uff0c\u4e0d\u9700\u8981\u4e8b\u5148\u77e5\u9053GANs\uff0c\n\u4f46\u5b83\u53ef\u80fd\u9700\u8981\u7b2c\u4e00\u6b21\u82b1\u4e00\u4e9b\u65f6\u95f4\u6765\u63a8\u7406\u5728\u8868\u8c61\u7684\u4e0b\u9762\u771f\u6b63\u53d1\u751f\u4e86\u4ec0\u4e48\u3002\u6b64\u5916\uff0c\u4e3a\u4e86\u65f6\u95f4\uff0c\u6709\u4e00\u4e2a\u6216\u4e24\u4e2aGPU\u53ef\u80fd\u662f\u4e2a\u597d\u4e8b\u513f\u3002\n\u8ba9\u6211\u4eec\u4ece\u5934\u5f00\u59cb\u3002\n\n\u751f\u6210\u5bf9\u6297\u7f51\u7edc\n-------------------------------\n\n\u4ec0\u4e48\u662f GAN?\n~~~~~~~~~~~~~~\n\nGANS\u662f\u4e00\u4e2a\u6846\u67b6\uff0c\u5b83\u6559\u6388DL\u6a21\u578b\u4ee5\u6355\u83b7\u8bad\u7ec3\u6570\u636e\u7684\u5206\u5e03\uff0c\u8fd9\u6837\u6211\u4eec\u5c31\u53ef\u4ee5\u4ece\u76f8\u540c\u7684\u5206\u5e03\u751f\u6210\u65b0\u7684\u6570\u636e\u3002\nGANs \u662f\u7531\u4f0a\u6069\u00b7\u53e4\u5fb7\u8d39\u7f57\u4e8e2014\u5e74\u53d1\u660e\u7684\uff0c\u5e76\u9996\u6b21\u5728\u8bba\u6587 \n`Generative Adversarial Nets <https://papers.nips.cc/paper/5423-generative-adversarial-nets.pdf>`__ \n\u4e2d\u8fdb\u884c\u4e86\u63cf\u8ff0\u3002\u5b83\u4eec\u7531\u4e24\u79cd\u4e0d\u540c\u7684\u6a21\u578b\u7ec4\u6210\uff0c\u4e00\u79cd\u662f\u751f\u6210\u5668(*generator*)\uff0c\u53e6\u4e00\u79cd\u662f\u5224\u522b\u5668(*discriminator*)\u3002\n\u751f\u6210\u5668\u7684\u5de5\u4f5c\u662f\u751f\u6210\u770b\u8d77\u6765\u50cf\u8bad\u7ec3\u56fe\u50cf\u7684\u201c\u5047\u201d\u56fe\u50cf\u3002\u5224\u522b\u5668\u7684\u5de5\u4f5c\u662f\u67e5\u770b\u56fe\u50cf\u5e76\u8f93\u51fa\u5b83\u662f\u771f\u5b9e\u7684\u8bad\u7ec3\u56fe\u50cf\u8fd8\u662f\u6765\u81ea\u751f\u6210\u5668\u7684\u5047\u56fe\u50cf\u3002\n\u5728\u8bad\u7ec3\u8fc7\u7a0b\u4e2d\uff0c\u751f\u6210\u5668\u4e0d\u65ad\u5730\u8bd5\u56fe\u901a\u8fc7\u751f\u6210\u8d8a\u6765\u8d8a\u597d\u7684\u4f2a\u56fe\u50cf\u6765\u80dc\u8fc7\u5224\u522b\u5668\uff0c\u800c\u5224\u522b\u5668\u6b63\u5728\u52aa\u529b\u6210\u4e3a\u4e00\u540d\u66f4\u597d\u7684\u4fa6\u63a2\uff0c\n\u5e76\u6b63\u786e\u5730\u5bf9\u771f\u5047\u56fe\u50cf\u8fdb\u884c\u5206\u7c7b\u3002\u8fd9\u4e2a\u6e38\u620f\u7684\u5747\u8861\u662f\u5f53\u751f\u6210\u5668\u751f\u6210\u770b\u8d77\u6765\u50cf\u662f\u76f4\u63a5\u6765\u81ea\u8bad\u7ec3\u6570\u636e\u7684\u5b8c\u7f8e\u5047\u8c61\u65f6\uff0c\n\u5224\u522b\u5668\u603b\u662f\u4ee550%\u7684\u4fe1\u5fc3\u731c\u6d4b\u751f\u6210\u5668\u8f93\u51fa\u662f\u771f\u662f\u5047\u7684\u3002\n\n\u73b0\u5728\uff0c\u8ba9\u6211\u4eec\u4ece\u5224\u522b\u5668\u5f00\u59cb\uff0c\u5728\u6574\u4e2a\u6559\u7a0b\u4e2d\u5b9a\u4e49\u4e00\u4e9b\u8981\u4f7f\u7528\u7684\u7b26\u53f7\u3002\u5047\u8bbe $x$ \u662f\u8868\u793a\u56fe\u50cf\u7684\u6570\u636e\u3002 \n$D(x)$ \u662f\u5224\u522b\u5668\u7f51\u7edc\uff0c\u5b83\u8f93\u51fa $x$ \u6765\u81ea\u8bad\u7ec3\u6570\u636e\u800c\u4e0d\u662f\u751f\u6210\u5668\u7684(\u6807\u91cf)\u6982\u7387\u3002\u8fd9\u91cc\uff0c\n\u7531\u4e8e\u6211\u4eec\u5904\u7406\u7684\u662f\u56fe\u50cf\uff0c$D(x)$ \u7684\u8f93\u5165\u662fHWC\u5927\u5c0f\u4e3a3x64x64\u7684\u56fe\u50cf\u3002\n\u76f4\u89c9\u4e0a\uff0c\u5f53 $x$ \u6765\u81ea\u8bad\u7ec3\u6570\u636e\u65f6\uff0c $D(x)$ \u5e94\u8be5\u662f\u9ad8\u7684\uff0c\n\u5f53 $x$ \u6765\u81ea\u751f\u6210\u5668\u65f6\uff0c$D(x)$  \u5e94\u8be5\u662f\u4f4e\u7684\u3002\n$D(x)$ \u4e5f\u53ef\u4ee5\u770b\u4f5c\u662f\u4e00\u79cd\u4f20\u7edf\u7684\u4e8c\u5143\u5206\u7c7b\u5668\u3002\n\n\u5bf9\u4e8e\u751f\u6210\u5668\u7684\u8868\u793a\u6cd5\uff0c\u8bbe $z$ \u662f\u4ece\u6807\u51c6\u6b63\u6001\u5206\u5e03\u4e2d\u91c7\u6837\u7684\u6f5c\u5728\u7a7a\u95f4\u5411\u91cf(latent space vector)\u3002\n$G(z)$ \u8868\u793a\u751f\u6210\u51fd\u6570\uff0c\u5b83\u5c06\u6f5c\u5728\u5411\u91cf $z$ \u6620\u5c04\u5230\u6570\u636e\u7a7a\u95f4\u3002 \n$G$ \u7684\u76ee\u6807\u662f\u4f30\u8ba1\u8bad\u7ec3\u6570\u636e\u7684\u5206\u5e03 ($p_{data}$) \uff0c\u4ece\u800c\u4ece\u4f30\u8ba1\u51fa\u7684\u5206\u5e03($p_g$)\u4e2d\u751f\u6210\u5047\u6837\u672c\u3002\n\n\u56e0\u6b64, $D(G(z))$ \u662f\u751f\u6210\u5668 $G$ \u8f93\u51fa\u7684\u56fe\u50cf\u4e3a\u771f\u5b9e\u56fe\u50cf\u7684\u6982\u7387(\u6807\u91cf)\u3002\n\u6b63\u5982 `\u53e4\u5fb7\u8d39\u7f57\u7684\u8bba\u6587 <https://papers.nips.cc/paper/5423-generative-adversarial-nets.pdf>`__, \u6240\u63cf\u8ff0\u7684\u90a3\u6837\uff0c\n$D$ \u548c $G$ \u73a9\u4e86\u4e00\u4e2a\u6781\u5c0f\u6781\u5927\u7684\u535a\u5f08(minimax game)\uff0c\u5176\u4e2d $D$ \n\u8bd5\u56fe\u6700\u5927\u5316\u5b83\u6b63\u786e\u5730\u5206\u7c7b\u771f\u56fe\u50cf\u548c\u5047\u56fe\u50cf\u7684\u6982\u7387($logD(x)$)\uff0c$G$ \u8bd5\u56fe\u6700\u5c0f\u5316 $D$ \n\u9884\u6d4b\u5176\u8f93\u51fa\u662f\u5047\u7684\u7684\u6982\u7387 ($log(1-D(G(x)))$) \u3002\u6587\u4e2d\u7ed9\u51fa\u4e86GAN\u635f\u5931\u51fd\u6570:\n\n\\begin{align}\\underset{G}{\\text{min}} \\underset{D}{\\text{max}}V(D,G) = \\mathbb{E}_{x\\sim p_{data}(x)}\\big[logD(x)\\big] + \\mathbb{E}_{z\\sim p_{z}(z)}\\big[log(1-D(G(x)))\\big]\\end{align}\n\n\u7406\u8bba\u4e0a\uff0c\u8fd9\u4e2a\u6781\u5c0f\u6781\u5927\u535a\u5f08\u7684\u89e3\u662f \u5728 $p_g = p_{data}$ \u65f6\uff0c\u5224\u522b\u5668\u53ea\u80fd\u968f\u673a\u731c\u6d4b\u8f93\u5165\u662f\u771f\u8fd8\u662f\u5047\u3002\n\u7136\u800c\uff0cGANS\u7684\u6536\u655b\u7406\u8bba\u4ecd\u5728\u79ef\u6781\u7814\u7a76\u4e4b\u4e2d\uff0c\u800c\u5728\u73b0\u5b9e\u4e2d\uff0c\u6a21\u578b\u5e76\u4e0d\u603b\u662f\u8bad\u7ec3\u5230\u8fd9\u4e00\u70b9\u3002\n\n\u4ec0\u4e48\u53c8\u662f DCGAN?\n~~~~~~~~~~~~~~~~\n\nDCGAN\u662f\u4e0a\u8ff0GANs\u7684\u76f4\u63a5\u6269\u5c55\uff0c\u53ea\u662f\u5b83\u5728\u9274\u522b\u5668\u548c\u751f\u6210\u5668\u4e2d\u5206\u522b\u663e\u5f0f\u5730\u4f7f\u7528\u5377\u79ef\u548c\u5377\u79ef\u8f6c\u7f6e\u5c42\u3002\n\u5b83\u9996\u5148\u7531Radford\u5728\u6587\u7ae0 `Unsupervised Representation Learning With\nDeep Convolutional Generative Adversarial Networks <https://arxiv.org/pdf/1511.06434.pdf>`__ \n\u63d0\u51fa\u4e86\u4e00\u79cd\u57fa\u4e8e\u6df1\u5c42\u5377\u79ef\u751f\u6210\u5bf9\u6297\u7f51\u7edc\u7684\u65e0\u76d1\u7763\u8868\u793a\u5b66\u4e60\u65b9\u6cd5\u3002\n\u5224\u522b\u5668\u7531\u8de8\u6b65\u5377\u79ef\u5c42(`strided convolution layers <https://pytorch.org/docs/stable/nn.html#torch.nn.Conv2d>`__ )\u3001\n\u6279\u5f52\u4e00\u5316\u5c42(`batch norm layers <https://pytorch.org/docs/stable/nn.html#torch.nn.BatchNorm2d>`__)\n\u548c `LeakyReLU <https://pytorch.org/docs/stable/nn.html#torch.nn.LeakyReLU>`__ \u6fc0\u6d3b\u51fd\u6570\u6784\u6210\u3002\n\u8f93\u5165\u662f3x64x64\u56fe\u50cf\uff0c\u8f93\u51fa\u662f \u8f93\u5165\u6765\u81ea\u771f\u5b9e\u6570\u636e\u5206\u5e03\u7684 \u6807\u91cf\u6982\u7387\u3002\n\u751f\u6210\u5668\u7531\u5377\u79ef\u8f6c\u7f6e\u5c42(`convolutional-transpose <https://pytorch.org/docs/stable/nn.html#torch.nn.ConvTranspose2d>`__)\u3001\n\u6279\u5f52\u4e00\u5316\u5c42\u548c `ReLU <https://pytorch.org/docs/stable/nn.html#relu>`__ \u6fc0\u6d3b\u5c42\u7ec4\u6210\u3002\n\u8f93\u5165\u662f\u4ece\u6807\u51c6\u6b63\u6001\u5206\u5e03\u4e2d\u63d0\u53d6\u7684\u6f5c\u5728\u77e2\u91cf(latent vector) $z$ \uff0c\u8f93\u51fa\u662f 3x64x64 \u7684RGB\u56fe\u50cf\u3002\n\u8de8\u6b65\u5377\u79ef\u8f6c\u7f6e\u5c42(strided conv-transpose layers)\u5141\u8bb8\u5c06\u6f5c\u5728\u77e2\u91cf(latent vector)\u53d8\u6362\u4e3a\u5177\u6709\u4e0e\u56fe\u50cf\u76f8\u540c\u7684shape\u3002\n\u4f5c\u8005\u8fd8\u5c31\u5982\u4f55\u8bbe\u7f6e\u4f18\u5316\u5668\u3001\u5982\u4f55\u8ba1\u7b97\u635f\u5931\u51fd\u6570\u4ee5\u53ca\u5982\u4f55\u521d\u59cb\u5316\u6a21\u578b\u7684\u6743\u91cd\u7b49\u65b9\u9762\u7ed9\u51fa\u4e86\u4e00\u4e9b\u63d0\u793a\uff0c\u8fd9\u4e9b\u90fd\u5c06\u5728\u540e\u9762\u7684\u7ae0\u8282\u4e2d\u52a0\u4ee5\u8bf4\u660e\u3002\n\n\n"
      ]
    },
    {
      "cell_type": "code",
      "execution_count": null,
      "metadata": {
        "collapsed": false
      },
      "outputs": [],
      "source": [
        "from __future__ import print_function\n#%matplotlib inline\nimport argparse\nimport os\nimport random\nimport torch\nimport torch.nn as nn\nimport torch.nn.parallel\nimport torch.backends.cudnn as cudnn\nimport torch.optim as optim\nimport torch.utils.data\nimport torchvision.datasets as dset\nimport torchvision.transforms as transforms\nimport torchvision.utils as vutils\nimport numpy as np\nimport matplotlib.pyplot as plt\nimport matplotlib.animation as animation\nfrom IPython.display import HTML\n\n# Set random seem for reproducibility\nmanualSeed = 999\n#manualSeed = random.randint(1, 10000) # use if you want new results\nprint(\"Random Seed: \", manualSeed)\nrandom.seed(manualSeed)\ntorch.manual_seed(manualSeed)"
      ]
    },
    {
      "cell_type": "markdown",
      "metadata": {},
      "source": [
        "\u8f93\u5165\n------\n\n\u6211\u4eec\u5148\u6765\u5b9a\u4e49\u4e00\u4e9b\u8f93\u5165:\n\n-  **dataroot** - dataset \u6587\u4ef6\u5939\u6839\u76ee\u5f55\u7684\u8def\u5f84\u3002\u6211\u4eec\u5c06\u5728\u4e0b\u4e00\u8282\u4e2d\u66f4\u591a\u5730\u8ba8\u8bba\u6570\u636e\u96c6\u3002\n-  **workers** - \u7528\u4e8e\u7528 DataLoader \u52a0\u8f7d\u6570\u636e\u7684\u5de5\u4f5c\u7ebf\u7a0b\u6570\u3002\n-  **batch_size** - \u8bad\u7ec3\u4e2d\u4f7f\u7528\u7684\u6279\u6b21\u5927\u5c0f\u3002DCGAN \u4f7f\u7528\u7684\u6279\u6b21\u5927\u5c0f\u4e3a128\u3002\n-  **image_size** - \u7528\u4e8e\u8bad\u7ec3\u7684\u56fe\u50cf\u7684\u7a7a\u95f4\u5927\u5c0f\u3002\u6b64\u5b9e\u73b0\u9ed8\u8ba4\u4e3a64x64\u3002\n   \u5982\u679c\u9700\u8981\u53e6\u4e00\u4e2a\u5c3a\u5bf8\uff0c\u5219\u5fc5\u987b\u6539\u53d8D\u548cG\u7684\u7ed3\u6784\u3002\u6709\u5173\u66f4\u591a\u7ec6\u8282\uff0c\u8bf7\u53c2\u9605 `\u8fd9\u91cc <https://github.com/pytorch/examples/issues/70>`__ \u3002\n-  **nc** - \u8f93\u5165\u56fe\u50cf\u7684\u989c\u8272\u901a\u9053\u6570. \u5f69\u8272\u56fe\u50cf\u662f3\u901a\u9053\u7684\u3002\n-  **nz** - \u6f5c\u5728\u5411\u91cf(latent vector)\u7684\u957f\u5ea6\n-  **ngf** - \u4e0e\u901a\u8fc7\u751f\u6210\u5668\u8fdb\u884c\u7684\u7279\u5f81\u6620\u5c04\u7684\u6df1\u5ea6\u6709\u5173\u3002\n-  **ndf** - \u8bbe\u7f6e\u901a\u8fc7\u9274\u522b\u5668\u4f20\u64ad\u7684\u7279\u5f81\u6620\u5c04\u7684\u6df1\u5ea6\u3002\n-  **num_epochs** - \u8981\u8fd0\u884c\u7684\u8bad\u7ec3\u56de\u5408(epoch)\u6570\u3002\u957f\u671f\u7684\u8bad\u7ec3\u53ef\u80fd\u4f1a\u5e26\u6765\u66f4\u597d\u7684\u6548\u679c\uff0c\u4f46\u4e5f\u9700\u8981\u66f4\u957f\u7684\u65f6\u95f4\u3002\n-  **lr** - \u7528\u4e8e\u8bad\u7ec3\u7684\u5b66\u4e60\u7387. \u5c31\u50cf\u5728 DCGAN \u8bba\u6587\u4e2d\u5efa\u8bae\u7684, \u8fd9\u4e2a\u53c2\u6570\u8bbe\u4e3a 0.0002 \u3002\n-  **beta1** - Adam \u4f18\u5316\u5668\u7684beta1\u8d85\u53c2\u6570\u3002 \u5c31\u50cf\u5728 DCGAN \u8bba\u6587\u4e2d\u5efa\u8bae\u7684, \u8fd9\u4e2a\u53c2\u6570\u8bbe\u4e3a 0.5 \u3002\n-  **ngpu** - \u53ef\u7528\u7684 GPUs \u6570\u91cf\u3002 \u5982\u679c\u6ca1\u6709GPU, \u4ee3\u7801\u5c06\u4f1a\u5728 CPU \u6a21\u5f0f\u4e0b\u8fd0\u884c\u3002 \u5982\u679c\u6709\u591a\u4e2aGPU,\u90a3\u5c31\u53ef\u4ee5\u52a0\u901f\u8ba1\u7b97\u4e86\u3002\n\n\n"
      ]
    },
    {
      "cell_type": "code",
      "execution_count": null,
      "metadata": {
        "collapsed": false
      },
      "outputs": [],
      "source": [
        "# Root directory for dataset\ndataroot = \"./data/celeba\"\n\n# Number of workers for dataloader\nworkers = 2\n\n# Batch size during training\nbatch_size = 128\n\n# Spatial size of training images. All images will be resized to this\n#   size using a transformer.\nimage_size = 64\n\n# Number of channels in the training images. For color images this is 3\nnc = 3\n\n# Size of z latent vector (i.e. size of generator input)\nnz = 100\n\n# Size of feature maps in generator\nngf = 64\n\n# Size of feature maps in discriminator\nndf = 64\n\n# Number of training epochs\nnum_epochs = 5\n\n# Learning rate for optimizers\nlr = 0.0002\n\n# Beta1 hyperparam for Adam optimizers\nbeta1 = 0.5\n\n# Number of GPUs available. Use 0 for CPU mode.\nngpu = 1"
      ]
    },
    {
      "cell_type": "markdown",
      "metadata": {},
      "source": [
        "\u6570\u636e\n----\n\n\u5728\u672c\u6559\u7a0b\u4e2d\uff0c\u6211\u4eec\u5c06\u4f7f\u7528 `Celeb-A Faces  <http://mmlab.ie.cuhk.edu.hk/projects/CelebA.html>`__  \u6570\u636e\u96c6\uff0c\n\u8be5\u6570\u636e\u96c6\u53ef\u4ee5\u5728\u94fe\u63a5\u7684\u7ad9\u70b9\u4e0a\u4e0b\u8f7d\uff0c\u4e5f\u53ef\u4ee5\u5728GoogleDrive\u4e2d\u4e0b\u8f7d\u3002dataset\u5c06\u4f5c\u4e3a\u4e00\u4e2a\u540d\u4e3a *img_align_celeba.zip* \u7684\u6587\u4ef6\u4e0b\u8f7d\u3002\n\u4e0b\u8f7d\u5b8c\u540e\uff0c\u521b\u5efa\u4e00\u4e2a\u540d\u4e3a *celeba* \u7684\u76ee\u5f55\uff0c\u5e76\u5c06zip\u6587\u4ef6\u89e3\u538b\u7f29\u5230\u8be5\u76ee\u5f55\u4e2d\u3002\n\u7136\u540e\uff0c\u5c06\u6b64\u7b14\u8bb0\u672c\u7684 *dataroot* \u8f93\u5165\u8bbe\u7f6e\u4e3a\u60a8\u521a\u521a\u521b\u5efa\u7684renarba\u76ee\u5f55\u3002\u7531\u6b64\u4ea7\u751f\u7684\u76ee\u5f55\u7ed3\u6784\u5e94\u8be5\u662f\uff1a\n\n::\n\n   /path/to/celeba\n       -> img_align_celeba  \n           -> 188242.jpg\n           -> 173822.jpg\n           -> 284702.jpg\n           -> 537394.jpg\n              ...\n\n\u8fd9\u662f\u4e00\u4e2a\u91cd\u8981\u7684\u6b65\u9aa4\uff0c\u56e0\u4e3a\u6211\u4eec\u5c06\u4f7f\u7528 ImageFolder \u7c7b\uff0c\u5b83\u9700\u8981\u5728dataset\u7684\u6839\u6587\u4ef6\u5939\u4e2d\u6709\u5b50\u76ee\u5f55\u3002\n\u73b0\u5728\uff0c\u6211\u4eec\u53ef\u4ee5\u521b\u5efa dataset \uff0cdataloader \uff0c\u8bbe\u7f6e\u8bbe\u5907\u8fd0\u884c\uff0c\u5e76\u6700\u7ec8\u53ef\u89c6\u5316\u4e00\u4e9b\u8bad\u7ec3\u6570\u636e\u3002\n\n\n"
      ]
    },
    {
      "cell_type": "code",
      "execution_count": null,
      "metadata": {
        "collapsed": false
      },
      "outputs": [],
      "source": [
        "# We can use an image folder dataset the way we have it setup.\n# Create the dataset\ndataset = dset.ImageFolder(root=dataroot,\n                           transform=transforms.Compose([\n                               transforms.Resize(image_size),\n                               transforms.CenterCrop(image_size),\n                               transforms.ToTensor(),\n                               transforms.Normalize((0.5, 0.5, 0.5), (0.5, 0.5, 0.5)),\n                           ]))\n# Create the dataloader\ndataloader = torch.utils.data.DataLoader(dataset, batch_size=batch_size,\n                                         shuffle=True, num_workers=workers)\n\n# Decide which device we want to run on\ndevice = torch.device(\"cuda:0\" if (torch.cuda.is_available() and ngpu > 0) else \"cpu\")\n\n# Plot some training images\nreal_batch = next(iter(dataloader))\nplt.figure(figsize=(8,8))\nplt.axis(\"off\")\nplt.title(\"Training Images\")\nplt.imshow(np.transpose(vutils.make_grid(real_batch[0].to(device)[:64], padding=2, normalize=True).cpu(),(1,2,0)))"
      ]
    },
    {
      "cell_type": "markdown",
      "metadata": {},
      "source": [
        "\u5b9e\u73b0\n--------------\n\n\u5728\u8bbe\u7f6e\u4e86\u8f93\u5165\u53c2\u6570\u5e76\u51c6\u5907\u597d\u6570\u636e\u96c6\u4e4b\u540e\uff0c\u6211\u4eec\u73b0\u5728\u53ef\u4ee5\u8fdb\u5165\u5b9e\u73b0\u4e86\u3002\u6211\u4eec\u5c06\u4ecewigthts\u521d\u59cb\u5316\u7b56\u7565\u5f00\u59cb\uff0c\n\u7136\u540e\u8be6\u7ec6\u8ba8\u8bba\u751f\u6210\u5668\u3001\u5224\u522b\u5668\u3001\u635f\u5931\u51fd\u6570\u548c\u8bad\u7ec3\u5faa\u73af\u3002\n\n\u6743\u91cd\u521d\u59cb\u5316\n~~~~~~~~~~~~~~~~~~~~~\n\n\u4eceDCGAN\u7684\u6587\u732e\u4e2d\uff0c\u4f5c\u8005\u6307\u51fa\u6240\u6709\u6a21\u578b\u7684\u6743\u91cd\u90fd\u5e94\u4ece\u5747\u503c=0\uff0cstdev=0.2\u7684\u6b63\u6001\u5206\u5e03\u4e2d\u968f\u673a\u521d\u59cb\u5316\u3002\n\u6743\u503c\u51fd\u6570\u4ee5\u521d\u59cb\u5316\u6a21\u578b\u4f5c\u4e3a\u8f93\u5165\uff0c\u5e76\u91cd\u65b0\u521d\u59cb\u5316\u6240\u6709\u5377\u79ef\u3001\u5377\u79ef-\u8f6c\u7f6e\u548c\u6279\u5904\u7406\u5f52\u4e00\u5316\u5c42\uff0c\u4ee5\u6ee1\u8db3\u8fd9\u4e00\u6807\u51c6\u3002\n\u8be5\u51fd\u6570\u5728\u521d\u59cb\u5316\u540e\u7acb\u5373\u5e94\u7528\u4e8e\u6a21\u578b\u3002\n\n\n"
      ]
    },
    {
      "cell_type": "code",
      "execution_count": null,
      "metadata": {
        "collapsed": false
      },
      "outputs": [],
      "source": [
        "# custom weights initialization called on netG and netD\ndef weights_init(m):\n    classname = m.__class__.__name__\n    if classname.find('Conv') != -1:\n        nn.init.normal_(m.weight.data, 0.0, 0.02)\n    elif classname.find('BatchNorm') != -1:\n        nn.init.normal_(m.weight.data, 1.0, 0.02)\n        nn.init.constant_(m.bias.data, 0)"
      ]
    },
    {
      "cell_type": "markdown",
      "metadata": {},
      "source": [
        "\u751f\u6210\u5668(Generator)\n~~~~~~~~~~~~~~~~~~~~~~\n\n\u751f\u6210\u5668 $G$ \u88ab\u8bbe\u8ba1\u7528\u4e8e\u5c06\u6f5c\u5728\u7a7a\u95f4\u77e2\u91cf($z$)\u6620\u5c04\u5230\u6570\u636e\u7a7a\u95f4\u3002\u7531\u4e8e\u6211\u4eec\u7684\u6570\u636e\u662f\u56fe\u50cf\uff0c\n\u5c06 $z$ \u8f6c\u6362\u4e3a\u6570\u636e\u7a7a\u95f4\u610f\u5473\u7740\u6700\u7ec8\u521b\u5efa\u4e00\u4e2a\u4e0e\u8bad\u7ec3\u56fe\u50cf(\u53733x64x64)\u76f8\u540c\u5927\u5c0f\u7684RGB\u56fe\u50cf\u3002\n\u5728\u5b9e\u8df5\u4e2d\uff0c\u8fd9\u662f\u901a\u8fc7\u4e00\u7cfb\u5217strided 2d convolutional transpose layers \u6765\u5b9e\u73b0\u7684\uff0c\n\u6bcf\u4e2a\u5c42\u4e0e\u4e00\u4e2a2d batch norm layer\u548c\u4e00\u4e2arelu activation\u5c42\u914d\u5bf9\u3002\n\u751f\u6210\u5668\u7684\u8f93\u51fa\u9001\u5165\u5230\u4e00\u4e2atanh\u51fd\u6570\uff0c\u5c06\u5176\u8f93\u51fa\u503c\u538b\u7f29\u5728 $[-1,1]$ \u7684\u8303\u56f4\u3002\n\u503c\u5f97\u6ce8\u610f\u7684\u662fbatch norm functions\u662f\u5728conv-transpose layers\u4e4b\u540e\u7684\uff0c\n\u56e0\u4e3a\u8fd9\u662fDCGAN\u8bba\u6587\u7684\u4e00\u4e2a\u5173\u952e\u8d21\u732e\u3002\u8fd9\u4e9b\u5c42\u6709\u52a9\u4e8e\u8bad\u7ec3\u671f\u95f4\u7684\u68af\u5ea6\u6d41\u3002\nDCGAN\u6587\u7ae0\u4e2d\u7ed9\u51fa\u7684\u751f\u6210\u5668\u7684\u7ed3\u6784\u5982\u4e0b\u6240\u793a\u3002\n\n.. figure:: /_static/img/dcgan_generator.png\n   :alt: dcgan_generator\n\n\u6ce8\u610f\uff0c\u6211\u4eec\u5728\u8f93\u5165\u90e8\u5206(*nz*, *ngf*, \u548c *nc*) \u4e2d\u8bbe\u7f6e\u7684\u8f93\u5165\u5982\u4f55\u5f71\u54cd\u4ee3\u7801\u4e2d\u7684\u751f\u6210\u5668\u4f53\u7cfb\u7ed3\u6784\u3002\n*nz* \u662f z \u8f93\u5165\u5411\u91cf\u7684\u957f\u5ea6\uff0c *ngf*  \u4e0e\u901a\u8fc7\u751f\u6210\u5668\u4f20\u64ad\u7684\u7279\u5f81\u56fe\u7684\u5927\u5c0f\u6709\u5173\uff0c\n*nc* \u662f\u8f93\u51fa\u56fe\u50cf\u4e2d\u7684\u901a\u9053\u6570(\u5bf9\u4e8eRGB\u56fe\u50cf\u8bbe\u7f6e\u4e3a3)\u3002\u4e0b\u9762\u662f\u751f\u6210\u5668\u7684\u4ee3\u7801\u3002\n\n\n"
      ]
    },
    {
      "cell_type": "code",
      "execution_count": null,
      "metadata": {
        "collapsed": false
      },
      "outputs": [],
      "source": [
        "# Generator Code\n\nclass Generator(nn.Module):\n    def __init__(self, ngpu):\n        super(Generator, self).__init__()\n        self.ngpu = ngpu\n        self.main = nn.Sequential(\n            # input is Z, going into a convolution\n            nn.ConvTranspose2d( nz, ngf * 8, 4, 1, 0, bias=False),\n            nn.BatchNorm2d(ngf * 8),\n            nn.ReLU(True),\n            # state size. (ngf*8) x 4 x 4\n            nn.ConvTranspose2d(ngf * 8, ngf * 4, 4, 2, 1, bias=False),\n            nn.BatchNorm2d(ngf * 4),\n            nn.ReLU(True),\n            # state size. (ngf*4) x 8 x 8\n            nn.ConvTranspose2d( ngf * 4, ngf * 2, 4, 2, 1, bias=False),\n            nn.BatchNorm2d(ngf * 2),\n            nn.ReLU(True),\n            # state size. (ngf*2) x 16 x 16\n            nn.ConvTranspose2d( ngf * 2, ngf, 4, 2, 1, bias=False),\n            nn.BatchNorm2d(ngf),\n            nn.ReLU(True),\n            # state size. (ngf) x 32 x 32\n            nn.ConvTranspose2d( ngf, nc, 4, 2, 1, bias=False),\n            nn.Tanh()\n            # state size. (nc) x 64 x 64\n        )\n\n    def forward(self, input):\n        return self.main(input)"
      ]
    },
    {
      "cell_type": "markdown",
      "metadata": {},
      "source": [
        "\u73b0\u5728\uff0c\u6211\u4eec\u53ef\u4ee5\u5b9e\u4f8b\u5316\u751f\u6210\u5668\u5e76\u5e94\u7528 ``weights_init`` \u51fd\u6570\u3002\n\u67e5\u770b\u6253\u5370\u7684\u6a21\u578b\uff0c\u770b\u770b\u751f\u6210\u5668\u5bf9\u8c61\u662f\u5982\u4f55\u6784\u9020\u7684\u3002\n\n\n"
      ]
    },
    {
      "cell_type": "code",
      "execution_count": null,
      "metadata": {
        "collapsed": false
      },
      "outputs": [],
      "source": [
        "# \u521b\u5efa\u751f\u6210\u5668\u5bf9\u8c61\nnetG = Generator(ngpu).to(device)\n\n# Handle multi-gpu if desired\nif (device.type == 'cuda') and (ngpu > 1):\n    netG = nn.DataParallel(netG, list(range(ngpu)))\n\n# \u5e94\u7528 weights_init \u51fd\u6570 \u6765\u968f\u673a\u521d\u59cb\u5316 \u6240\u6709\u6743\u91cd\u5230 mean=0, stdev=0.2.\nnetG.apply(weights_init)\n\n# \u6253\u5370\u8f93\u51fa\u6a21\u578b\nprint(netG)"
      ]
    },
    {
      "cell_type": "markdown",
      "metadata": {},
      "source": [
        "\u5224\u522b\u5668(Discriminator)\n~~~~~~~~~~~~~~~~~~~~~~~~~~~\n\n\u5982\u4e0a\u6240\u8ff0\uff0c\u5224\u522b\u5668 $D$ \u662f\u4e00\u79cd\u4e24\u7c7b\u5206\u7c7b\u7f51\u7edc\uff0c\u5b83\u4ee5\u56fe\u50cf\u4e3a\u8f93\u5165\uff0c\u8f93\u51fa \u8f93\u5165\u56fe\u50cf\u4e3a\u771f(\u800c\u4e0d\u662f\u5047)\u7684\u6807\u91cf\u6982\u7387\u3002\n\u8fd9\u91cc\uff0c$D$ \u63a5\u53d7\u4e00\u4e2a 3x64x64 \u8f93\u5165\u56fe\u50cf\uff0c\u901a\u8fc7\u4e00\u7cfb\u5217Conv2d\u3001BatchNorm2d\u548cLeakyReLU\u5c42\u5904\u7406\u5b83\uff0c\n\u5e76\u901a\u8fc7 sigmoid \u6fc0\u6d3b\u51fd\u6570\u8f93\u51fa\u6700\u7ec8\u7684\u6982\u7387\u3002\u5982\u679c\u6709\u5fc5\u8981\u7684\u8bdd\uff0c\u53ef\u4ee5\u7528\u66f4\u591a\u7684\u5c42\u6765\u6269\u5c55\u8fd9\u4e2a\u4f53\u7cfb\u7ed3\u6784\uff0c\n\u4f46\u662f\u4f7f\u7528strided convolution\u3001BatchNorm\u548cLeakyReLU\u662f\u5f88\u6709\u610f\u4e49\u7684\u3002DCGAN\u7684\u8bba\u6587\u63d0\u5230\uff0c\n\u4f7f\u7528strided convolution\u800c\u4e0d\u662fpooling\u6765\u964d\u91c7\u6837\u662f\u4e00\u79cd\u5f88\u597d\u7684\u505a\u6cd5\uff0c\n\u56e0\u4e3a\u5b83\u8ba9\u7f51\u7edc\u5b66\u4e60\u81ea\u5df1\u7684\u6c60\u5316\u51fd\u6570\u3002\u6b64\u5916\uff0cbatch norm \u548cleaky relu\u51fd\u6570\u4fc3\u8fdb\u4e86\u5065\u5eb7\u7684\u68af\u5ea6\u6d41\uff0c\n\u8fd9\u5bf9\u4e8e $G$ \u548c $D$ \u7684\u5b66\u4e60\u8fc7\u7a0b\u90fd\u662f\u81f3\u5173\u91cd\u8981\u7684\u3002\n\n\n"
      ]
    },
    {
      "cell_type": "markdown",
      "metadata": {},
      "source": [
        "Discriminator Code\n\n"
      ]
    },
    {
      "cell_type": "code",
      "execution_count": null,
      "metadata": {
        "collapsed": false
      },
      "outputs": [],
      "source": [
        "class Discriminator(nn.Module):\n    def __init__(self, ngpu):\n        super(Discriminator, self).__init__()\n        self.ngpu = ngpu\n        self.main = nn.Sequential(\n            # input is (nc) x 64 x 64\n            nn.Conv2d(nc, ndf, 4, 2, 1, bias=False),\n            nn.LeakyReLU(0.2, inplace=True),\n            # state size. (ndf) x 32 x 32\n            nn.Conv2d(ndf, ndf * 2, 4, 2, 1, bias=False),\n            nn.BatchNorm2d(ndf * 2),\n            nn.LeakyReLU(0.2, inplace=True),\n            # state size. (ndf*2) x 16 x 16\n            nn.Conv2d(ndf * 2, ndf * 4, 4, 2, 1, bias=False),\n            nn.BatchNorm2d(ndf * 4),\n            nn.LeakyReLU(0.2, inplace=True),\n            # state size. (ndf*4) x 8 x 8\n            nn.Conv2d(ndf * 4, ndf * 8, 4, 2, 1, bias=False),\n            nn.BatchNorm2d(ndf * 8),\n            nn.LeakyReLU(0.2, inplace=True),\n            # state size. (ndf*8) x 4 x 4\n            nn.Conv2d(ndf * 8, 1, 4, 1, 0, bias=False),\n            nn.Sigmoid()\n        )\n\n    def forward(self, input):\n        return self.main(input)"
      ]
    },
    {
      "cell_type": "markdown",
      "metadata": {},
      "source": [
        "\u73b0\u5728\uff0c\u548c\u751f\u6210\u5668\u4e00\u6837\uff0c\u6211\u4eec\u53ef\u4ee5\u521b\u5efa\u5224\u522b\u5668\uff0c\u5e94\u7528 ``weights_init`` \u51fd\u6570\uff0c\u5e76\u6253\u5370\u6a21\u578b\u7684\u7ed3\u6784\u3002\n\n\n"
      ]
    },
    {
      "cell_type": "code",
      "execution_count": null,
      "metadata": {
        "collapsed": false
      },
      "outputs": [],
      "source": [
        "# \u521b\u5efa Discriminator\nnetD = Discriminator(ngpu).to(device)\n\n# Handle multi-gpu if desired\nif (device.type == 'cuda') and (ngpu > 1):\n    netD = nn.DataParallel(netD, list(range(ngpu)))\n    \n# \u5e94\u7528 weights_init \u51fd\u6570\uff0c\u968f\u673a\u521d\u59cb\u5316\u6240\u6709\u6743\u91cd\u5230 mean=0, stdev=0.2.\nnetD.apply(weights_init)\n\n# \u6253\u5370\u8f93\u51fa\u6a21\u578b\nprint(netD)"
      ]
    },
    {
      "cell_type": "markdown",
      "metadata": {},
      "source": [
        "\u635f\u5931\u51fd\u6570\u548c\u4f18\u5316\u5668\n~~~~~~~~~~~~~~~~~~~~~~~~~~~~~\n\n\u5f53 $D$ \u548c $G$ \u8bbe\u7f6e\u597d\u4ee5\u540e, \u6211\u4eec\u53ef\u4ee5\u6307\u5b9a\u5b83\u4eec\u5982\u4f55\u901a\u8fc7\u635f\u5931\u51fd\u6570\u548c\u4f18\u5316\u5668\u5b66\u4e60\u3002\n\u6211\u4eec\u5c06\u4f7f\u7528\u4e8c\u503c\u4ea4\u53c9\u71b5\u635f\u5931(Binary Cross Entropy loss (`BCELoss <https://pytorch.org/docs/stable/nn.html#torch.nn.BCELoss>`__))\n\u51fd\u6570\uff0c\u5728 PyTorch \u4e2d\u662f\u5982\u4e0b\u5b9a\u4e49\u7684:\n\n\\begin{align}\\ell(x, y) = L = \\{l_1,\\dots,l_N\\}^\\top, \\quad l_n = - \\left[ y_n \\cdot \\log x_n + (1 - y_n) \\cdot \\log (1 - x_n) \\right]\\end{align}\n\n\u6ce8\u610f\u8fd9\u4e2a\u51fd\u6570\u63d0\u4f9b\u76ee\u6807\u51fd\u6570\u4e2d\u7684\u4e24\u4e2a\u5bf9\u6570\u7ec4\u4ef6\u7684\u8ba1\u7b97 (i.e. $log(D(x))$ \u548c $log(1-D(G(z)))$) \u3002\n\u6211\u4eec\u53ef\u4ee5\u4f7f\u7528 $y$ \u6307\u5b9a BCE \u7b49\u5f0f\u7684\u54ea\u4e00\u90e8\u5206\u5c06\u88ab\u8ba1\u7b97\u3002 \u8fd9\u5c06\u5728\u8bad\u7ec3\u8fc7\u7a0b\u4e2d\u5b8c\u6210\uff0c\u7a0d\u540e\u4f1a\u8bb2\u5230\u3002\u4f46\u662f\u7406\u89e3\u6211\u4eec\u5982\u4f55\u901a\u8fc7\n\u6539\u53d8 $y$ \u7684\u503c(i.e.\u00a0GT labels) \u53bb\u9009\u62e9\u6211\u4eec\u60f3\u8981\u8ba1\u7b97\u7684\u635f\u5931\u51fd\u6570\u7684\u4e00\u90e8\u5206\u662f\u975e\u5e38\u91cd\u8981\u7684\u3002\n\n\u63a5\u4e0b\u6765\uff0c\u6211\u4eec\u5c06\u771f\u6807\u7b7e\u5b9a\u4e49\u4e3a1\uff0c\u5047\u6807\u7b7e\u5b9a\u4e49\u4e3a0\u3002\u8fd9\u4e9b\u6807\u7b7e\u5c06\u7528\u4e8e\u8ba1\u7b97 $D$ \u548c $G$ \u7684\u635f\u5931\uff0c\n\u8fd9\u4e5f\u662f\u5728\u539f\u59cbGAN\u6587\u7ae0\u4e2d\u4f7f\u7528\u7684\u7ea6\u5b9a\u3002\u6700\u540e\uff0c\u6211\u4eec\u5efa\u7acb\u4e86\u4e24\u4e2a\u5206\u5f00\u7684\u4f18\u5316\u5668\uff0c\u4e00\u4e2a\u7528\u4e8e $D$ \uff0c\n\u4e00\u4e2a\u7528\u4e8e $G$ \u3002\u6b63\u5982DCGAN\u8bba\u6587\u6240\u6307\u51fa\u7684\uff0c\u4e24\u8005\u90fd\u662fAdam\u4f18\u5316\u5668\uff0c\u5176\u5b66\u4e60\u901f\u7387\u4e3a0.0002\uff0cBeta1=0.5\u3002\n\u4e3a\u4e86\u8ddf\u8e2a\u751f\u6210\u5668\u7684\u5b66\u4e60\u8fc7\u7a0b\uff0c\u6211\u4eec\u5c06\u4ece\u9ad8\u65af\u5206\u5e03(\u5373\u56fa\u5b9a\u566a\u58f0)\u4e2d\u751f\u6210\u56fa\u5b9a\u6279\u6b21\u7684\u6f5c\u5728\u5411\u91cf(latent vectors)\u3002\n\u5728\u8bad\u7ec3\u5faa\u73af\u4e2d\uff0c\u6211\u4eec\u5c06\u5468\u671f\u6027\u5730\u5c06\u8fd9\u4e2a\u56fa\u5b9a\u7684\u566a\u58f0\u8f93\u5165\u5230  $G$  \u4e2d\u3002\u5728\u8fed\u4ee3\u8fc7\u7a0b\u4e2d\uff0c\u6211\u4eec\u5c06\u770b\u5230\u56fe\u50cf\u4ece\u566a\u58f0\u4e2d\u5f62\u6210\u3002\n\n\n"
      ]
    },
    {
      "cell_type": "code",
      "execution_count": null,
      "metadata": {
        "collapsed": false
      },
      "outputs": [],
      "source": [
        "# \u521d\u59cb\u5316 BCELoss \u51fd\u6570\ncriterion = nn.BCELoss()\n\n# \u521b\u5efa\u4e00\u6279 latent vectors \u7528\u4e8e\u53ef\u89c6\u5316\u751f\u6210\u5668\u7684\u8fdb\u5ea6\u8fc7\u7a0b\nfixed_noise = torch.randn(64, nz, 1, 1, device=device)\n\n# \u4e3a\u5728\u8bad\u7ec3\u8fc7\u7a0b\u4e2d\u7684\u771f\u5047\u6807\u7b7e\u5efa\u7acb\u7ea6\u5b9a\nreal_label = 1\nfake_label = 0\n\n# \u4e3a G \u548c D \u8bbe\u7f6e Adam optimizers \noptimizerD = optim.Adam(netD.parameters(), lr=lr, betas=(beta1, 0.999))\noptimizerG = optim.Adam(netG.parameters(), lr=lr, betas=(beta1, 0.999))"
      ]
    },
    {
      "cell_type": "markdown",
      "metadata": {},
      "source": [
        "\u8bad\u7ec3\n~~~~~~~~\n\n\u6700\u540e\uff0c\u73b0\u5728\u6211\u4eec\u5df2\u7ecf\u5b9a\u4e49\u4e86GAN\u6846\u67b6\u7684\u6240\u6709\u90e8\u5206\uff0c\u6211\u4eec\u53ef\u4ee5\u5bf9\u5176\u8fdb\u884c\u8bad\u7ec3\u3002\u8bf7\u6ce8\u610f\uff0c\n\u8bad\u7ec3GANs\u662f\u4e00\u79cd\u827a\u672f\uff0c\u56e0\u4e3a\u4e0d\u6b63\u786e\u7684\u8d85\u53c2\u6570\u8bbe\u7f6e\u4f1a\u5bfc\u81f4\u6a21\u5f0f\u5d29\u6e83\uff0c\n\u800c\u5bf9\u9519\u8bef\u7684\u539f\u56e0\u51e0\u4e4e\u6ca1\u6709\u89e3\u91ca\u3002\u5728\u8fd9\u91cc\uff0c\u6211\u4eec\u5c06\u5bc6\u5207\u9075\u5faa\u53e4\u5fb7\u8d39\u7f57\u8bba\u6587\u4e2d\u7684\u7b97\u6cd51\uff0c\n\u540c\u65f6\u9075\u5faa\u5728 `ganhacks <https://github.com/soumith/ganhacks>`__ \u4e2d\u663e\u793a\u7684\u4e00\u4e9b\u6700\u4f73\u5b9e\u8df5\u3002\n\u4e5f\u5c31\u662f\u8bf4\uff0c\u6211\u4eec\u5c06\u201c\u4e3a\u771f\u5047\u56fe\u50cf\u6784\u9020\u4e0d\u540c\u7684\u5c0f\u6279\u91cf\u201d\u56fe\u50cf\uff0c\n\u5e76\u8c03\u6574G\u7684\u76ee\u6807\u51fd\u6570\uff0c\u4f7f $logD(G(z))$ \u6700\u5927\u5316\u3002\u8bad\u7ec3\u5206\u4e3a\u4e24\u4e2a\u4e3b\u8981\u90e8\u5206\u3002\n\u7b2c1\u90e8\u5206\u66f4\u65b0\u5224\u522b\u5668\uff0c\u7b2c2\u90e8\u5206\u66f4\u65b0\u751f\u6210\u5668\u3002\n\n**Part 1 - \u8bad\u7ec3\u5224\u522b\u5668(Discriminator) **\n\n\u56de\u60f3\u4e00\u4e0b\uff0c\u8bad\u7ec3\u5224\u522b\u5668\u7684\u76ee\u6807\u662f\u6700\u5927\u5316\u5c06\u7ed9\u5b9a\u7684\u8f93\u5165\u6b63\u786e\u5206\u7c7b\u4e3a\u771f\u6216\u5047\u7684\u6982\u7387\u3002\n\u6211\u4eec\u5e0c\u671b\u201c\u901a\u8fc7\u63d0\u5347\u5224\u522b\u5668\u7684\u968f\u673a\u68af\u5ea6\u6765\u66f4\u65b0\u5224\u522b\u5668\u201d\u3002\n\u5b9e\u9645\u4e0a\uff0c\u6211\u4eec\u5e0c\u671b\u6700\u5927\u5316 $log(D(x)) + log(1-D(G(z)))$ \u3002\n\u7531\u4e8e\u6765\u81ea\u4e8eganhacks \u7684separate mini-batch\u7684\u5efa\u8bae\uff0c\n\u6211\u4eec\u5c06\u7528\u4e24\u4e2a\u6b65\u9aa4\u6765\u5b9e\u73b0\u4e0a\u8ff0\u6700\u5927\u5316\u7684\u8ba1\u7b97\u8fc7\u7a0b\u3002\u9996\u5148\u4ece\u8bad\u7ec3\u96c6\u6784\u9020\u4e00\u6279\u771f\u5b9e\u6837\u672c\uff0c\u524d\u5411\u901a\u8fc7 $D$ \uff0c\n\u8ba1\u7b97\u635f\u5931($log(D(x))$) \uff0c\u7136\u540e\u8ba1\u7b97\u540e\u4f20\u68af\u5ea6\u3002 \n\u5176\u6b21\uff0c\u7528\u5f53\u524d\u751f\u6210\u5668\u6784\u9020\u4e00\u6279\u5047\u6837\u672c\uff0c\u901a\u8fc7 $D$ \u5411\u524d\u4f20\u9012\u8be5\u6279\u6837\u672c\uff0c\n\u8ba1\u7b97\u635f\u5931 ($log(1-D(G(z)))$) \uff0c\u5e76\u7528\u53cd\u5411\u4f20\u9012\u7d2f\u79ef\u68af\u5ea6\u3002\n\u73b0\u5728\uff0c\u6709\u4e86\u5168\u771f\u548c\u5168\u5047\u6279\u6b21\u6837\u672c\u4e2d\u79ef\u7d2f\u7684\u68af\u5ea6\uff0c\u6211\u4eec\u518d\u8c03\u7528\u5224\u522b\u5668\u7684\u4f18\u5316\u5668\u8fdb\u884c\u4e00\u6b65\u4f18\u5316\u3002\n\n**Part 2 - \u8bad\u7ec3\u751f\u6210\u5668(Generator) **\n\n\u6b63\u5982\u5728\u6700\u521d\u7684\u8bba\u6587\u4e2d\u6240\u8ff0\uff0c\u6211\u4eec\u5e0c\u671b\u901a\u8fc7\u6700\u5c0f\u5316 $log(1-D(G(z)))$ \u6765\u8bad\u7ec3\u751f\u6210\u5668\uff0c\u4ee5\u4ea7\u751f\u66f4\u597d\u7684\u5047\u6837\u672c\u3002\n\u6b63\u5982\u524d\u9762\u63d0\u5230\u7684\uff0cGoodfellow\u6ca1\u6709\u63d0\u4f9b\u8db3\u591f\u7684\u68af\u5ea6\uff0c\u7279\u522b\u662f\u5728\u5b66\u4e60\u8fc7\u7a0b\u7684\u65e9\u671f\u3002\u4f5c\u4e3a\u4fee\u6b63\uff0c\n\u6211\u4eec\u5e0c\u671b\u6700\u5927\u5316 $log(D(G(z)))$ \u3002\u5728\u4ee3\u7801\u4e2d\uff0c\u6211\u4eec\u901a\u8fc7\u4ee5\u4e0b\u65b9\u6cd5\u5b9e\u73b0\u4e86\u8fd9\u4e00\u70b9\uff1a\n\u7528\u7b2c1\u90e8\u5206\u7684\u5224\u522b\u5668\u5bf9\u751f\u6210\u5668\u7684\u8f93\u51fa\u8fdb\u884c\u5206\u7c7b\uff0c\u4f7f\u7528\u771f\u6807\u7b7e\u4f5c\u4e3aGroundTruth\u8ba1\u7b97G\u7684\u635f\u5931, \n\uff0c\u968f\u540e\u5728\u5411\u540e\u4f20\u9012\u4e2d\u8ba1\u7b97G\u7684\u68af\u5ea6\uff0c\u6700\u540e\u7528\u4f18\u5316\u5668\u7684 ``step`` \u65b9\u6cd5\u66f4\u65b0G\u7684\u53c2\u6570\u3002\n\u4f7f\u7528\u771f\u6807\u7b7e\u4f5c\u4e3aGT\u6807\u7b7e\u7528\u4e8e\u635f\u5931\u51fd\u6570\u7684\u8ba1\u7b97\u4f3c\u4e4e\u6709\u8fdd\u76f4\u89c9\uff0c\u4f46\u8fd9\u5141\u8bb8\u6211\u4eec\u4f7f\u7528BCELoss\u7684 $log(x)$ \u90e8\u5206\n(\u800c\u4e0d\u662f $log(1-x)$ \u90e8\u5206)\uff0c\u8fd9\u6b63\u662f\u6211\u4eec\u60f3\u8981\u7684\u3002\n\n\u6700\u540e\uff0c\u6211\u4eec\u5c06\u505a\u4e00\u4e9b\u7edf\u8ba1\u62a5\u544a\uff0c\u5e76\u5728\u6bcf\u4e2aepoch\u7ed3\u675f\u65f6\uff0c\u6211\u4eec\u5c06\u628a\u56fa\u5b9a\u6279\u6b21\u566a\u58f0\u63a8\u5230\u751f\u6210\u5668\u4e2d\n\u4ee5\u53ef\u89c6\u5316\u5730\u8ddf\u8e2aG\u7684\u8bad\u7ec3\u8fdb\u5ea6\u3002\u6240\u62a5\u544a\u7684\u8bad\u7ec3\u7edf\u8ba1\u6570\u5b57\u5982\u4e0b\uff1a\n\n-  **Loss_D** - \u5224\u522b\u5668\u635f\u5931\uff0c\u662f\u6240\u6709\u771f\u6279\u6b21\u548c\u6240\u6709\u5047\u6279\u6b21\u6837\u672c\u4e0a\u7684\u635f\u5931\u4e4b\u548c ($log(D(x)) + log(D(G(z)))$)\u3002\n-  **Loss_G** - \u751f\u6210\u5668\u635f\u5931\uff0c\u7528 $log(D(G(z)))$ \u8ba1\u7b97\u3002\n-  **D(x)** - \u6240\u6709\u6279\u6b21\u7684\u771f\u6837\u672c\u4e0a\u5224\u522b\u5668\u7684\u5e73\u5747\u8f93\u51fa(\u8de8batch)\u3002\u8fd9\u4e2a\u503c\u5e94\u8be5\u5f00\u59cb\u63a5\u8fd11\uff0c\u7136\u540e\u5f53G\u53d8\u5f97\u66f4\u597d\u65f6\uff0c\u7406\u8bba\u4e0a\u6536\u655b\u52300.5\u3002\u60f3\u60f3\u8fd9\u662f\u4e3a\u4ec0\u4e48\u3002\n-  **D(G(z))** - \u6240\u6709\u6279\u6b21\u7684\u5047\u6837\u672c\u4e0a\u5224\u522b\u5668\u7684\u5e73\u5747\u8f93\u51fa\u3002\u8fd9\u4e2a\u503c\u5e94\u8be5\u5f00\u59cb\u63a5\u8fd10\uff0c\u540e\u9762\u968f\u7740\u751f\u6210\u5668\u8d8a\u6765\u8d8a\u597d\u5c31\u6536\u655b\u52300.5\u3002\u60f3\u60f3\u8fd9\u662f\u4e3a\u4ec0\u4e48\u3002\n\n**Note:** \u8fd9\u4e00\u6b65\u53ef\u80fd\u4f1a\u82b1\u70b9\u65f6\u95f4, \u8fd9\u53d6\u51b3\u4e8e\u4f60\u8981\u8fd0\u884c\u591a\u5c11\u4e2aepoch\u4ee5\u53ca\u5982\u679c\u4f60\u4ece\u6570\u636e\u96c6\u79fb\u9664\u4e00\u4e9b\u6570\u636e\u3002\n\n\n"
      ]
    },
    {
      "cell_type": "code",
      "execution_count": null,
      "metadata": {
        "collapsed": false
      },
      "outputs": [],
      "source": [
        "# Training Loop\n\n# Lists to keep track of progress\nimg_list = []\nG_losses = []\nD_losses = []\niters = 0\n\nprint(\"Starting Training Loop...\")\n# For each epoch\nfor epoch in range(num_epochs):\n    # For each batch in the dataloader\n    for i, data in enumerate(dataloader, 0):\n        \n        ############################\n        # (1) Update D network: maximize log(D(x)) + log(1 - D(G(z)))\n        ###########################\n        ## Train with all-real batch\n        netD.zero_grad()\n        # Format batch\n        real_cpu = data[0].to(device)\n        b_size = real_cpu.size(0)\n        label = torch.full((b_size,), real_label, device=device)\n        # Forward pass real batch through D\n        output = netD(real_cpu).view(-1)\n        # Calculate loss on all-real batch\n        errD_real = criterion(output, label)\n        # Calculate gradients for D in backward pass\n        errD_real.backward()\n        D_x = output.mean().item()\n\n        ## Train with all-fake batch\n        # Generate batch of latent vectors\n        noise = torch.randn(b_size, nz, 1, 1, device=device)\n        # Generate fake image batch with G\n        fake = netG(noise)\n        label.fill_(fake_label)\n        # Classify all fake batch with D\n        output = netD(fake.detach()).view(-1)\n        # Calculate D's loss on the all-fake batch\n        errD_fake = criterion(output, label)\n        # Calculate the gradients for this batch\n        errD_fake.backward()\n        D_G_z1 = output.mean().item()\n        # Add the gradients from the all-real and all-fake batches\n        errD = errD_real + errD_fake\n        # Update D\n        optimizerD.step()\n\n        ############################\n        # (2) Update G network: maximize log(D(G(z)))\n        ###########################\n        netG.zero_grad()\n        label.fill_(real_label)  # fake labels are real for generator cost\n        # Since we just updated D, perform another forward pass of all-fake batch through D\n        output = netD(fake).view(-1)\n        # Calculate G's loss based on this output\n        errG = criterion(output, label)\n        # Calculate gradients for G\n        errG.backward()\n        D_G_z2 = output.mean().item()\n        # Update G\n        optimizerG.step()\n        \n        # Output training stats\n        if i % 50 == 0:\n            print('[%d/%d][%d/%d]\\tLoss_D: %.4f\\tLoss_G: %.4f\\tD(x): %.4f\\tD(G(z)): %.4f / %.4f'\n                  % (epoch, num_epochs, i, len(dataloader),\n                     errD.item(), errG.item(), D_x, D_G_z1, D_G_z2))\n        \n        # Save Losses for plotting later\n        G_losses.append(errG.item())\n        D_losses.append(errD.item())\n        \n        # Check how the generator is doing by saving G's output on fixed_noise\n        if (iters % 500 == 0) or ((epoch == num_epochs-1) and (i == len(dataloader)-1)):\n            with torch.no_grad():\n                fake = netG(fixed_noise).detach().cpu()\n            img_list.append(vutils.make_grid(fake, padding=2, normalize=True))\n            \n        iters += 1"
      ]
    },
    {
      "cell_type": "markdown",
      "metadata": {},
      "source": [
        "\u7ed3\u679c\n-------\n\n\u6700\u540e\uff0c\u8ba9\u6211\u4eec\u6765\u770b\u770b\u6211\u4eec\u662f\u5982\u4f55\u505a\u5230\u7684\u3002\u5728\u8fd9\u91cc\uff0c\u6211\u4eec\u5c06\u770b\u5230\u4e09\u4e2a\u4e0d\u540c\u7684\u7ed3\u679c\u3002\n\u9996\u5148\uff0c\u6211\u4eec\u5c06\u770b\u5230D\u548cG\u5728\u8bad\u7ec3\u4e2d\u7684\u635f\u5931\u662f\u5982\u4f55\u53d8\u5316\u7684\u3002\u7b2c\u4e8c\uff0c\u6211\u4eec\u5c06\u5728\u6bcf\u4e2aepoch\u7684\u56fa\u5b9a\u566a\u58f0\u6279\u6b21\u4e0a\u53ef\u89c6\u5316G\u7684\u8f93\u51fa\u3002\n\u7b2c\u4e09\uff0c\u6211\u4eec\u5c06\u770b\u5230\u4e00\u6279\u771f\u6570\u636e\uff0c\u65c1\u8fb9\u662f\u4e00\u6279\u6765\u81eaG\u7684\u5047\u6570\u636e\u3002\n\n**Loss versus training iteration**\n\n\u4e0b\u9762\u662f\u8fed\u4ee3\u8fc7\u7a0b\u4e2d D \u4e0e G \u7684\u635f\u5931\u5bf9\u6bd4\u56fe\u3002 \n\n\n"
      ]
    },
    {
      "cell_type": "code",
      "execution_count": null,
      "metadata": {
        "collapsed": false
      },
      "outputs": [],
      "source": [
        "plt.figure(figsize=(10,5))\nplt.title(\"Generator and Discriminator Loss During Training\")\nplt.plot(G_losses,label=\"G\")\nplt.plot(D_losses,label=\"D\")\nplt.xlabel(\"iterations\")\nplt.ylabel(\"Loss\")\nplt.legend()\nplt.show()"
      ]
    },
    {
      "cell_type": "markdown",
      "metadata": {},
      "source": [
        "**G\u7684\u8fdb\u5ea6\u7684\u53ef\u89c6\u5316**\n\n\u8bb0\u4f4f\uff0c\u5728\u6bcf\u4e2a\u8bad\u7ec3\u56de\u5408(epoch)\u4e4b\u540e\uff0c\u6211\u4eec\u662f\u5982\u4f55\u5c06generator\u7684\u8f93\u51fa\u4fdd\u5b58\u5728\u56fa\u5b9a\u566a\u58f0\u6279\u6b21\u4e0a\u7684\u3002\n\u73b0\u5728\uff0c\u6211\u4eec\u53ef\u4ee5\u7528\u52a8\u753b\u6765\u53ef\u89c6\u5316G\u7684\u8bad\u7ec3\u8fdb\u5ea6\u3002\u6309\u201c\u64ad\u653e\u201d\u6309\u94ae\u542f\u52a8\u52a8\u753b\u3002\n\n\n"
      ]
    },
    {
      "cell_type": "code",
      "execution_count": null,
      "metadata": {
        "collapsed": false
      },
      "outputs": [],
      "source": [
        "#%%capture\nfig = plt.figure(figsize=(8,8))\nplt.axis(\"off\")\nims = [[plt.imshow(np.transpose(i,(1,2,0)), animated=True)] for i in img_list]\nani = animation.ArtistAnimation(fig, ims, interval=1000, repeat_delay=1000, blit=True)\n\nHTML(ani.to_jshtml())"
      ]
    },
    {
      "cell_type": "markdown",
      "metadata": {},
      "source": [
        "**\u771f\u56fe\u50cf(Real Images) vs.\u00a0\u5047\u56fe\u50cf(Fake Images)**\n\n\u6700\u540e, \u8ba9\u6211\u4eec\u770b\u770b\u771f\u56fe\u50cf\u548c\u5047\u56fe\u50cf\u5427\uff01\n\n\n"
      ]
    },
    {
      "cell_type": "code",
      "execution_count": null,
      "metadata": {
        "collapsed": false
      },
      "outputs": [],
      "source": [
        "# \u4ece dataloader \u4e2d\u6293\u53d6\u4e00\u4e2a\u6279\u6b21\u7684\u771f\u56fe\u50cf\nreal_batch = next(iter(dataloader))\n\n# Plot the real images\nplt.figure(figsize=(15,15))\nplt.subplot(1,2,1)\nplt.axis(\"off\")\nplt.title(\"Real Images\")\nplt.imshow(np.transpose(vutils.make_grid(real_batch[0].to(device)[:64], padding=5, normalize=True).cpu(),(1,2,0)))\n\n# \u7ed8\u5236\u6700\u540e\u4e00\u4e2aepoch\u7684\u5047\u56fe\u50cf\nplt.subplot(1,2,2)\nplt.axis(\"off\")\nplt.title(\"Fake Images\")\nplt.imshow(np.transpose(img_list[-1],(1,2,0)))\nplt.show()"
      ]
    },
    {
      "cell_type": "markdown",
      "metadata": {},
      "source": [
        "\u4e0b\u4e00\u6b65\u53bb\u54ea\u91cc\n----------------\n\n\u6211\u4eec\u7684\u65c5\u7a0b\u5df2\u7ecf\u5230\u4e86\u5c3d\u5934\uff0c\u4f46\u662f\u6709\u51e0\u4e2a\u5730\u65b9\u4f60\u53ef\u4ee5\u4ece\u8fd9\u91cc\u53bb\u3002\u4f60\u53ef\u4ee5\uff1a\n\n-  \u8bad\u7ec3\u66f4\u957f\u7684\u65f6\u95f4\u770b\u770b\u5f97\u5230\u7684\u7ed3\u679c\u6709\u591a\u597d\n-  \u4fee\u6539\u6b64\u6a21\u578b\u8ba9\u5176\u63a5\u6536\u4e0d\u540c\u7684\u6570\u636e\u96c6 \u548c \u53ef\u80fd\u6539\u53d8\u7684\u56fe\u50cf\u5927\u5c0f\u4e0e\u6a21\u578b\u67b6\u6784\n-  \u68c0\u67e5\u5176\u4ed6\u4e00\u4e9b\u5f88\u9177\u7684 GAN \u9879\u76ee `\u8fd9\u91cc <https://github.com/nashory/gans-awesome-applications>`__ \u3002\n-  \u521b\u5efa\u4e00\u4e2a GANs \u8ba9\u5b83\u4ea7\u751f `\u97f3\u4e50 <https://deepmind.com/blog/wavenet-generative-model-raw-audio/>`__\n\n\n"
      ]
    }
  ],
  "metadata": {
    "kernelspec": {
      "display_name": "Python 3",
      "language": "python",
      "name": "python3"
    },
    "language_info": {
      "codemirror_mode": {
        "name": "ipython",
        "version": 3
      },
      "file_extension": ".py",
      "mimetype": "text/x-python",
      "name": "python",
      "nbconvert_exporter": "python",
      "pygments_lexer": "ipython3",
      "version": "3.6.5"
    }
  },
  "nbformat": 4,
  "nbformat_minor": 0
}