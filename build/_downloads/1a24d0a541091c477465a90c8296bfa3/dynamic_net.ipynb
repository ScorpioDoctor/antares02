{
  "cells": [
    {
      "cell_type": "code",
      "execution_count": null,
      "metadata": {
        "collapsed": false
      },
      "outputs": [],
      "source": [
        "%matplotlib inline"
      ]
    },
    {
      "cell_type": "markdown",
      "metadata": {},
      "source": [
        "\nPyTorch: \u63a7\u5236\u6d41 + \u6743\u91cd\u5171\u4eab\n--------------------------------------\n\n\u4e3a\u4e86\u5c55\u793aPyTorch\u52a8\u6001\u56fe\u7684\u5a01\u529b\uff0c\u6211\u4eec\u5c06\u5b9e\u73b0\u4e00\u4e2a\u975e\u5e38\u5947\u602a\u7684\u6a21\u578b\uff1a\n\u4e00\u4e2a\u5b8c\u5168\u8fde\u63a5\u7684relu\u7f51\u7edc\uff0c\n\u5b83\u5728\u6bcf\u4e00\u6b21\u524d\u5411\u4f20\u9012\u4e2d\u968f\u673a\u9009\u62e9\u4e00\u4e2a1\u52304\u4e4b\u95f4\u7684\u6570\u5b57\uff0c\n\u5e76\u4e14\u5728\u8fd9\u6b21\u524d\u5411\u4f20\u9012\u4e2d\u5c31\u4f7f\u7528\u968f\u673a\u9009\u62e9\u7684\u8fd9\u4e2a\u6570\u5b57\u8fd9\u4e48\u591a\u7684\u9690\u85cf\u5c42\uff0c\n\u91cd\u590d\u4f7f\u7528\u76f8\u540c\u7684\u6743\u91cd\u591a\u6b21\u8ba1\u7b97\u6700\u5185\u90e8\u7684\u9690\u85cf\u5c42\u3002\n\n"
      ]
    },
    {
      "cell_type": "code",
      "execution_count": null,
      "metadata": {
        "collapsed": false
      },
      "outputs": [],
      "source": [
        "import random\nimport torch\n\n\nclass DynamicNet(torch.nn.Module):\n    def __init__(self, D_in, H, D_out):\n        \"\"\"\n        \u5728\u6784\u9020\u51fd\u6570\u4e2d\uff0c\u6211\u4eec\u521b\u5efa3\u4e2a nn.Linear \u7684\u5b9e\u4f8b\uff0c\u5b83\u4eec\u5c06\u88ab\u7528\u4e8e\u524d\u5411\u4f20\u9012\u4e2d\u3002\n        \"\"\"\n        super(DynamicNet, self).__init__()\n        self.input_linear = torch.nn.Linear(D_in, H)\n        self.middle_linear = torch.nn.Linear(H, H)\n        self.output_linear = torch.nn.Linear(H, D_out)\n\n    def forward(self, x):\n        \"\"\"\n        \u5728\u6a21\u578b\u7684\u524d\u5411\u4f20\u9012\u4e2d, \u6211\u4eec\u968f\u673a\u7684\u9009\u62e9 0, 1, 2, \u6216 3 \u4e2d\u7684\u4e00\u4e2a\u6570\u5b57\uff0c\n        \u7136\u540e\u6211\u4eec\u5c31\u91cd\u590d\u4f7f\u7528middle_linear Module\u90a3\u4e48\u591a\u6b21 \u4f5c\u4e3a\u8ba1\u7b97\u9690\u85cf\u5c42\u7684\u8868\u793a\u3002\n\n        \u56e0\u4e3a\u6bcf\u4e00\u6b21\u524d\u5411\u4f20\u9012\u90fd\u4f1a\u6784\u5efa\u4e00\u4e2a\u52a8\u6001\u7684\u8ba1\u7b97\u56fe\uff0c\u6211\u4eec\u5728\u5b9a\u4e49\u6a21\u578b\u7684\u524d\u5411\u8ba1\u7b97\u8fc7\u7a0b\u65f6\n        \u53ef\u4ee5\u4f7f\u7528\u666e\u901a\u7684Python\u63a7\u5236\u6d41\u64cd\u4f5c\u6bd4\u5982 for-loops \u6216 \u6761\u4ef6\u8868\u8fbe\u5f0f\u3002\n\n        \u5728\u8fd9\u91cc\uff0c\u6211\u4eec\u8fd8\u770b\u5230\uff0c\u5728\u5b9a\u4e49\u8ba1\u7b97\u56fe\u65f6\uff0c\u591a\u6b21\u91cd\u7528\u540c\u4e00\u4e2a\u6a21\u5757\u662f\u5b8c\u5168\u5b89\u5168\u7684\u3002\n        \u8fd9\u662f\u5bf9Lua Torch\u7684\u4e00\u4e2a\u5f88\u5927\u7684\u6539\u8fdb\uff0c\u5728\u90a3\u91cc\u6bcf\u4e2a\u6a21\u5757\u53ea\u80fd\u4f7f\u7528\u4e00\u6b21\u3002\n        \"\"\"\n        h_relu = self.input_linear(x).clamp(min=0)\n        for _ in range(random.randint(0, 3)):\n            h_relu = self.middle_linear(h_relu).clamp(min=0)\n        y_pred = self.output_linear(h_relu)\n        return y_pred\n\n\n# N is batch size; D_in is input dimension;\n# H is hidden dimension; D_out is output dimension.\nN, D_in, H, D_out = 64, 1000, 100, 10\n\n# \u521b\u5efa\u6301\u6709\u8f93\u5165\u548c\u8f93\u51fa\u7684\u968f\u673a\u5f20\u91cf\nx = torch.randn(N, D_in)\ny = torch.randn(N, D_out)\n\n# \u901a\u8fc7\u5b9e\u4f8b\u5316\u4e0a\u9762\u5b9a\u4e49\u7684\u7c7b\uff0c\u6765\u521b\u5efa\u6a21\u578b\nmodel = DynamicNet(D_in, H, D_out)\n\n# \u6784\u5efa\u6211\u4eec\u7684\u635f\u5931\u51fd\u6570\u548c\u4f18\u5316\u5668\u3002\u4f7f\u7528 \u666e\u901a\u7684SGD \u6765\u8bad\u7ec3\u8fd9\u4e2a\u5947\u602a\u7684\u6a21\u578b\u662f\u5f88\u96be\u7684\uff0c\n# \u6240\u4ee5\u6211\u4eec\u4f7f\u7528\u4e86\u5e26\u6709\u52a8\u91cf\u9879\u7684SGD\u6765\u4f18\u5316\u6a21\u578b\u3002\ncriterion = torch.nn.MSELoss(reduction='sum')\noptimizer = torch.optim.SGD(model.parameters(), lr=1e-4, momentum=0.9)\nfor t in range(500):\n    # \u524d\u5411\u8fc7\u7a0b: \u628a x \u4f20\u9012\u7ed9model, \u8ba1\u7b97 predicted y \n    y_pred = model(x)\n\n    # \u8ba1\u7b97\u5e76\u8f93\u51faloss\n    loss = criterion(y_pred, y)\n    print(t, loss.item())\n\n    # \u628a\u68af\u5ea6\u7f6e\u96f6\uff0c \u6267\u884c\u540e\u5411\u4f20\u9012, \u4ee5\u53ca \u66f4\u65b0\u6743\u91cd\n    optimizer.zero_grad()\n    loss.backward()\n    optimizer.step()"
      ]
    }
  ],
  "metadata": {
    "kernelspec": {
      "display_name": "Python 3",
      "language": "python",
      "name": "python3"
    },
    "language_info": {
      "codemirror_mode": {
        "name": "ipython",
        "version": 3
      },
      "file_extension": ".py",
      "mimetype": "text/x-python",
      "name": "python",
      "nbconvert_exporter": "python",
      "pygments_lexer": "ipython3",
      "version": "3.6.5"
    }
  },
  "nbformat": 4,
  "nbformat_minor": 0
}