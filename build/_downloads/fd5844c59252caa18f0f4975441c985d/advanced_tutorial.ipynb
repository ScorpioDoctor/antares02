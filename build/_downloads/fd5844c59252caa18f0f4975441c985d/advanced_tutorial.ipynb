{
  "cells": [
    {
      "cell_type": "code",
      "execution_count": null,
      "metadata": {
        "collapsed": false
      },
      "outputs": [],
      "source": [
        "%matplotlib inline"
      ]
    },
    {
      "cell_type": "markdown",
      "metadata": {},
      "source": [
        "\n\u9ad8\u7ea7\u4e13\u9898: \u505a\u52a8\u6001\u51b3\u7b56 \u548c Bi-LSTM CRF\n======================================================\n\n\u52a8\u6001Vs\u9759\u6001\u6df1\u5ea6\u5b66\u4e60\u5de5\u5177\u5305\n--------------------------------------------\n\nPytorch \u662f\u4e00\u79cd *\u52a8\u6001* \u795e\u7ecf\u7f51\u7edc\u5de5\u5177\u7bb1\u3002\u52a8\u6001\u5de5\u5177\u5305\u7684\u53e6\u4e00\u4e2a\u4f8b\u5b50\u662f `Dynet <https://github.com/clab/dynet>`__ \n(\u6211\u63d0\u5230\u8fd9\u4e00\u70b9\uff0c\u56e0\u4e3aPytorch\u548cDynet\u662f\u76f8\u4f3c\u7684\u3002 \u5982\u679c\u60a8\u5728Dynet\u4e2d\u770b\u5230\u4e00\u4e2a\u793a\u4f8b\uff0c\u5b83\u53ef\u80fd\u4f1a\u5e2e\u52a9\u60a8\u5728Python\u4e2d\u5b9e\u73b0\u5b83)\u3002\n\u76f8\u53cd\u7684\u662f *\u9759\u6001* \u5de5\u5177\u5305\uff0c\u5305\u62ecTheano\u3001Keras\u3001TensorFlow\u7b49\u3002\u5176\u6838\u5fc3\u533a\u522b\u662f:\n\n* \u5728\u9759\u6001\u5de5\u5177\u7bb1\u4e2d\uff0c\u60a8\u53ea\u5b9a\u4e49\u4e00\u6b21\u8ba1\u7b97\u56fe\uff0c\u7f16\u8bd1\u5b83\uff0c\u7136\u540e\u5c06\u5b9e\u4f8b\u6d41\u5165\u5b83\u3002\n* \u5728\u52a8\u6001\u5de5\u5177\u7bb1\u4e2d\uff0c\u4e3a *\u6bcf\u4e2a\u5b9e\u4f8b* \u5b9a\u4e49\u4e00\u4e2a\u8ba1\u7b97\u56fe\u3002\u5b83\u4ece\u6765\u4e0d\u88ab\u7f16\u8bd1\uff0c\u5e76\u4e14\u662f\u5b9e\u65f6\u6267\u884c\u7684\u3002\n\n\u5982\u679c\u6ca1\u6709\u4e30\u5bcc\u7684\u7ecf\u9a8c\uff0c\u5c31\u5f88\u96be\u7406\u89e3\u5176\u4e2d\u7684\u4e0d\u540c\u4e4b\u5904\u3002\u4e00\u4e2a\u4f8b\u5b50\u662f\u5047\u8bbe\u6211\u4eec\u60f3\u8981\u6784\u5efa\u4e00\u4e2a\u6df1\u5c42\u6210\u5206\u89e3\u6790\u5668(deep constituent parser)\u3002\n\u5047\u8bbe\u6211\u4eec\u7684\u6a21\u578b\u5927\u81f4\u5305\u62ec\u4ee5\u4e0b\u6b65\u9aa4\uff1a\n\n* \u6211\u4eec\u81ea\u5e95\u5411\u4e0a\u6784\u5efa\u6811\n* \u6807\u8bb0\u6839\u8282\u70b9 (\u53e5\u5b50\u7684\u5355\u5b50)\n* \u4ece\u90a3\u91cc\uff0c\u4f7f\u7528\u795e\u7ecf\u7f51\u7edc\u548c\u5355\u8bcd\u7684\u5d4c\u5165\uff0c\u4ee5\u627e\u5230\u5f62\u6210\u6210\u5206\u7684\u7ec4\u5408\u3002\n  \u6bcf\u5f53\u60a8\u5f62\u6210\u4e00\u4e2a\u65b0\u7684\u6210\u5206\u65f6\uff0c\u90fd\u8981\u4f7f\u7528\u67d0\u79cd\u6280\u672f\u6765\u83b7\u5f97\u8be5\u6210\u5206\u7684\u5d4c\u5165\u3002\n  \u5728\u8fd9\u79cd\u60c5\u51b5\u4e0b\uff0c\u6211\u4eec\u7684\u7f51\u7edc\u4f53\u7cfb\u7ed3\u6784\u5c06\u5b8c\u5168\u4f9d\u8d56\u4e8e\u8f93\u5165\u8bed\u53e5\u3002\u5728\u201cThe green cat scratched the wall\u201d\u8fd9\u4e2a\u53e5\u5b50\u4e2d\uff0c\u5728\u6a21\u578b\u7684\u67d0\u4e00\u70b9\u4e0a\uff0c\n  \u6211\u4eec\u5e0c\u671b\u7ec4\u5408\u8de8\u5ea6(span) $(i,j,r) = (1, 3, \\text{NP})$ (\u5373NP\u6210\u5206\u8de8\u8d8a\u5355\u8bcd1\u5230\u5355\u8bcd3\uff0c\u5728\u672c\u4f8b\u4e2d\u662f\"The green cat\")\u3002\n\n\u7136\u800c\uff0c\u53e6\u4e00\u4e2a\u53e5\u5b50\u53ef\u80fd\u662f\"Somewhere, the big fat cat scratched the wall\" \u3002\u5728\u8fd9\u4e2a\u53e5\u5b50\u4e2d\uff0c\u6211\u4eec\u8981\u5728\u67d0\u4e00\u70b9\u4e0a\u5f62\u6210\u6210\u5206 $(2, 4, NP)$ \u3002\n\u6211\u4eec\u60f3\u8981\u5f62\u6210\u7684\u6210\u5206\u5c06\u53d6\u51b3\u4e8e\u5b9e\u4f8b\u3002\u5982\u679c\u6211\u4eec\u53ea\u7f16\u8bd1\u4e00\u6b21\u8ba1\u7b97\u56fe\uff0c\u5c31\u50cf\u5728\u9759\u6001\u5de5\u5177\u7bb1\u4e2d\u4e00\u6837\uff0c\u90a3\u4e48\u7f16\u7a0b\u8fd9\u4e2a\u6df1\u5c42\u6210\u5206\u89e3\u6790\u5668\u7684\u903b\u8f91\u5c06\u662f\u975e\u5e38\u56f0\u96be\u6216\u4e0d\u53ef\u80fd\u7684\u3002\n\u7136\u800c\uff0c\u5728\u52a8\u6001\u5de5\u5177\u7bb1\u4e2d\uff0c\u5e76\u4e0d\u53ea\u6709\u4e00\u4e2a\u9884\u5b9a\u4e49\u7684\u8ba1\u7b97\u56fe\u3002\u6bcf\u4e2a\u5b9e\u4f8b\u90fd\u53ef\u4ee5\u6709\u4e00\u4e2a\u65b0\u7684\u8ba1\u7b97\u56fe\uff0c\u6240\u4ee5\u8fd9\u6839\u672c\u5c31\u4e0d\u662f\u4e2a\u95ee\u9898\u3002\n\n\u52a8\u6001\u5de5\u5177\u5305\u8fd8\u5177\u6709\u66f4\u6613\u4e8e\u8c03\u8bd5\u7684\u4f18\u70b9\uff0c\u800c\u4e14\u4ee3\u7801\u66f4\u7c7b\u4f3c\u4e8e\u5bbf\u4e3b\u8bed\u8a00(host language)(\u6211\u7684\u610f\u601d\u662f\uff0c\u4e0eKeras\u6216Theano\u76f8\u6bd4\uff0c\nPytorch\u548cDynet\u770b\u8d77\u6765\u66f4\u50cf\u771f\u6b63\u7684Python\u4ee3\u7801)\u3002\n\nBi-LSTM \u6761\u4ef6\u968f\u673a\u573a(CRFs)\u7684\u8ba8\u8bba\n-------------------------------------------\n\n\u5bf9\u4e8e\u672c\u8282\uff0c\u6211\u4eec\u5c06\u770b\u5230\u4e00\u4e2a\u5b8c\u6574\u7684\uff0c\u590d\u6742\u7684\u4f8b\u5b50\uff1a\u7528\u4e8e\u547d\u540d\u5b9e\u4f53(named-entity)\u8bc6\u522b\u7684Bi-LSTM\u6761\u4ef6\u968f\u673a\u573a\u3002\u4e0a\u9762\u7684LSTM\u6807\u8bb0\u5668\u5bf9\u4e8e\u8bcd\u6027\u6807\u6ce8\u6765\u8bf4\u901a\u5e38\u662f\u8db3\u591f\u7684\uff0c\n\u4f46\u662f\u50cfCRF\u8fd9\u6837\u7684\u5e8f\u5217\u6a21\u578b\u5bf9\u4e8e\u5728NER\u4e0a\u7684\u5f3a\u5927\u6027\u80fd\u6765\u8bf4\u662f\u975e\u5e38\u91cd\u8981\u7684\u3002\u5047\u8bbe\u4f60\u719f\u6089\u6761\u4ef6\u968f\u673a\u573a(CRF)\u3002\u867d\u7136\u8fd9\u4e2a\u540d\u5b57\u542c\u8d77\u6765\u5f88\u5413\u4eba\uff0c\u6240\u6709\u7684\u6a21\u578b\u90fd\u662fCRF\uff0c\n\u53ea\u662fLSTM\u4e3a\u8fd9\u4e9bCRF\u6a21\u578b\u63d0\u4f9b\u4e86\u7279\u5f81\u3002\u4e0d\u8fc7\uff0c\u8fd9\u4ecd\u7136\u662f\u4e00\u4e2a\u9ad8\u7ea7\u6a21\u578b\uff0c\u6bd4\u672c\u6559\u7a0b\u4e2d\u7684\u4efb\u4f55\u65e9\u671f\u6a21\u578b\u90fd\u8981\u590d\u6742\u5f97\u591a\u3002\n\u5982\u679c\u4f60\u60f3\u8df3\u8fc7\u5b83\uff0c\u90a3\u4e5f\u5f88\u597d\u3002\u770b\u4f60\u662f\u5426\u51c6\u5907\u597d\u4e86\uff0c\u770b\u770b\u4f60\u80fd\u4e0d\u80fd:\n\n-  Write the recurrence for the viterbi variable at step i for tag k.\n-  Modify the above recurrence to compute the forward variables instead.\n-  Modify again the above recurrence to compute the forward variables in\n   log-space (hint: log-sum-exp)\n\n\u5982\u679c\u4f60\u80fd\u505a\u8fd9\u4e09\u4ef6\u4e8b\uff0c\u4f60\u5e94\u8be5\u80fd\u591f\u7406\u89e3\u4e0b\u9762\u7684\u4ee3\u7801\u3002\u56de\u60f3\u4e00\u4e0bCRF\u548b\u6837\u8ba1\u7b97\u6761\u4ef6\u6982\u7387\u7684\u3002\u8ba9 $y$ \u662f\u6807\u8bb0\u5e8f\u5217\uff0c$x$ \u662f\u5355\u8bcd\u7684\u8f93\u5165\u5e8f\u5217\u3002\u7136\u540e\u6211\u4eec\u8ba1\u7b97\n\n\\begin{align}P(y|x) = \\frac{\\exp{(\\text{Score}(x, y)})}{\\sum_{y'} \\exp{(\\text{Score}(x, y')})}\\end{align}\n\n\u5176\u4e2d\uff0c\u5206\u6570\u662f\u901a\u8fc7\u5b9a\u4e49\u4e00\u4e9b log potentials $\\log \\psi_i(x,y)$ \u6765\u786e\u5b9a\u7684\uff0c\u8fd9\u6837\u5c31\u6709\u4e0b\u5f0f\uff1a\n\n\\begin{align}\\text{Score}(x,y) = \\sum_i \\log \\psi_i(x,y)\\end{align}\n\n\u8981\u4f7f\u5206\u533a\u51fd\u6570(partition function)\u6613\u4e8e\u5904\u7406\uff0cthe potentials \u5fc5\u987b\u53ea\u8003\u8651\u5c40\u90e8\u7279\u5f81\u3002\n\n\u5728Bi-LSTM CRF\u4e2d\uff0c\u6211\u4eec\u5b9a\u4e49\u4e86\u4e24\u79cd\u52bf(potentials)\uff1a\u53d1\u5c04\u52bf(emission)\u548c\u8dc3\u8fc1\u52bf(transition)\u3002\n\u5728\u7d22\u5f15 $i$ \u5904\u5355\u8bcd\u7684emission\u6765\u81eaBi-LSTM\u5728\u7b2c $i$ \u6b65\u7684\u9690\u85cf\u72b6\u6001\u3002\ntransition scores \u5b58\u50a8\u5728\u4e00\u4e2a $|T|x|T|$ \u77e9\u9635 $\\textbf{P}$ \u4e2d\uff0c\u5176\u4e2d $T$ \u662f\u6807\u8bb0\u96c6(tag set)\u3002\n\u5728\u6211\u7684\u5b9e\u73b0\u4e2d\uff0c$\\textbf{P}_{j,k}$ \u662f\u4ece\u6807\u8bb0 $k$ \u8dc3\u8fc1\u5230\u6807\u8bb0 $j$ \u7684\u5f97\u5206\u3002\u56e0\u6b64:\n\n\\begin{align}\\text{Score}(x,y) = \\sum_i \\log \\psi_\\text{EMIT}(y_i \\rightarrow x_i) + \\log \\psi_\\text{TRANS}(y_{i-1} \\rightarrow y_i)\\end{align}\n\n\\begin{align}= \\sum_i h_i[y_i] + \\textbf{P}_{y_i, y_{i-1}}\\end{align}\n\n\u5176\u4e2d\u5728\u7b2c\u4e8c\u4e2a\u8868\u8fbe\u5f0f\u4e2d, \u6211\u4eec\u8ba4\u4e3a\u6807\u7b7e\u88ab\u5206\u914d\u4e86\u552f\u4e00\u7684\u975e\u8d1f\u7d22\u5f15\u3002\n\n\u5982\u679c\u4f60\u89c9\u5f97\u4e0a\u9762\u7684\u8ba8\u8bba\u8fc7\u4e8e\u7b80\u5355, \u4f60\u53ef\u4ee5\u67e5\u770b `\u8fd9\u4e2a <http://www.cs.columbia.edu/%7Emcollins/crf.pdf>`__ \n\u6765\u81ea Michael Collins \u6240\u5199\u7684\u5173\u4e8e CRFs \u7684\u5185\u5bb9\u3002\n\n\u5b9e\u73b0\u7b14\u8bb0\n--------------------\n\n\u4e0b\u9762\u7684\u4f8b\u5b50\u5b9e\u73b0\u4e86\u5bf9\u6570\u7a7a\u95f4\u4e2d\u7684\u524d\u5411\u7b97\u6cd5\u6765\u8ba1\u7b97\u5206\u533a\u51fd\u6570(partition function)\uff0c\u5e76\u5b9e\u73b0\u4e86Viterbi\u7b97\u6cd5\u6765\u89e3\u7801\u3002\n\u53cd\u5411\u4f20\u64ad\u5c06\u81ea\u52a8\u4e3a\u6211\u4eec\u8ba1\u7b97\u68af\u5ea6\u3002\u6211\u4eec\u4e0d\u9700\u8981\u624b\u5de5\u505a\u4efb\u4f55\u4e8b\u3002\n\n\u8fd9\u91cc\u7684\u5b9e\u73b0\u5e76\u6ca1\u6709\u8fdb\u884c\u4f18\u5316\u3002\u5982\u679c\u60a8\u4e86\u89e3\u6b63\u5728\u53d1\u751f\u7684\u4e8b\u60c5\uff0c\u60a8\u53ef\u80fd\u5f88\u5feb\u5c31\u4f1a\u770b\u5230\uff0c\n\u524d\u5411\u7b97\u6cd5\u4e2d\u7684\u4e0b\u4e00\u4e2a\u6807\u8bb0\u7684\u8fed\u4ee3\u5176\u5b9e\u66f4\u9002\u5408\u5728\u4e00\u4e2a\u5927\u64cd\u4f5c\u4e2d\u5b8c\u6210\u7684\u3002\n\u6211\u60f3\u8981\u4ee3\u7801\u66f4\u6613\u8bfb\uff0c\u6240\u4ee5\u5e76\u6ca1\u6709\u5c06\u5176\u653e\u5728\u5927\u64cd\u4f5c\u4e2d\u3002\n\u5982\u679c\u60a8\u60f3\u8981\u8fdb\u884c\u76f8\u5173\u7684\u66f4\u6539\uff0c\u53ef\u4ee5\u5c06\u8fd9\u4e2a\u6807\u8bb0\u5668(tagger)\u7528\u4e8e\u5b9e\u9645\u4efb\u52a1\u3002\n\n"
      ]
    },
    {
      "cell_type": "code",
      "execution_count": null,
      "metadata": {
        "collapsed": false
      },
      "outputs": [],
      "source": [
        "# Author: Robert Guthrie\n\nimport torch\nimport torch.autograd as autograd\nimport torch.nn as nn\nimport torch.optim as optim\n\ntorch.manual_seed(1)"
      ]
    },
    {
      "cell_type": "markdown",
      "metadata": {},
      "source": [
        "\u8f85\u52a9\u51fd\u6570\u4f7f\u4ee3\u7801\u66f4\u5177\u53ef\u8bfb\u6027\u3002\n\n"
      ]
    },
    {
      "cell_type": "code",
      "execution_count": null,
      "metadata": {
        "collapsed": false
      },
      "outputs": [],
      "source": [
        "def argmax(vec):\n    # return the argmax as a python int\n    _, idx = torch.max(vec, 1)\n    return idx.item()\n\n\ndef prepare_sequence(seq, to_ix):\n    idxs = [to_ix[w] for w in seq]\n    return torch.tensor(idxs, dtype=torch.long)\n\n\n# Compute log sum exp in a numerically stable way for the forward algorithm\ndef log_sum_exp(vec):\n    max_score = vec[0, argmax(vec)]\n    max_score_broadcast = max_score.view(1, -1).expand(1, vec.size()[1])\n    return max_score + \\\n        torch.log(torch.sum(torch.exp(vec - max_score_broadcast)))"
      ]
    },
    {
      "cell_type": "markdown",
      "metadata": {},
      "source": [
        "\u521b\u5efa\u6a21\u578b\n\n"
      ]
    },
    {
      "cell_type": "code",
      "execution_count": null,
      "metadata": {
        "collapsed": false
      },
      "outputs": [],
      "source": [
        "class BiLSTM_CRF(nn.Module):\n\n    def __init__(self, vocab_size, tag_to_ix, embedding_dim, hidden_dim):\n        super(BiLSTM_CRF, self).__init__()\n        self.embedding_dim = embedding_dim\n        self.hidden_dim = hidden_dim\n        self.vocab_size = vocab_size\n        self.tag_to_ix = tag_to_ix\n        self.tagset_size = len(tag_to_ix)\n\n        self.word_embeds = nn.Embedding(vocab_size, embedding_dim)\n        self.lstm = nn.LSTM(embedding_dim, hidden_dim // 2,\n                            num_layers=1, bidirectional=True)\n\n        # Maps the output of the LSTM into tag space.\n        self.hidden2tag = nn.Linear(hidden_dim, self.tagset_size)\n\n        # Matrix of transition parameters.  Entry i,j is the score of\n        # transitioning *to* i *from* j.\n        self.transitions = nn.Parameter(\n            torch.randn(self.tagset_size, self.tagset_size))\n\n        # These two statements enforce the constraint that we never transfer\n        # to the start tag and we never transfer from the stop tag\n        self.transitions.data[tag_to_ix[START_TAG], :] = -10000\n        self.transitions.data[:, tag_to_ix[STOP_TAG]] = -10000\n\n        self.hidden = self.init_hidden()\n\n    def init_hidden(self):\n        return (torch.randn(2, 1, self.hidden_dim // 2),\n                torch.randn(2, 1, self.hidden_dim // 2))\n\n    def _forward_alg(self, feats):\n        # Do the forward algorithm to compute the partition function\n        init_alphas = torch.full((1, self.tagset_size), -10000.)\n        # START_TAG has all of the score.\n        init_alphas[0][self.tag_to_ix[START_TAG]] = 0.\n\n        # Wrap in a variable so that we will get automatic backprop\n        forward_var = init_alphas\n\n        # Iterate through the sentence\n        for feat in feats:\n            alphas_t = []  # The forward tensors at this timestep\n            for next_tag in range(self.tagset_size):\n                # broadcast the emission score: it is the same regardless of\n                # the previous tag\n                emit_score = feat[next_tag].view(\n                    1, -1).expand(1, self.tagset_size)\n                # the ith entry of trans_score is the score of transitioning to\n                # next_tag from i\n                trans_score = self.transitions[next_tag].view(1, -1)\n                # The ith entry of next_tag_var is the value for the\n                # edge (i -> next_tag) before we do log-sum-exp\n                next_tag_var = forward_var + trans_score + emit_score\n                # The forward variable for this tag is log-sum-exp of all the\n                # scores.\n                alphas_t.append(log_sum_exp(next_tag_var).view(1))\n            forward_var = torch.cat(alphas_t).view(1, -1)\n        terminal_var = forward_var + self.transitions[self.tag_to_ix[STOP_TAG]]\n        alpha = log_sum_exp(terminal_var)\n        return alpha\n\n    def _get_lstm_features(self, sentence):\n        self.hidden = self.init_hidden()\n        embeds = self.word_embeds(sentence).view(len(sentence), 1, -1)\n        lstm_out, self.hidden = self.lstm(embeds, self.hidden)\n        lstm_out = lstm_out.view(len(sentence), self.hidden_dim)\n        lstm_feats = self.hidden2tag(lstm_out)\n        return lstm_feats\n\n    def _score_sentence(self, feats, tags):\n        # Gives the score of a provided tag sequence\n        score = torch.zeros(1)\n        tags = torch.cat([torch.tensor([self.tag_to_ix[START_TAG]], dtype=torch.long), tags])\n        for i, feat in enumerate(feats):\n            score = score + \\\n                self.transitions[tags[i + 1], tags[i]] + feat[tags[i + 1]]\n        score = score + self.transitions[self.tag_to_ix[STOP_TAG], tags[-1]]\n        return score\n\n    def _viterbi_decode(self, feats):\n        backpointers = []\n\n        # Initialize the viterbi variables in log space\n        init_vvars = torch.full((1, self.tagset_size), -10000.)\n        init_vvars[0][self.tag_to_ix[START_TAG]] = 0\n\n        # forward_var at step i holds the viterbi variables for step i-1\n        forward_var = init_vvars\n        for feat in feats:\n            bptrs_t = []  # holds the backpointers for this step\n            viterbivars_t = []  # holds the viterbi variables for this step\n\n            for next_tag in range(self.tagset_size):\n                # next_tag_var[i] holds the viterbi variable for tag i at the\n                # previous step, plus the score of transitioning\n                # from tag i to next_tag.\n                # We don't include the emission scores here because the max\n                # does not depend on them (we add them in below)\n                next_tag_var = forward_var + self.transitions[next_tag]\n                best_tag_id = argmax(next_tag_var)\n                bptrs_t.append(best_tag_id)\n                viterbivars_t.append(next_tag_var[0][best_tag_id].view(1))\n            # Now add in the emission scores, and assign forward_var to the set\n            # of viterbi variables we just computed\n            forward_var = (torch.cat(viterbivars_t) + feat).view(1, -1)\n            backpointers.append(bptrs_t)\n\n        # Transition to STOP_TAG\n        terminal_var = forward_var + self.transitions[self.tag_to_ix[STOP_TAG]]\n        best_tag_id = argmax(terminal_var)\n        path_score = terminal_var[0][best_tag_id]\n\n        # Follow the back pointers to decode the best path.\n        best_path = [best_tag_id]\n        for bptrs_t in reversed(backpointers):\n            best_tag_id = bptrs_t[best_tag_id]\n            best_path.append(best_tag_id)\n        # Pop off the start tag (we dont want to return that to the caller)\n        start = best_path.pop()\n        assert start == self.tag_to_ix[START_TAG]  # Sanity check\n        best_path.reverse()\n        return path_score, best_path\n\n    def neg_log_likelihood(self, sentence, tags):\n        feats = self._get_lstm_features(sentence)\n        forward_score = self._forward_alg(feats)\n        gold_score = self._score_sentence(feats, tags)\n        return forward_score - gold_score\n\n    def forward(self, sentence):  # dont confuse this with _forward_alg above.\n        # Get the emission scores from the BiLSTM\n        lstm_feats = self._get_lstm_features(sentence)\n\n        # Find the best path, given the features.\n        score, tag_seq = self._viterbi_decode(lstm_feats)\n        return score, tag_seq"
      ]
    },
    {
      "cell_type": "markdown",
      "metadata": {},
      "source": [
        "\u8fd0\u884c\u8bad\u7ec3\n\n"
      ]
    },
    {
      "cell_type": "code",
      "execution_count": null,
      "metadata": {
        "collapsed": false
      },
      "outputs": [],
      "source": [
        "START_TAG = \"<START>\"\nSTOP_TAG = \"<STOP>\"\nEMBEDDING_DIM = 5\nHIDDEN_DIM = 4\n\n# Make up some training data\ntraining_data = [(\n    \"the wall street journal reported today that apple corporation made money\".split(),\n    \"B I I I O O O B I O O\".split()\n), (\n    \"georgia tech is a university in georgia\".split(),\n    \"B I O O O O B\".split()\n)]\n\nword_to_ix = {}\nfor sentence, tags in training_data:\n    for word in sentence:\n        if word not in word_to_ix:\n            word_to_ix[word] = len(word_to_ix)\n\ntag_to_ix = {\"B\": 0, \"I\": 1, \"O\": 2, START_TAG: 3, STOP_TAG: 4}\n\nmodel = BiLSTM_CRF(len(word_to_ix), tag_to_ix, EMBEDDING_DIM, HIDDEN_DIM)\noptimizer = optim.SGD(model.parameters(), lr=0.01, weight_decay=1e-4)\n\n# Check predictions before training\nwith torch.no_grad():\n    precheck_sent = prepare_sequence(training_data[0][0], word_to_ix)\n    precheck_tags = torch.tensor([tag_to_ix[t] for t in training_data[0][1]], dtype=torch.long)\n    print(model(precheck_sent))\n\n# Make sure prepare_sequence from earlier in the LSTM section is loaded\nfor epoch in range(\n        300):  # again, normally you would NOT do 300 epochs, it is toy data\n    for sentence, tags in training_data:\n        # Step 1. Remember that Pytorch accumulates gradients.\n        # We need to clear them out before each instance\n        model.zero_grad()\n\n        # Step 2. Get our inputs ready for the network, that is,\n        # turn them into Tensors of word indices.\n        sentence_in = prepare_sequence(sentence, word_to_ix)\n        targets = torch.tensor([tag_to_ix[t] for t in tags], dtype=torch.long)\n\n        # Step 3. Run our forward pass.\n        loss = model.neg_log_likelihood(sentence_in, targets)\n\n        # Step 4. Compute the loss, gradients, and update the parameters by\n        # calling optimizer.step()\n        loss.backward()\n        optimizer.step()\n\n# Check predictions after training\nwith torch.no_grad():\n    precheck_sent = prepare_sequence(training_data[0][0], word_to_ix)\n    print(model(precheck_sent))\n# We got it!"
      ]
    },
    {
      "cell_type": "markdown",
      "metadata": {},
      "source": [
        "\u7ec3\u4e60: \u4e00\u4e2a\u7528\u4e8e\u5224\u522b\u6807\u8bb0\u7684\u65b0\u7684\u635f\u5931\u51fd\u6570\n--------------------------------------------------------\n\n\u5728\u89e3\u7801\u65f6\uff0c\u6211\u4eec\u6ca1\u6709\u5fc5\u8981\u521b\u5efa\u4e00\u4e2a\u8ba1\u7b97\u56fe\uff0c\u56e0\u4e3a\u6211\u4eec\u4e0d\u4f1a\u4eceviterbi\u8def\u5f84\u5206\u6570\u53cd\u5411\u4f20\u64ad\u3002\n\u65e2\u7136\u6211\u4eec\u6709\u5b83\uff0c\u8bd5\u7740\u8bad\u7ec3\u6807\u8bb0\u5668\uff0c\u5176\u4e2d\u635f\u5931\u51fd\u6570\u662fviterbi\u8def\u5f84\u5206\u6570\u548cgold-standard\u8def\u5f84\u5206\u6570\u4e4b\u95f4\u7684\u5dee\u5f02\u3002\n\u5e94\u8be5\u6e05\u695a\u7684\u662f\uff0c\u8fd9\u4e2a\u51fd\u6570\u662f\u975e\u8d1f\u7684\uff0c\u5f53\u9884\u6d4b\u7684\u6807\u8bb0\u5e8f\u5217\u662f\u6b63\u786e\u7684\u6807\u8bb0\u5e8f\u5217\u65f6\u662f0\u3002\n\u8fd9\u672c\u8d28\u4e0a\u662f\u7ed3\u6784\u5316\u611f\u77e5\u5668(*structured perceptron*)\u3002\n\n\u8fd9\u4e2a\u4fee\u6539\u5e94\u8be5\u662f\u77ed\u7684\uff0c\u56e0\u4e3aViterbi\u548c score\\_sentence \u5df2\u7ecf\u5b9e\u73b0\u4e86\u3002\u8fd9\u662f\u8ba1\u7b97\u56fe\u7684\u5f62\u72b6\u53d6\u51b3\u4e8e\u8bad\u7ec3\u5b9e\u4f8b\u7684\u4e00\u4e2a\u4f8b\u5b50\u3002\n\u867d\u7136\u6211\u8fd8\u6ca1\u6709\u5c1d\u8bd5\u5728\u9759\u6001\u5de5\u5177\u7bb1\u4e2d\u5b9e\u73b0\u8fd9\u4e00\u70b9\uff0c\u6211\u8ba4\u4e3a\u8fd9\u662f\u53ef\u80fd\u7684\uff0c\u4f46\u5374\u8981\u590d\u6742\u5f97\u591a\u3002\n\n\u9009\u62e9\u4e00\u4e9b\u771f\u5b9e\u6570\u636e\u5e76\u4f5c\u6bd4\u8f83!\n\n\n"
      ]
    }
  ],
  "metadata": {
    "kernelspec": {
      "display_name": "Python 3",
      "language": "python",
      "name": "python3"
    },
    "language_info": {
      "codemirror_mode": {
        "name": "ipython",
        "version": 3
      },
      "file_extension": ".py",
      "mimetype": "text/x-python",
      "name": "python",
      "nbconvert_exporter": "python",
      "pygments_lexer": "ipython3",
      "version": "3.6.5"
    }
  },
  "nbformat": 4,
  "nbformat_minor": 0
}