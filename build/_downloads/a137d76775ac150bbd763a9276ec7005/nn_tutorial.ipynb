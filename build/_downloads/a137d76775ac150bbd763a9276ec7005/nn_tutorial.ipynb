{
  "cells": [
    {
      "cell_type": "code",
      "execution_count": null,
      "metadata": {
        "collapsed": false
      },
      "outputs": [],
      "source": [
        "%matplotlib inline"
      ]
    },
    {
      "cell_type": "markdown",
      "metadata": {},
      "source": [
        "\n`torch.nn` \u7a76\u7adf\u662f\u795e\u9a6c\u4e1c\u4e1c\uff1f\n============================\n**\u7ffb\u8bd1\u8005:** `Antares <http://wwww.studyai.com/antares>`_\n\n"
      ]
    },
    {
      "cell_type": "markdown",
      "metadata": {},
      "source": [
        "\u6211\u4eec\u5efa\u8bae\u5c06\u672c\u6559\u7a0b\u4f5c\u4e3anotebook\u8fd0\u884c\uff0c\u800c\u4e0d\u662f\u811a\u672c\u3002\u8981\u4e0b\u8f7dnotebook(.ipynb)\u6587\u4ef6\uff0c\n\u8bf7\u5230\u672c\u6587\u6863\u7684\u6700\u540e\u9762 \u3002\n\nPyTorch\u63d0\u4f9b\u4e86\u7cbe\u5fc3\u8bbe\u8ba1\u7684\u6a21\u5757\u548c\u7c7b `torch.nn <https://pytorch.org/docs/stable/nn.html>`_  \u3001\n`torch.optim <https://pytorch.org/docs/stable/optim.html>`_ \u3001\n`Dataset <https://pytorch.org/docs/stable/data.html?highlight=dataset#torch.utils.data.Dataset>`_ \n\u548c `DataLoader <https://pytorch.org/docs/stable/data.html?highlight=dataloader#torch.utils.data.DataLoader>`_\uff0c\n\u4ee5\u5e2e\u52a9\u60a8\u521b\u5efa\u548c\u8bad\u7ec3\u795e\u7ecf\u7f51\u7edc\u3002\u4e3a\u4e86\u5145\u5206\u5229\u7528\u4ed6\u4eec\u7684\u529b\u91cf\uff0c\u5e76\u4e3a\u4f60\u7684\u95ee\u9898\u5b9a\u5236\u4ed6\u4eec\uff0c\u4f60\u9700\u8981\u771f\u6b63\u7406\u89e3\u4ed6\u4eec\u5728\u505a\u4ec0\u4e48\u3002\n\u4e3a\u4e86\u52a0\u6df1\u8fd9\u79cd\u7406\u89e3\uff0c\u6211\u4eec\u5c06\u9996\u5148\u5728MNIST\u6570\u636e\u96c6\u4e0a\u8bad\u7ec3\u57fa\u672c\u795e\u7ecf\u7f51\u7edc\uff0c\u800c\u4e0d\u4f7f\u7528\u8fd9\u4e9b\u6a21\u578b\u7684\u4efb\u4f55\u7279\u6027\uff1b\n\u6211\u4eec\u6700\u521d\u53ea\u4f7f\u7528\u6700\u57fa\u672c\u7684PyTorch\u5f20\u91cf\u529f\u80fd\u3002\u7136\u540e\uff0c\u6211\u4eec\u5c06\u4f9d\u6b21\u9012\u589e\u5730\u4ece ``torch.nn``, ``torch.optim``, ``Dataset`` \u6216 ``DataLoader``\n\u4e2d\u6dfb\u52a0\u4e00\u4e2a\u7279\u6027\uff0c\u51c6\u786e\u5730\u663e\u793a\u6bcf\u4e2a\u7247\u6bb5\u7684\u529f\u80fd\uff0c\u4ee5\u53ca\u5b83\u5982\u4f55\u4f7f\u4ee3\u7801\u66f4\u7b80\u6d01\u6216\u66f4\u7075\u6d3b\n\n**\u672c\u6559\u7a0b\u5047\u8bbe\u60a8\u5df2\u7ecf\u5b89\u88c5\u4e86PyTorch\uff0c\u5e76\u4e14\u719f\u6089\u5f20\u91cf\u64cd\u4f5c\u7684\u57fa\u7840\u77e5\u8bc6\u3002** \n(\u5982\u679c\u60a8\u719f\u6089Numpy\u6570\u7ec4\u64cd\u4f5c\uff0c\u60a8\u4f1a\u53d1\u73b0\u8fd9\u91cc\u4f7f\u7528\u7684PyTorch\u5f20\u91cf\u64cd\u4f5c\u51e0\u4e4e\u76f8\u540c)\u3002\n\nMNIST \u6570\u636e\u8bbe\u7f6e\n----------------\n\n\u6211\u4eec\u5c06\u4f7f\u7528\u7ecf\u5178\u7684 `MNIST <http://deeplearning.net/data/mnist/>`_  \u6570\u636e\u96c6\uff0c\n\u5b83\u7531\u624b\u5199\u6570\u5b57\u7684\u9ed1\u767d\u56fe\u50cf(0\u52309\u4e4b\u95f4)\u7ec4\u6210\u3002\n\n\u6211\u4eec\u5c06\u4f7f\u7528 `pathlib <https://docs.python.org/3/library/pathlib.html>`_ \n\u6765\u5904\u7406\u8def\u5f84(Python 3\u6807\u51c6\u5e93\u7684\u4e00\u90e8\u5206)\uff0c\u5e76\u4f7f\u7528 `requests <http://docs.python-requests.org/en/master/>`_ \u4e0b\u8f7d\u6570\u636e\u96c6\u3002\n\u6211\u4eec\u53ea\u4f1a\u5728\u4f7f\u7528\u5b83\u4eec\u65f6\u5bfc\u5165\u6a21\u5757\uff0c\u8fd9\u6837\u60a8\u5c31\u53ef\u4ee5\u51c6\u786e\u5730\u770b\u5230\u5728\u6bcf\u4e00\u70b9\u4e0a\u4f7f\u7528\u7684\u662f\u4ec0\u4e48\u3002\n\n"
      ]
    },
    {
      "cell_type": "code",
      "execution_count": null,
      "metadata": {
        "collapsed": false
      },
      "outputs": [],
      "source": [
        "from pathlib import Path\nimport requests\n\nDATA_PATH = Path(\"data\")\nPATH = DATA_PATH / \"mnist\"\n\nPATH.mkdir(parents=True, exist_ok=True)\n\nURL = \"http://deeplearning.net/data/mnist/\"\nFILENAME = \"mnist.pkl.gz\"\n\nif not (PATH / FILENAME).exists():\n        content = requests.get(URL + FILENAME).content\n        (PATH / FILENAME).open(\"wb\").write(content)"
      ]
    },
    {
      "cell_type": "markdown",
      "metadata": {},
      "source": [
        "\u6b64\u6570\u636e\u96c6\u4e3anumpy\u6570\u7ec4\u683c\u5f0f\uff0c\u5e76\u4f7f\u7528 pickle (\u4e00\u79cd\u7528\u4e8e\u5e8f\u5217\u5316\u6570\u636e\u7684python\u7279\u5b9a\u683c\u5f0f)\u5b58\u50a8\u3002\n\n"
      ]
    },
    {
      "cell_type": "code",
      "execution_count": null,
      "metadata": {
        "collapsed": false
      },
      "outputs": [],
      "source": [
        "import pickle\nimport gzip\n\nwith gzip.open(PATH / FILENAME, \"rb\") as f:\n        ((x_train, y_train), (x_valid, y_valid), _) = pickle.load(f, encoding=\"latin-1\")"
      ]
    },
    {
      "cell_type": "markdown",
      "metadata": {},
      "source": [
        "\u6bcf\u4e2a\u56fe\u50cf\u4e3a28x28\uff0c\u5e76\u4e14\u5b58\u50a8\u4e3a\u957f\u5ea6\u4e3a784\u7684\u6241\u5e73\u884c(=28x28)\u3002\n\u8ba9\u6211\u4eec\u770b\u4e00\u770b\uff0c\u6211\u4eec\u9700\u8981\u5148\u628a\u5b83\u91cd\u5851\u52302d\u3002\n\n"
      ]
    },
    {
      "cell_type": "code",
      "execution_count": null,
      "metadata": {
        "collapsed": false
      },
      "outputs": [],
      "source": [
        "from matplotlib import pyplot\nimport numpy as np\n\npyplot.imshow(x_train[0].reshape((28, 28)), cmap=\"gray\")\nprint(x_train.shape)"
      ]
    },
    {
      "cell_type": "markdown",
      "metadata": {},
      "source": [
        "PyTorch \u4f7f\u7528 ``torch.tensor``, \u800c\u4e0d\u662f numpy arrays, \u56e0\u6b64\u6211\u4eec\u9700\u8981\u8f6c\u6362\u6211\u4eec\u7684\u6570\u636e\u3002\n\n"
      ]
    },
    {
      "cell_type": "code",
      "execution_count": null,
      "metadata": {
        "collapsed": false
      },
      "outputs": [],
      "source": [
        "import torch\n\nx_train, y_train, x_valid, y_valid = map(\n    torch.tensor, (x_train, y_train, x_valid, y_valid)\n)\nn, c = x_train.shape\nx_train, x_train.shape, y_train.min(), y_train.max()\nprint(x_train, y_train)\nprint(x_train.shape)\nprint(y_train.min(), y_train.max())"
      ]
    },
    {
      "cell_type": "markdown",
      "metadata": {},
      "source": [
        "\u4ece\u96f6\u5f00\u59cb\u642d\u5efa\u7f51\u7edc (\u4e0d\u7528 torch.nn)\n---------------------------------------------\n\n\u9996\u5148\uff0c\u6211\u4eec\u53ea\u4f7f\u7528PyTorch\u5f20\u91cf\u64cd\u4f5c\u6765\u521b\u5efa\u4e00\u4e2a\u6a21\u578b\u3002\u6211\u4eec\u5047\u8bbe\u4f60\u5df2\u7ecf\u719f\u6089\u795e\u7ecf\u7f51\u7edc\u7684\u57fa\u672c\u77e5\u8bc6\u4e86\u3002\n\nPyTorch\u63d0\u4f9b\u4e86\u521b\u5efa\u968f\u673a\u6216\u96f6\u586b\u5145\u5f20\u91cf\u7684\u65b9\u6cd5\uff0c\u6211\u4eec\u5c06\u4f7f\u7528\u8fd9\u79cd\u65b9\u6cd5\u4e3a\u4e00\u4e2a\u7b80\u5355\u7684\u7ebf\u6027\u6a21\u578b\u521b\u5efa\u6743\u91cd\u548c\u504f\u7f6e\u3002\n\u8fd9\u4e9b\u53ea\u662f\u5e38\u89c4\u5f20\u91cf\uff0c\u5b83\u5e26\u6709\u4e00\u4e2a\u975e\u5e38\u7279\u6b8a\u7684\u9644\u52a0\u529f\u80fd\uff1a\u6211\u4eec\u544a\u8bc9PyTorch\uff0c\u5b83\u4eec\u9700\u8981\u4e00\u4e2a\u68af\u5ea6\u3002\n\u8fd9\u4f7f\u5f97PyTorch\u8bb0\u5f55\u4e86\u5728\u5f20\u91cf\u4e0a\u6240\u505a\u7684\u6240\u6709\u64cd\u4f5c\uff0c\u8fd9\u6837\u5b83\u5c31\u53ef\u4ee5\u5728\u53cd\u5411\u4f20\u64ad\u8fc7\u7a0b\u4e2d\u81ea\u52a8\u8ba1\u7b97\u68af\u5ea6\u4e86\uff01\n\n\u5bf9\u4e8e\u6743\u91cd\uff0c\u6211\u4eec\u5728\u521d\u59cb\u5316 **\u4e4b\u540e** \u8bbe\u7f6e ``requires_grad``\uff0c\u56e0\u4e3a\u6211\u4eec\u4e0d\u5e0c\u671b\u8be5\u6b65\u9aa4\u5305\u542b\u5728\u68af\u5ea6\u4e2d\u3002\n(\u6ce8\u610f\uff0cPyTorch\u4e2d\u5c3e\u968f\u7684 ``_`` \u8868\u793a\u64cd\u4f5c\u662f\u539f\u4f4d(in-place)\u6267\u884c\u7684\u3002)\n\n<div class=\"alert alert-info\"><h4>Note</h4><p>\u6211\u4eec\u4f7f\u7528\u8fd9\u7bc7\u8bba\u6587\u4e2d\u7684\u65b9\u6cd5 \u6765\u521d\u59cb\u5316\u6743\u91cd\uff1a\n   `Xavier initialisation <http://proceedings.mlr.press/v9/glorot10a/glorot10a.pdf>`_\n   (by multiplying with 1/sqrt(n)).</p></div>\n\n"
      ]
    },
    {
      "cell_type": "code",
      "execution_count": null,
      "metadata": {
        "collapsed": false
      },
      "outputs": [],
      "source": [
        "import math\n\nweights = torch.randn(784, 10) / math.sqrt(784)\nweights.requires_grad_()\nbias = torch.zeros(10, requires_grad=True)"
      ]
    },
    {
      "cell_type": "markdown",
      "metadata": {},
      "source": [
        "\u7531\u4e8ePyTorch\u81ea\u52a8\u8ba1\u7b97\u68af\u5ea6\u7684\u80fd\u529b\uff0c\u6211\u4eec\u53ef\u4ee5\u4f7f\u7528\u4efb\u4f55\u6807\u51c6Python\u51fd\u6570(\u6216\u53ef\u8c03\u7528\u5bf9\u8c61)\u4f5c\u4e3a\u6a21\u578b\uff01\n\u6240\u4ee5\u8ba9\u6211\u4eec\u5199\u4e00\u4e2a\u7b80\u5355\u7684\u77e9\u9635\u4e58\u6cd5\u548c\u5e7f\u64ad\u52a0\u6cd5\u6765\u521b\u5efa\u4e00\u4e2a\u7b80\u5355\u7684\u7ebf\u6027\u6a21\u578b\u3002\u6211\u4eec\u8fd8\u9700\u8981\u4e00\u4e2a\u6fc0\u6d3b\u51fd\u6570\uff0c\n\u6240\u4ee5\u6211\u4eec\u5c06\u7f16\u5199 `log_softmax` \u5e76\u4f7f\u7528\u5b83\u3002\u8bb0\u4f4f\uff1a\u867d\u7136PyTorch\u63d0\u4f9b\u4e86\u8bb8\u591a\u9884\u5148\u7f16\u5199\u7684\u635f\u5931\u51fd\u6570\u3001\u6fc0\u6d3b\u51fd\u6570\u7b49\u7b49\uff0c\n\u4f46\u662f\u60a8\u53ef\u4ee5\u4f7f\u7528\u666e\u901apython\u8f7b\u677e\u5730\u7f16\u5199\u81ea\u5df1\u7684\u51fd\u6570\u3002PyTorch\u751a\u81f3\u4f1a\u81ea\u52a8\u4e3a\u60a8\u7684\u51fd\u6570\u521b\u5efa\u5feb\u901fGPU\u6216\u77e2\u91cf\u5316CPU\u4ee3\u7801\u3002\n\n"
      ]
    },
    {
      "cell_type": "code",
      "execution_count": null,
      "metadata": {
        "collapsed": false
      },
      "outputs": [],
      "source": [
        "def log_softmax(x):\n    return x - x.exp().sum(-1).log().unsqueeze(-1)\n\ndef model(xb):\n    return log_softmax(xb @ weights + bias)"
      ]
    },
    {
      "cell_type": "markdown",
      "metadata": {},
      "source": [
        "\u5728\u4e0a\u9762\uff0c@\u4ee3\u8868\u70b9\u79ef\u64cd\u4f5c\u3002\u6211\u4eec\u5c06\u5728\u4e00\u6279\u6570\u636e(\u672c\u4f8b\u4e2d\u4e3a64\u5e45\u56fe\u50cf)\u4e0a\u8c03\u7528\u6211\u4eec\u7684\u51fd\u6570\u3002\u8fd9\u662f\u4e00\u4e2a\n\u524d\u5411\u4f20\u9012(*forward pass*)\u3002\n\u6ce8\u610f\uff0c\u6211\u4eec\u7684\u9884\u6d4b\u5728\u8fd9\u4e2a\u9636\u6bb5\u4e0d\u4f1a\u6bd4\u968f\u673a\u7684\u597d\uff0c\u56e0\u4e3a\u6211\u4eec\u4ece\u968f\u673a\u6743\u91cd\u5f00\u59cb\u3002\n\n"
      ]
    },
    {
      "cell_type": "code",
      "execution_count": null,
      "metadata": {
        "collapsed": false
      },
      "outputs": [],
      "source": [
        "bs = 64  # batch size\n\nxb = x_train[0:bs]  # a mini-batch from x\npreds = model(xb)  # predictions\npreds[0], preds.shape\nprint(preds[0], preds.shape)"
      ]
    },
    {
      "cell_type": "markdown",
      "metadata": {},
      "source": [
        "\u6b63\u5982\u4f60\u6240\u770b\u5230\u7684\uff0c``preds`` \u5f20\u91cf\u4e0d\u4ec5\u5305\u542b\u5f20\u91cf\u503c\uff0c\u8fd8\u5305\u542b\u4e00\u4e2a\u68af\u5ea6\u51fd\u6570\u3002\n\u6211\u4eec\u7a0d\u540e\u4f1a\u7528\u8fd9\u4e2a\u6765\u505a\u53cd\u5411\u4f20\u64ad(backprop) \u3002\n\n\u8ba9\u6211\u4eec\u5b9e\u73b0negative log-likelihood\u4f5c\u4e3a\u635f\u5931\u51fd\u6570(\u540c\u6837\uff0c\u6211\u4eec\u53ea\u9700\u8981\u4f7f\u7528\u6807\u51c6Python)\uff1a\n\n"
      ]
    },
    {
      "cell_type": "code",
      "execution_count": null,
      "metadata": {
        "collapsed": false
      },
      "outputs": [],
      "source": [
        "def nll(input, target):\n    return -input[range(target.shape[0]), target].mean()\n\nloss_func = nll"
      ]
    },
    {
      "cell_type": "markdown",
      "metadata": {},
      "source": [
        "\u8ba9\u6211\u4eec\u7528\u6211\u4eec\u7684\u968f\u673a\u6a21\u578b\u6765\u68c0\u9a8c\u6211\u4eec\u7684\u635f\u5931\uff0c\u8fd9\u6837\u6211\u4eec\u5c31\u53ef\u4ee5\u770b\u5230\u6211\u4eec\u5728\u53cd\u5411\u4f20\u64ad\u540e\u662f\u5426\u6709\u6240\u6539\u5584\u3002\n\n"
      ]
    },
    {
      "cell_type": "code",
      "execution_count": null,
      "metadata": {
        "collapsed": false
      },
      "outputs": [],
      "source": [
        "yb = y_train[0:bs]\nprint(loss_func(preds, yb))"
      ]
    },
    {
      "cell_type": "markdown",
      "metadata": {},
      "source": [
        "\u8ba9\u6211\u4eec\u8fd8\u5b9e\u73b0\u4e00\u4e2a\u51fd\u6570\u6765\u8ba1\u7b97\u6211\u4eec\u7684\u6a21\u578b\u7684\u51c6\u786e\u7387\u3002\u5bf9\u4e8e\u6bcf\u4e2a\u9884\u6d4b\uff0c\u5982\u679c\u5177\u6709\u6700\u5927\u503c\u7684\u7d22\u5f15\u4e0e\u76ee\u6807\u503c\u5339\u914d\uff0c\u5219\u9884\u6d4b\u662f\u6b63\u786e\u7684\u3002\n\n"
      ]
    },
    {
      "cell_type": "code",
      "execution_count": null,
      "metadata": {
        "collapsed": false
      },
      "outputs": [],
      "source": [
        "def accuracy(out, yb):\n    preds = torch.argmax(out, dim=1)\n    return (preds == yb).float().mean()"
      ]
    },
    {
      "cell_type": "markdown",
      "metadata": {},
      "source": [
        "\u8ba9\u6211\u4eec\u6765\u68c0\u67e5\u4e00\u4e0b\u6211\u4eec\u7684\u968f\u673a\u6a21\u578b\u7684\u51c6\u786e\u6027\uff0c\u8fd9\u6837\u6211\u4eec\u5c31\u53ef\u4ee5\u770b\u5230\u6211\u4eec\u7684\u51c6\u786e\u7387\u662f\u5426\u968f\u7740\u635f\u5931\u7684\u589e\u52a0\u800c\u63d0\u9ad8\u3002\n\n"
      ]
    },
    {
      "cell_type": "code",
      "execution_count": null,
      "metadata": {
        "collapsed": false
      },
      "outputs": [],
      "source": [
        "print(accuracy(preds, yb))"
      ]
    },
    {
      "cell_type": "markdown",
      "metadata": {},
      "source": [
        "\u6211\u4eec\u73b0\u5728\u53ef\u4ee5\u8fd0\u884c\u4e00\u4e2a\u8bad\u7ec3\u5faa\u73af\u3002\u5bf9\u4e8e\u6bcf\u6b21\u8fed\u4ee3\uff0c\u6211\u4eec\u5c06\uff1a\n\n- \u9009\u62e9\u6570\u636e\u7684 \u4e00\u4e2a mini-batch (of size ``bs``)\n- \u4f7f\u7528\u6a21\u578b\u505a\u9884\u6d4b\n- \u8ba1\u7b97\u635f\u5931\n- ``loss.backward()`` \u66f4\u65b0\u6a21\u578b\u7684\u68af\u5ea6, \u5728\u8fd9\u4e2a\u4f8b\u5b50\u4e2d\u662f ``weights`` \u548c ``bias``.\n\n\u6211\u4eec\u73b0\u5728\u4f7f\u7528\u8fd9\u4e9b\u68af\u5ea6\u6765\u66f4\u65b0\u6743\u91cd\u548c\u504f\u7f6e\u3002\u6211\u4eec\u5728 ``torch.no_grad()`` \u4e0a\u4e0b\u6587\u7ba1\u7406\u5668\u4e2d\u8fd9\u6837\u505a\uff0c\n\u56e0\u4e3a\u6211\u4eec\u4e0d\u5e0c\u671b\u5728\u4e0b\u4e00\u6b21\u8ba1\u7b97\u68af\u5ea6\u65f6\u8bb0\u5f55\u8fd9\u4e9b\u64cd\u4f5c\u3002\u60a8\u53ef\u4ee5\u5728 `\u8fd9\u91cc <https://pytorch.org/docs/stable/notes/autograd.html>`_.\n\u9605\u8bfb\u6709\u5173PyTorch\u7684Autograd\u8bb0\u5f55\u64cd\u4f5c\u7684\u66f4\u591a\u4fe1\u606f\u3002\n\n\u7136\u540e\uff0c\u6211\u4eec\u5c06\u68af\u5ea6\u8bbe\u7f6e\u4e3a\u96f6\uff0c\u4ee5\u4fbf\u4e3a\u4e0b\u4e00\u4e2a\u5faa\u73af\u505a\u597d\u51c6\u5907\u3002\u5426\u5219\uff0c\u6211\u4eec\u7684\u68af\u5ea6\u5c06\u8bb0\u5f55\u5df2\u7ecf\u53d1\u751f\u7684\n\u6240\u6709\u64cd\u4f5c\u7684\u8fd0\u884c\u8bb0\u5f55(i.e. ``loss.backward()`` \u5c06\u68af\u5ea6 *\u52a0* \u5230\u5df2\u7ecf\u5b58\u50a8\u7684\u68af\u5ea6\u4e2d\uff0c\u800c\u4e0d\u662f\u66ff\u6362\u5b83\u4eec)\u3002\n\n.. tip:: \u60a8\u53ef\u4ee5\u4f7f\u7528\u6807\u51c6python\u8c03\u8bd5\u5668\u9010\u6b65\u904d\u5386PyTorch\u4ee3\u7801\uff0c\u5141\u8bb8\u60a8\u5728\u6bcf\u4e00\u6b65\u68c0\u67e5\u5404\u79cd\u53d8\u91cf\u503c\u3002\n   \u5728\u4e0b\u9762\u53d6\u6d88\u6ce8\u91ca  ``set_trace()`` \u6765\u5c1d\u8bd5\u5b83\u3002\n\n\n"
      ]
    },
    {
      "cell_type": "code",
      "execution_count": null,
      "metadata": {
        "collapsed": false
      },
      "outputs": [],
      "source": [
        "from IPython.core.debugger import set_trace\n\nlr = 0.5  # learning rate\nepochs = 2  # how many epochs to train for\n\nfor epoch in range(epochs):\n    for i in range((n - 1) // bs + 1):\n        #         set_trace()\n        start_i = i * bs\n        end_i = start_i + bs\n        xb = x_train[start_i:end_i]\n        yb = y_train[start_i:end_i]\n        pred = model(xb)\n        loss = loss_func(pred, yb)\n\n        loss.backward()\n        with torch.no_grad():\n            weights -= weights.grad * lr\n            bias -= bias.grad * lr\n            weights.grad.zero_()\n            bias.grad.zero_()"
      ]
    },
    {
      "cell_type": "markdown",
      "metadata": {},
      "source": [
        "\u5c31\u662f\u8fd9\u6837\uff1a\u6211\u4eec\u5df2\u7ecf\u5b8c\u5168\u4ece\u96f6\u5f00\u59cb\u521b\u5efa\u548c\u8bad\u7ec3\u4e86\u4e00\u4e2a\u6700\u5c0f\u7684\u795e\u7ecf\u7f51\u7edc(\u5728\u8fd9\u79cd\u60c5\u51b5\u4e0b\uff0c\n\u662f\u4e00\u4e2alogistic regression\uff0c\u56e0\u4e3a\u6211\u4eec\u6ca1\u6709\u9690\u85cf\u7684\u5c42)\uff01\n\n\u8ba9\u6211\u4eec\u68c0\u67e5\u635f\u5931\u548c\u51c6\u786e\u6027\uff0c\u5e76\u6bd4\u8f83\u6211\u4eec\u4e4b\u524d\u5f97\u5230\u7684\u3002\u6211\u4eec\u9884\u8ba1\u635f\u5931\u5c06\u6709\u6240\u51cf\u5c11\uff0c\n\u51c6\u786e\u6027\u5c06\u6709\u6240\u63d0\u9ad8\uff0c\u800c\u4e14\u4ed6\u4eec\u5df2\u7ecf\u505a\u5230\u4e86\u3002\n\n"
      ]
    },
    {
      "cell_type": "code",
      "execution_count": null,
      "metadata": {
        "collapsed": false
      },
      "outputs": [],
      "source": [
        "print(loss_func(model(xb), yb), accuracy(model(xb), yb))"
      ]
    },
    {
      "cell_type": "markdown",
      "metadata": {},
      "source": [
        "\u4f7f\u7528 torch.nn.functional\n------------------------------\n\n\u73b0\u5728\u6211\u4eec\u5c06\u91cd\u6784\u6211\u4eec\u7684\u4ee3\u7801\uff0c\u8fd9\u6837\u5b83\u5c31\u53ef\u4ee5\u50cf\u4ee5\u524d\u90a3\u6837\u505a\u4e86\uff0c\u53ea\u662f\u6211\u4eec\u5c06\u5f00\u59cb\u5229\u7528PyTorch\n\u7684 ``nn`` \u5305\u4e2d\u7684\u7c7b\u6765\u4f7f\u5b83\u66f4\u52a0\u7b80\u6d01\u548c\u7075\u6d3b\u3002\n\u4ece\u8fd9\u91cc\u5f00\u59cb\u7684\u6bcf\u4e00\u6b65\uff0c\u6211\u4eec\u90fd\u5e94\u8be5\u5c06\u4ee3\u7801\u53d8\u6210\u4e00\u4e2a\u6216\u591a\u4e2a\uff1a\u66f4\u77ed\u3001\u66f4\u5bb9\u6613\u7406\u89e3\u548c/\u6216\u66f4\u7075\u6d3b\u3002\n\n\u7b2c\u4e00\u4e2a\u4e5f\u662f\u6700\u7b80\u5355\u7684\u6b65\u9aa4\u662f\u5c06\u624b\u5199\u7684\u6fc0\u6d3b\u548c\u635f\u5931\u51fd\u6570\u66ff\u6362\u4e3a ``torch.nn.function`` \n(\u901a\u5e38\u6309\u7167\u7ea6\u5b9a\u5bfc\u5165\u547d\u540d\u7a7a\u95f4F)\u4e2d\u7684\u51fd\u6570\uff0c\u4ece\u800c\u7f29\u77ed\u4ee3\u7801\u3002\n\u6b64\u6a21\u5757\u5305\u542b ``torch.nn`` \u5e93\u4e2d\u7684\u6240\u6709\u51fd\u6570(\u800c\u5e93\u7684\u5176\u4ed6\u90e8\u5206\u5219\u5305\u542b\u7c7b)\u3002\n\u9664\u4e86\u5e7f\u6cdb\u7684\u635f\u5931\u548c\u6fc0\u6d3b\u51fd\u6570\u4e4b\u5916\uff0c\u60a8\u8fd8\u53ef\u4ee5\u5728\u8fd9\u91cc\u627e\u5230\u4e00\u4e9b\u521b\u5efa\u795e\u7ecf\u7f51\u7edc\u7684\u65b9\u4fbf\u51fd\u6570\uff0c\n\u4f8b\u5982\u6c60\u5316\u51fd\u6570\u3002(\u8fd8\u6709\u4e00\u4e9b\u51fd\u6570\u7528\u4e8e\u8fdb\u884c\u5377\u79ef\u3001\u7ebf\u6027\u5c42\u7b49\uff0c\u4f46\u6b63\u5982\u6211\u4eec\u5c06\u8981\u770b\u5230\u7684\u90a3\u6837\uff0c\n\u901a\u5e38\u4f7f\u7528\u5e93\u7684\u5176\u4ed6\u90e8\u5206\u6765\u66f4\u597d\u5730\u5904\u7406\u8fd9\u4e9b\u51fd\u6570\u3002)\n\n\u5982\u679c\u60a8\u4f7f\u7528\u7684\u662fnegative log likelihood loss\u548clog softmax activation\uff0c\n\u5219Pytorch\u63d0\u4f9b\u4e86\u4e00\u4e2a\u5c06\u4e24\u8005\u7ed3\u5408\u5728\u4e00\u8d77\u7684\u51fd\u6570 ``F.cross_entropy`` \u3002\n\u6240\u4ee5\u6211\u4eec\u751a\u81f3\u53ef\u4ee5\u4ece\u6211\u4eec\u4e0a\u9762\u7684\u6a21\u578b\u4e2d\u5220\u9664\u6fc0\u6d3b\u51fd\u6570\u3002\n\n"
      ]
    },
    {
      "cell_type": "code",
      "execution_count": null,
      "metadata": {
        "collapsed": false
      },
      "outputs": [],
      "source": [
        "import torch.nn.functional as F\n\nloss_func = F.cross_entropy\n\ndef model(xb):\n    return xb @ weights + bias"
      ]
    },
    {
      "cell_type": "markdown",
      "metadata": {},
      "source": [
        "\u6ce8\u610f\uff0c\u6211\u4eec\u4e0d\u518d\u5728 ``model``  \u51fd\u6570\u4e2d\u8c03\u7528 ``log_softmax`` \u3002 \n\u73b0\u5728\u8ba9\u6211\u4eec\u786e\u8ba4\u6211\u4eec\u7684\u635f\u5931\u548c\u51c6\u786e\u6027\u4e0e\u4ee5\u524d\u4e00\u6837\uff1a\n\n"
      ]
    },
    {
      "cell_type": "code",
      "execution_count": null,
      "metadata": {
        "collapsed": false
      },
      "outputs": [],
      "source": [
        "print(loss_func(model(xb), yb), accuracy(model(xb), yb))"
      ]
    },
    {
      "cell_type": "markdown",
      "metadata": {},
      "source": [
        "\u4f7f\u7528 nn.Module \u91cd\u6784\n-----------------------------\n\u63a5\u4e0b\u6765\uff0c\u6211\u4eec\u5c06\u4f7f\u7528 ``nn.Module`` \u548c ``nn.Parameter`` \u6765\u8fdb\u884c\u66f4\u6e05\u6670\u3001\u66f4\u7b80\u6d01\u7684\u8bad\u7ec3\u5faa\u73af\u3002\n\u6211\u4eec\u521b\u5efa ``nn.Module`` \u7684\u5b50\u7c7b(\u5b83\u672c\u8eab\u662f\u4e00\u4e2a\u7c7b\uff0c\u80fd\u591f\u8ddf\u8e2a\u72b6\u6001) \u3002\n\u5728\u8fd9\u4e2a\u6848\u4f8b\u4e2d\uff0c\u6211\u4eec\u60f3\u8981\u521b\u5efa\u4e00\u4e2a\u7c7b\u6765\u4e3a\u4e0b\u4e00\u6b65\u4fdd\u5b58\u6211\u4eec\u7684\u6743\u91cd\u3001\u504f\u7f6e\u548c\u65b9\u6cd5 \u3002\n``nn.Module`` \u6709\u8bb8\u591a\u5c5e\u6027\u548c\u65b9\u6cd5(\u4f8b\u5982 ``.parameters()`` \u548c ``.zero_grad()`` \uff0c\n\u6211\u4eec\u5c06\u4f7f\u7528\u8fd9\u4e9b\u5c5e\u6027\u548c\u65b9\u6cd5\u3002\n\n<div class=\"alert alert-info\"><h4>Note</h4><p>``nn.Module`` (\u5927\u5199 M)  \u662fPyTorch\u7279\u6709\u7684\u6982\u5ff5\uff0c\u662f\u6211\u4eec\u5c06\u8981\u7ecf\u5e38\u4f7f\u7528\u7684\u4e00\u4e2a\u7c7b\u3002\n   \u4e0d\u53ef\u5c06 ``nn.Module`` \u4e0ePython\u7684 `module <https://docs.python.org/3/tutorial/modules.html>`_ \n   \u6982\u5ff5(\u5c0f\u5199m)\u6df7\u6dc6\uff0c\u540e\u8005\u662f\u53ef\u4ee5\u5bfc\u5165\u7684Python\u4ee3\u7801\u6587\u4ef6\u3002</p></div>\n\n"
      ]
    },
    {
      "cell_type": "code",
      "execution_count": null,
      "metadata": {
        "collapsed": false
      },
      "outputs": [],
      "source": [
        "from torch import nn\n\nclass Mnist_Logistic(nn.Module):\n    def __init__(self):\n        super().__init__()\n        self.weights = nn.Parameter(torch.randn(784, 10) / math.sqrt(784))\n        self.bias = nn.Parameter(torch.zeros(10))\n\n    def forward(self, xb):\n        return xb @ self.weights + self.bias"
      ]
    },
    {
      "cell_type": "markdown",
      "metadata": {},
      "source": [
        "\u7531\u4e8e\u6211\u4eec\u73b0\u5728\u4f7f\u7528\u7684\u662f\u4e00\u4e2a\u5bf9\u8c61\uff0c\u800c\u4e0d\u662f\u4ec5\u4ec5\u4f7f\u7528\u4e00\u4e2a\u51fd\u6570\uff0c\u6240\u4ee5\u6211\u4eec\u9996\u5148\u5fc5\u987b\u5b9e\u4f8b\u5316\u6211\u4eec\u7684\u6a21\u578b\uff1a\n\n"
      ]
    },
    {
      "cell_type": "code",
      "execution_count": null,
      "metadata": {
        "collapsed": false
      },
      "outputs": [],
      "source": [
        "model = Mnist_Logistic()"
      ]
    },
    {
      "cell_type": "markdown",
      "metadata": {},
      "source": [
        "\u73b0\u5728\u6211\u4eec\u53ef\u4ee5\u548c\u4ee5\u524d\u4e00\u6837\u8ba1\u7b97\u635f\u5931\u4e86\u3002\u6ce8\u610f\uff0c``nn.Module`` \u5bf9\u8c61\u88ab\u5f53\u4f5c\u51fd\u6570\u6765\u4f7f\u7528(\u5373\u5b83\u4eec\u662f\u53ef\u8c03\u7528\u7684)\uff0c\n\u4f46\u662f\u5728\u5e55\u540ePytorch\u4f1a\u81ea\u52a8\u8c03\u7528\u6211\u4eec\u7684 ``forward`` \u65b9\u6cd5\u3002\n\n"
      ]
    },
    {
      "cell_type": "code",
      "execution_count": null,
      "metadata": {
        "collapsed": false
      },
      "outputs": [],
      "source": [
        "print(loss_func(model(xb), yb))"
      ]
    },
    {
      "cell_type": "markdown",
      "metadata": {},
      "source": [
        "\u4ee5\u524d\uff0c\u5728\u6211\u4eec\u7684\u8bad\u7ec3\u5faa\u73af\u4e2d\uff0c\u6211\u4eec\u5fc5\u987b\u6309\u540d\u79f0\u66f4\u65b0\u6bcf\u4e2a\u53c2\u6570\u7684\u503c\uff0c\u5e76\u624b\u52a8\u5c06\u6bcf\u4e2a\u53c2\u6570\u7684\u68af\u5ea6\u5206\u522b\u6e05\u96f6\uff0c\u5982\u4e0b\u6240\u793a\uff1a\n::\n  with torch.no_grad():\n      weights -= weights.grad * lr\n      bias -= bias.grad * lr\n      weights.grad.zero_()\n      bias.grad.zero_()\n\n\n\u73b0\u5728\uff0c\u6211\u4eec\u53ef\u4ee5\u5229\u7528 model.parameters() \u548c model.zero_grad() \n(\u5b83\u4eec\u90fd\u662f\u7531PyTorch\u4e3a ``nn.Module`` \u5b9a\u4e49\u7684)\u4f7f\u8fd9\u4e9b\u6b65\u9aa4\u66f4\u7b80\u6d01\uff0c\n\u66f4\u4e0d\u5bb9\u6613\u5fd8\u8bb0\u4e00\u4e9b\u53c2\u6570\uff0c\u7279\u522b\u662f\u5982\u679c\u6211\u4eec\u6709\u4e00\u4e2a\u66f4\u590d\u6742\u7684\u6a21\u578b:\n::\n  with torch.no_grad():\n      for p in model.parameters(): p -= p.grad * lr\n      model.zero_grad()\n\n\n\u6211\u4eec\u5c06\u628a\u6211\u4eec\u7684\u5c0f\u8bad\u7ec3\u5faa\u73af\u5c01\u88c5\u5728\u4e00\u4e2a ``fit`` \u51fd\u6570\u4e2d\uff0c\u8fd9\u6837\u6211\u4eec\u53ef\u4ee5\u5728\u4ee5\u540e\u518d\u8fd0\u884c\u5b83\u3002\n\n"
      ]
    },
    {
      "cell_type": "code",
      "execution_count": null,
      "metadata": {
        "collapsed": false
      },
      "outputs": [],
      "source": [
        "def fit():\n    for epoch in range(epochs):\n        for i in range((n - 1) // bs + 1):\n            start_i = i * bs\n            end_i = start_i + bs\n            xb = x_train[start_i:end_i]\n            yb = y_train[start_i:end_i]\n            pred = model(xb)\n            loss = loss_func(pred, yb)\n\n            loss.backward()\n            with torch.no_grad():\n                for p in model.parameters():\n                    p -= p.grad * lr\n                model.zero_grad()\n\nfit()"
      ]
    },
    {
      "cell_type": "markdown",
      "metadata": {},
      "source": [
        "\u8ba9\u6211\u4eec\u518d\u68c0\u67e5\u4e00\u4e0b\u6211\u4eec\u7684\u635f\u5931\u662f\u5426\u5df2\u7ecf\u51cf\u5c11\u4e86:\n\n"
      ]
    },
    {
      "cell_type": "code",
      "execution_count": null,
      "metadata": {
        "collapsed": false
      },
      "outputs": [],
      "source": [
        "print(loss_func(model(xb), yb))"
      ]
    },
    {
      "cell_type": "markdown",
      "metadata": {},
      "source": [
        "\u4f7f\u7528 nn.Linear \u91cd\u6784\n-------------------------\n\n\u6211\u4eec\u7ee7\u7eed\u91cd\u6784\u6211\u4eec\u7684\u4ee3\u7801\u3002\u4e0e\u624b\u52a8\u5b9a\u4e49\u548c\u521d\u59cb\u5316 ``self.weights`` \u548c ``self.bias`` \n\u4ee5\u53ca\u8ba1\u7b97 ``xb @ self.weights + self.bias`` \u4e0d\u540c\uff0c\n\u6211\u4eec\u5c06\u4f7f\u7528 Pytorch \u7684\u7c7b `nn.Linear <https://pytorch.org/docs/stable/nn.html#linear-layers>`_ \n\u6765\u6784\u5efa\u7ebf\u6027\u5c42\uff0c\u5c06\u4e3a\u6211\u4eec\u5b8c\u6210\u6240\u6709\u8fd9\u4e9b\u5de5\u4f5c\u3002 Pytorch \u6709\u8bb8\u591a\u7c7b\u578b\u7684\u9884\u5b9a\u4e49\u5c42\uff0c\n\u5b83\u4eec\u53ef\u4ee5\u6781\u5927\u5730\u7b80\u5316\u6211\u4eec\u7684\u4ee3\u7801\uff0c\u800c\u4e14\u901a\u5e38\u4e5f\u4f1a\u4f7f\u5b83\u66f4\u5feb\u3002\n\n"
      ]
    },
    {
      "cell_type": "code",
      "execution_count": null,
      "metadata": {
        "collapsed": false
      },
      "outputs": [],
      "source": [
        "class Mnist_Logistic(nn.Module):\n    def __init__(self):\n        super().__init__()\n        self.lin = nn.Linear(784, 10)\n\n    def forward(self, xb):\n        return self.lin(xb)"
      ]
    },
    {
      "cell_type": "markdown",
      "metadata": {},
      "source": [
        "\u6211\u4eec\u5b9e\u4f8b\u5316\u6211\u4eec\u7684\u6a21\u578b\u5e76\u4ee5\u4e0e\u4ee5\u524d\u76f8\u540c\u7684\u65b9\u5f0f\u8ba1\u7b97\u635f\u5931:\n\n"
      ]
    },
    {
      "cell_type": "code",
      "execution_count": null,
      "metadata": {
        "collapsed": false
      },
      "outputs": [],
      "source": [
        "model = Mnist_Logistic()\nprint(loss_func(model(xb), yb))"
      ]
    },
    {
      "cell_type": "markdown",
      "metadata": {},
      "source": [
        "\u6211\u4eec\u4ecd\u7136\u53ef\u4ee5\u50cf\u4ee5\u524d\u4e00\u6837\u4f7f\u7528\u540c\u6837\u7684 ``fit`` \u65b9\u6cd5\u3002\n\n"
      ]
    },
    {
      "cell_type": "code",
      "execution_count": null,
      "metadata": {
        "collapsed": false
      },
      "outputs": [],
      "source": [
        "fit()\n\nprint(loss_func(model(xb), yb))"
      ]
    },
    {
      "cell_type": "markdown",
      "metadata": {},
      "source": [
        "\u4f7f\u7528 optim \u91cd\u6784\n------------------------------\n\nPytorch \u8fd8\u6709\u4e00\u4e2a\u5305\u542b\u5404\u79cd\u4f18\u5316\u7b97\u6cd5\u7684\u5305 ``torch.optim`` \u3002\n\u6211\u4eec\u53ef\u4ee5\u4f7f\u7528\u4f18\u5316\u5668\u4e2d\u7684 ``step`` \u65b9\u6cd5\u5411\u524d\u8fc8\u51fa\u4e00\u6b65\uff0c\u800c\u4e0d\u662f\u624b\u52a8\u66f4\u65b0\u6bcf\u4e2a\u53c2\u6570\u3002\n\n\u8fd9\u5c06\u8ba9\u6211\u4eec\u53d6\u4ee3\u4ee5\u524d\u624b\u5de5\u7f16\u5199\u7684\u4f18\u5316\u6b65\u9aa4:\n::\n  with torch.no_grad():\n      for p in model.parameters(): p -= p.grad * lr\n      model.zero_grad()\n\n\u6240\u4ee5\u6211\u4eec\u7684\u4ee3\u7801\u53d8\u6210\u4e86\u8fd9\u6837:\n::\n  opt.step()\n  opt.zero_grad()\n\n(``optim.zero_grad()`` \u5c06\u68af\u5ea6\u91cd\u7f6e\u4e3a0\uff0c\u6211\u4eec\u9700\u8981\u5728\u8ba1\u7b97\u4e0b\u4e00\u4e2aminibatch\u7684\u68af\u5ea6\u4e4b\u524d\u8c03\u7528\u5b83\u3002)\n\n"
      ]
    },
    {
      "cell_type": "code",
      "execution_count": null,
      "metadata": {
        "collapsed": false
      },
      "outputs": [],
      "source": [
        "from torch import optim"
      ]
    },
    {
      "cell_type": "markdown",
      "metadata": {},
      "source": [
        "\u6211\u4eec\u5c06\u5b9a\u4e49\u4e00\u4e2a\u5c0f\u51fd\u6570\u6765\u521b\u5efa\u6211\u4eec\u7684\u6a21\u578b\u548c\u4f18\u5316\u5668\uff0c\u4ee5\u4fbf\u5c06\u6765\u53ef\u4ee5\u91cd\u7528\u5b83\u3002\n\n"
      ]
    },
    {
      "cell_type": "code",
      "execution_count": null,
      "metadata": {
        "collapsed": false
      },
      "outputs": [],
      "source": [
        "def get_model():\n    model = Mnist_Logistic()\n    return model, optim.SGD(model.parameters(), lr=lr)\n\nmodel, opt = get_model()\nprint(loss_func(model(xb), yb))\n\nfor epoch in range(epochs):\n    for i in range((n - 1) // bs + 1):\n        start_i = i * bs\n        end_i = start_i + bs\n        xb = x_train[start_i:end_i]\n        yb = y_train[start_i:end_i]\n        pred = model(xb)\n        loss = loss_func(pred, yb)\n\n        loss.backward()\n        opt.step()\n        opt.zero_grad()\n\nprint(loss_func(model(xb), yb))"
      ]
    },
    {
      "cell_type": "markdown",
      "metadata": {},
      "source": [
        "\u4f7f\u7528 Dataset \u91cd\u6784\n------------------------------\n\nPyTorch \u6709\u4e00\u4e2a\u62bd\u8c61 ``Dataset`` \u7c7b\u3002Dataset\u53ef\u4ee5\u662f\u4efb\u4f55\u5177\u6709 ``__len__`` \u51fd\u6570(\u7531Python\u7684\u6807\u51c6len\u51fd\u6570\u8c03\u7528)\n\u548c ``__getitem__`` \u51fd\u6570\u4f5c\u4e3a\u7d22\u5f15\u7684\u65b9\u6cd5\u7684\u4efb\u4f55\u6570\u636e\u96c6\u3002\n`\u6b64\u6559\u7a0b <https://pytorch.org/tutorials/beginner/data_loading_tutorial.html>`_ \n\u5c06\u4ecb\u7ecd\u5982\u4f55\u5c06\u81ea\u5b9a\u4e49\u7684 ``FacialLandmarkDataset`` \u7c7b\u521b\u5efa\u4e3a ``Dataset`` \u7684\u5b50\u7c7b\u3002\n\nPyTorch \u7684 `TensorDataset <https://pytorch.org/docs/stable/_modules/torch/utils/data/dataset.html#TensorDataset>`_\n\u662f\u4e00\u4e2a\u5c01\u88c5\u4e86tensors\u7684 Dataset \u3002 \u901a\u8fc7\u5b9a\u4e49\u957f\u5ea6\u548c\u7d22\u5f15\u65b9\u5f0f\uff0c\u8fd9\u4e5f\u4e3a\u6211\u4eec\u63d0\u4f9b\u4e86\u6cbf\u7740\u5f20\u91cf\u7684\u7b2c\u4e00\u7ef4\u8fed\u4ee3\u3001\u7d22\u5f15\u548c\u5207\u7247\u7684\u65b9\u6cd5\u3002\n\u8fd9\u5c06\u4f7f\u6211\u4eec\u5728\u8bad\u7ec3\u8fc7\u7a0b\u4e2d\u66f4\u5bb9\u6613\u8bbf\u95ee\u540c\u4e00\u884c\u4e2d\u7684\u72ec\u7acb\u53d8\u91cf\u548c\u56e0\u53d8\u91cf\u3002\n\n"
      ]
    },
    {
      "cell_type": "code",
      "execution_count": null,
      "metadata": {
        "collapsed": false
      },
      "outputs": [],
      "source": [
        "from torch.utils.data import TensorDataset"
      ]
    },
    {
      "cell_type": "markdown",
      "metadata": {},
      "source": [
        "\u5305\u62ec ``x_train`` \u548c ``y_train`` \u90fd\u53ef\u4ee5\u88ab\u7ec4\u5408\u5230\u5355\u4e2a\u7684 ``TensorDataset``,\n\u8fd9\u6837\u4f1a\u4f7f\u8fed\u4ee3\u548c\u7d22\u5f15\u53d8\u5f97\u66f4\u5bb9\u6613\u3002\n\n"
      ]
    },
    {
      "cell_type": "code",
      "execution_count": null,
      "metadata": {
        "collapsed": false
      },
      "outputs": [],
      "source": [
        "train_ds = TensorDataset(x_train, y_train)"
      ]
    },
    {
      "cell_type": "markdown",
      "metadata": {},
      "source": [
        "\u4ee5\u524d\uff0c\u6211\u4eec\u5fc5\u987b\u5206\u522b\u8fed\u4ee3 x \u548cy \u83b7\u5f97 minibatches:\n::\n    xb = x_train[start_i:end_i]\n    yb = y_train[start_i:end_i]\n\n\n\u73b0\u5728\u6211\u4eec\u53ea\u9700\u8981\u4e00\u6b65\u5c31\u53ef\u4ee5\u641e\u5b9a:\n::\n    xb,yb = train_ds[i*bs : i*bs+bs]\n\n\n"
      ]
    },
    {
      "cell_type": "code",
      "execution_count": null,
      "metadata": {
        "collapsed": false
      },
      "outputs": [],
      "source": [
        "model, opt = get_model()\n\nfor epoch in range(epochs):\n    for i in range((n - 1) // bs + 1):\n        xb, yb = train_ds[i * bs: i * bs + bs]\n        pred = model(xb)\n        loss = loss_func(pred, yb)\n\n        loss.backward()\n        opt.step()\n        opt.zero_grad()\n\nprint(loss_func(model(xb), yb))"
      ]
    },
    {
      "cell_type": "markdown",
      "metadata": {},
      "source": [
        "\u4f7f\u7528 DataLoader \u91cd\u6784\n------------------------------\n\nPytorch \u7684 ``DataLoader`` \u8d1f\u8d23\u7ba1\u7406 batches \u3002\u60a8\u53ef\u4ee5\u4ece\u4efb\u4f55 ``Dataset`` \u4e2d\u521b\u5efa ``DataLoader`` \u3002\n``DataLoader`` \u4f7f\u904d\u5386\u6279\u5904\u7406\u53d8\u5f97\u66f4\u5bb9\u6613\u3002 ``DataLoader`` \u4e0d\u9700\u8981\u4f7f\u7528 ``train_ds[i*bs : i*bs+bs]``  \uff0c\n\u800c\u662f\u81ea\u52a8\u7ed9\u6211\u4eec\u6bcf\u4e2a minibatch \u3002\n\n"
      ]
    },
    {
      "cell_type": "code",
      "execution_count": null,
      "metadata": {
        "collapsed": false
      },
      "outputs": [],
      "source": [
        "from torch.utils.data import DataLoader\n\ntrain_ds = TensorDataset(x_train, y_train)\ntrain_dl = DataLoader(train_ds, batch_size=bs)"
      ]
    },
    {
      "cell_type": "markdown",
      "metadata": {},
      "source": [
        "\u4ee5\u524d\uff0c\u6211\u4eec\u7684\u5faa\u73af\u8fed\u4ee3 batches (xb, yb)\uff0c\u5982\u4e0b\u6240\u793a :\n::\n      for i in range((n-1)//bs + 1):\n          xb,yb = train_ds[i*bs : i*bs+bs]\n          pred = model(xb)\n\n\u73b0\u5728\uff0c\u6211\u4eec\u7684\u5faa\u73af\u8981\u5e72\u51c0\u5f97\u591a\uff0c\u56e0\u4e3a (xb, yb) \u662f\u4ece\u6570\u636e\u52a0\u8f7d\u5668\u81ea\u52a8\u52a0\u8f7d\u7684:\n::\n      for xb,yb in train_dl:\n          pred = model(xb)\n\n"
      ]
    },
    {
      "cell_type": "code",
      "execution_count": null,
      "metadata": {
        "collapsed": false
      },
      "outputs": [],
      "source": [
        "model, opt = get_model()\n\nfor epoch in range(epochs):\n    for xb, yb in train_dl:\n        pred = model(xb)\n        loss = loss_func(pred, yb)\n\n        loss.backward()\n        opt.step()\n        opt.zero_grad()\n\nprint(loss_func(model(xb), yb))"
      ]
    },
    {
      "cell_type": "markdown",
      "metadata": {},
      "source": [
        "\u611f\u8c22 Pytorch \u7684 ``nn.Module``, ``nn.Parameter``, ``Dataset``, \u548c ``DataLoader``,\n\u6211\u4eec\u7684training loop\u73b0\u5728\u5927\u5927\u7f29\u5c0f\uff0c\u66f4\u5bb9\u6613\u7406\u89e3\u3002\u73b0\u5728\u8ba9\u6211\u4eec\u5c1d\u8bd5\u5728\u5b9e\u8df5\u4e2d\u6dfb\u52a0\u521b\u5efa\u6709\u6548\u6a21\u578b\u6240\u9700\u7684\u57fa\u672c\u7279\u6027\u3002\n\n\u6dfb\u52a0\u9a8c\u8bc1\n-----------------------\n\n\u5728\u7b2c\u4e00\u8282\u4e2d\uff0c\u6211\u4eec\u53ea\u662f\u8bd5\u56fe\u5efa\u7acb\u4e00\u4e2a\u5408\u7406\u7684\u8bad\u7ec3\u5faa\u73af\uff0c\u4ee5\u4fbf\u5728\u6211\u4eec\u7684\u8bad\u7ec3\u6570\u636e\u4e0a\u4f7f\u7528\u3002\n\u5728\u73b0\u5b9e\u4e2d\uff0c\u60a8\u4e5f\u5e94\u8be5\u6709\u4e00\u4e2a\u9a8c\u8bc1\u96c6\uff0c\u4ee5\u786e\u5b9a\u60a8\u662f\u5426\u8fc7\u62df\u5408\u4e86\u3002\n\n\u8c03\u6574\u8bad\u7ec3\u6570\u636e\u5bf9\u4e8e\u9632\u6b62\u6279\u6b21\u548c\u8fc7\u5ea6\u62df\u5408\u4e4b\u95f4\u7684\u76f8\u5173\u6027\u662f\u5f88\u91cd\u8981\u7684\n(`important <https://www.quora.com/Does-the-order-of-training-data-matter-when-training-neural-networks>`_)\u3002\n\u53e6\u4e00\u65b9\u9762\uff0c\u65e0\u8bba\u6211\u4eec\u662f\u5426\u5bf9\u9a8c\u8bc1\u96c6\u6d17\u724c\uff0c\u9a8c\u8bc1\u635f\u5931\u90fd\u662f\u76f8\u540c\u7684\u3002\n\u7531\u4e8e\u6d17\u724c\u9700\u8981\u989d\u5916\u7684\u65f6\u95f4\uff0c\u56e0\u6b64\u5bf9\u9a8c\u8bc1\u6570\u636e\u8fdb\u884c\u6d17\u724c\u662f\u6ca1\u6709\u610f\u4e49\u7684\u3002\n\n\u5bf9\u4e8e\u9a8c\u8bc1\u96c6\uff0c\u6211\u4eec\u5c06\u4f7f\u7528\u4e00\u4e2a\u6279\u5904\u7406\u5927\u5c0f\uff0c\u5b83\u662f\u8bad\u7ec3\u96c6\u7684\u4e24\u500d\u5927\u3002\u8fd9\u662f\u56e0\u4e3a\u9a8c\u8bc1\u96c6\u4e0d\u9700\u8981\u53cd\u5411\u4f20\u64ad\uff0c\n\u56e0\u6b64\u5360\u7528\u7684\u5185\u5b58\u66f4\u5c11(\u4e0d\u9700\u8981\u5b58\u50a8\u68af\u5ea6)\u3002\u6211\u4eec\u5229\u7528\u8fd9\u4e00\u70b9\u4f7f\u7528\u66f4\u5927\u7684\u6279\u6b21\u5927\u5c0f\uff0c\u5e76\u66f4\u5feb\u5730\u8ba1\u7b97\u635f\u5931\u3002\n\n"
      ]
    },
    {
      "cell_type": "code",
      "execution_count": null,
      "metadata": {
        "collapsed": false
      },
      "outputs": [],
      "source": [
        "train_ds = TensorDataset(x_train, y_train)\ntrain_dl = DataLoader(train_ds, batch_size=bs, shuffle=True)\n\nvalid_ds = TensorDataset(x_valid, y_valid)\nvalid_dl = DataLoader(valid_ds, batch_size=bs * 2)"
      ]
    },
    {
      "cell_type": "markdown",
      "metadata": {},
      "source": [
        "\u6211\u4eec\u5c06\u5728\u6bcf\u4e2a\u56de\u5408(epoch)\u7ed3\u675f\u65f6\u8ba1\u7b97\u548c\u6253\u5370\u9a8c\u8bc1\u635f\u5931(validation loss)\u3002\n\n(\u8bf7\u6ce8\u610f\uff0c\u6211\u4eec\u603b\u662f\u5728\u8bad\u7ec3\u524d\u8c03\u7528  ``model.train()`` \uff0c\u5728\u63a8\u7406\u4e4b\u524d\u8c03\u7528 ``model.eval()`` \uff0c\n\u56e0\u4e3a\u8fd9\u4e9b\u8c03\u7528\u88ab ``nn.BatchNorm2d`` \u548c ``nn.Dropout`` \u7b49\u5c42\u4f7f\u7528\uff0c\u4ee5\u786e\u4fdd\u8fd9\u4e9b\u4e0d\u540c\u9636\u6bb5\u7684\u9002\u5f53\u884c\u4e3a\u3002)\n\n"
      ]
    },
    {
      "cell_type": "code",
      "execution_count": null,
      "metadata": {
        "collapsed": false
      },
      "outputs": [],
      "source": [
        "model, opt = get_model()\n\nfor epoch in range(epochs):\n    model.train()\n    for xb, yb in train_dl:\n        pred = model(xb)\n        loss = loss_func(pred, yb)\n\n        loss.backward()\n        opt.step()\n        opt.zero_grad()\n\n    model.eval()\n    with torch.no_grad():\n        valid_loss = sum(loss_func(model(xb), yb) for xb, yb in valid_dl)\n\n    print(epoch, valid_loss / len(valid_dl))"
      ]
    },
    {
      "cell_type": "markdown",
      "metadata": {},
      "source": [
        "\u521b\u5efa fit() \u548c get_data()\n----------------------------------\n\n\u6211\u4eec\u73b0\u5728\u8981\u505a\u4e00\u4e9b\u6211\u4eec\u81ea\u5df1\u7684\u91cd\u6784\u3002\u7531\u4e8e\u6211\u4eec\u7ecf\u5386\u4e86\u4e24\u6b21\u8ba1\u7b97\u8bad\u7ec3\u96c6\u548c\u9a8c\u8bc1\u96c6\u7684\u635f\u5931\u7684\u7c7b\u4f3c\u8fc7\u7a0b\uff0c\n\u6240\u4ee5\u8ba9\u6211\u4eec\u5c06\u5176\u8f6c\u5316\u4e3a\u5b83\u81ea\u5df1\u7684\u51fd\u6570-``loss_batch`` \uff0c\u5b83\u8ba1\u7b97\u4e00\u4e2a\u6279\u6b21\u7684\u635f\u5931\u3002\n\n\u6211\u4eec\u4e3a\u8bad\u7ec3\u96c6\u4f20\u9012\u4e00\u4e2a\u4f18\u5316\u5668\uff0c\u5e76\u4f7f\u7528\u5b83\u6765\u6267\u884c\u53cd\u5411\u4f20\u64ad\u3002\u5bf9\u4e8e\u9a8c\u8bc1\u96c6\uff0c\u4e0d\u4f1a\u901a\u8fc7\u4f18\u5316\u5668\uff0c\n\u56e0\u6b64\u8be5\u65b9\u6cd5\u4e0d\u4f1a\u6267\u884c\u53cd\u5411\u4f20\u64ad\u3002\n\n"
      ]
    },
    {
      "cell_type": "code",
      "execution_count": null,
      "metadata": {
        "collapsed": false
      },
      "outputs": [],
      "source": [
        "def loss_batch(model, loss_func, xb, yb, opt=None):\n    loss = loss_func(model(xb), yb)\n\n    if opt is not None:\n        loss.backward()\n        opt.step()\n        opt.zero_grad()\n\n    return loss.item(), len(xb)"
      ]
    },
    {
      "cell_type": "markdown",
      "metadata": {},
      "source": [
        "``fit`` \u8fd0\u884c\u5fc5\u8981\u7684\u64cd\u4f5c\u6765\u8bad\u7ec3\u6211\u4eec\u7684\u6a21\u578b\uff0c\u5e76\u8ba1\u7b97\u6bcf\u4e2aepoch\u7684\u8bad\u7ec3\u548c\u9a8c\u8bc1\u635f\u5931\u3002\n\n"
      ]
    },
    {
      "cell_type": "code",
      "execution_count": null,
      "metadata": {
        "collapsed": false
      },
      "outputs": [],
      "source": [
        "import numpy as np\n\ndef fit(epochs, model, loss_func, opt, train_dl, valid_dl):\n    for epoch in range(epochs):\n        model.train()\n        for xb, yb in train_dl:\n            loss_batch(model, loss_func, xb, yb, opt)\n\n        model.eval()\n        with torch.no_grad():\n            losses, nums = zip(\n                *[loss_batch(model, loss_func, xb, yb) for xb, yb in valid_dl]\n            )\n        val_loss = np.sum(np.multiply(losses, nums)) / np.sum(nums)\n\n        print(epoch, val_loss)"
      ]
    },
    {
      "cell_type": "markdown",
      "metadata": {},
      "source": [
        "``get_data`` \u8fd4\u56de\u8bad\u7ec3\u548c\u9a8c\u8bc1\u96c6\u7684\u6570\u636e\u52a0\u8f7d\u5668\u3002\n\n"
      ]
    },
    {
      "cell_type": "code",
      "execution_count": null,
      "metadata": {
        "collapsed": false
      },
      "outputs": [],
      "source": [
        "def get_data(train_ds, valid_ds, bs):\n    return (\n        DataLoader(train_ds, batch_size=bs, shuffle=True),\n        DataLoader(valid_ds, batch_size=bs * 2),\n    )"
      ]
    },
    {
      "cell_type": "markdown",
      "metadata": {},
      "source": [
        "\u73b0\u5728\uff0c\u6211\u4eec\u83b7\u5f97\u6570\u636e\u52a0\u8f7d\u5668\u548c\u62df\u5408\u6a21\u578b\u7684\u6574\u4e2a\u8fc7\u7a0b\u53ef\u4ee5\u57283\u884c\u4ee3\u7801\u4e2d\u8fd0\u884c\uff1a\n\n"
      ]
    },
    {
      "cell_type": "code",
      "execution_count": null,
      "metadata": {
        "collapsed": false
      },
      "outputs": [],
      "source": [
        "train_dl, valid_dl = get_data(train_ds, valid_ds, bs)\nmodel, opt = get_model()\nfit(epochs, model, loss_func, opt, train_dl, valid_dl)"
      ]
    },
    {
      "cell_type": "markdown",
      "metadata": {},
      "source": [
        "\u60a8\u53ef\u4ee5\u4f7f\u7528\u8fd9\u4e9b\u57fa\u672c\u76843\u884c\u4ee3\u7801\u6765\u8bad\u7ec3\u5404\u79cd\u5404\u6837\u7684\u6a21\u578b\u3002\n\u8ba9\u6211\u4eec\u770b\u770b\u662f\u5426\u53ef\u4ee5\u7528\u5b83\u4eec\u6765\u8bad\u7ec3\u4e00\u4e2a\u5377\u79ef\u795e\u7ecf\u7f51\u7edc(CNN)\uff01\n\n\u5207\u6362\u5230 CNN\n-------------\n\n\u6211\u4eec\u73b0\u5728\u8981\u5efa\u7acb\u4e09\u4e2a\u5377\u79ef\u5c42\u7684\u795e\u7ecf\u7f51\u7edc\u3002\u56e0\u4e3a\u4e0a\u4e00\u8282\u4e2d\u7684\u51fd\u6570\u6ca1\u6709\u4efb\u4f55\u5173\u4e8e\u6a21\u578b\u5f62\u5f0f\u7684\u5047\u8bbe\uff0c\n\u6240\u4ee5\u6211\u4eec\u53ef\u4ee5\u4f7f\u7528\u5b83\u4eec\u6765\u8bad\u7ec3CNN\uff0c\u800c\u4e0d\u9700\u8981\u4efb\u4f55\u4fee\u6539\u3002\n\n\u6211\u4eec\u5c06\u4f7f\u7528Pytorch\u7684\u9884\u5b9a\u4e49\u7684 `Conv2d <https://pytorch.org/docs/stable/nn.html#torch.nn.Conv2d>`_ \n\u7c7b\u4f5c\u4e3a\u6211\u4eec\u7684\u5377\u79ef\u5c42\u3002\u6211\u4eec\u5b9a\u4e49\u4e86\u4e00\u4e2a\u5305\u542b\u4e09\u4e2a\u5377\u79ef\u5c42\u7684CNN\u3002\n\u6bcf\u4e2a\u5377\u79ef\u540e\u9762\u8ddf\u7740\u4e00\u4e2aReLU\u3002\u6700\u540e\uff0c\u6211\u4eec\u6267\u884c\u4e00\u4e2a\u5e73\u5747\u6c60\u5316\u3002\n(\u8bf7\u6ce8\u610f\uff0c ``view`` \u662fPyTorch\u7248\u672c\u7684Numpy\u7684 ``reshape`` )\n\n"
      ]
    },
    {
      "cell_type": "code",
      "execution_count": null,
      "metadata": {
        "collapsed": false
      },
      "outputs": [],
      "source": [
        "class Mnist_CNN(nn.Module):\n    def __init__(self):\n        super().__init__()\n        self.conv1 = nn.Conv2d(1, 16, kernel_size=3, stride=2, padding=1)\n        self.conv2 = nn.Conv2d(16, 16, kernel_size=3, stride=2, padding=1)\n        self.conv3 = nn.Conv2d(16, 10, kernel_size=3, stride=2, padding=1)\n\n    def forward(self, xb):\n        xb = xb.view(-1, 1, 28, 28)\n        xb = F.relu(self.conv1(xb))\n        xb = F.relu(self.conv2(xb))\n        xb = F.relu(self.conv3(xb))\n        xb = F.avg_pool2d(xb, 4)\n        return xb.view(-1, xb.size(1))\n\nlr = 0.1"
      ]
    },
    {
      "cell_type": "markdown",
      "metadata": {},
      "source": [
        "\u52a8\u91cf(`Momentum <http://cs231n.github.io/neural-networks-3/#sgd>`_)\u662f\u968f\u673a\u68af\u5ea6\u4e0b\u964d\u7b97\u6cd5\u7684\u4e00\u79cd\u53d8\u4f53\uff0c\n\u5b83\u4f1a\u8003\u8651\u5230\u4ee5\u524d\u7684\u66f4\u65b0\uff0c\u901a\u5e38\u5bfc\u81f4\u66f4\u5feb\u7684\u8bad\u7ec3\u3002\n\n"
      ]
    },
    {
      "cell_type": "code",
      "execution_count": null,
      "metadata": {
        "collapsed": false
      },
      "outputs": [],
      "source": [
        "model = Mnist_CNN()\nopt = optim.SGD(model.parameters(), lr=lr, momentum=0.9)\n\nfit(epochs, model, loss_func, opt, train_dl, valid_dl)"
      ]
    },
    {
      "cell_type": "markdown",
      "metadata": {},
      "source": [
        "nn.Sequential\n------------------------\n\n``torch.nn`` \u8fd8\u6709\u4e00\u4e2a\u65b9\u4fbf\u7684\u7c7b\uff0c\u6211\u4eec\u53ef\u4ee5\u4f7f\u7528\u5b83\u6765\u7b80\u5355\u5730\u7f16\u5199\u4ee3\u7801: `Sequential <https://pytorch.org/docs/stable/nn.html#torch.nn.Sequential>`_ \u3002\n``Sequential`` \u5bf9\u8c61\u4ee5\u987a\u5e8f\u7684\u65b9\u5f0f\u8fd0\u884c\u5305\u542b\u5728\u5176\u4e2d\u7684\u6bcf\u4e2amodules\u3002\u8fd9\u662f\u4e00\u79cd\u66f4\u7b80\u5355\u7684\u7f16\u5199\u795e\u7ecf\u7f51\u7edc\u7684\u65b9\u6cd5\u3002\n\u4e3a\u4e86\u5229\u7528\u8fd9\u4e00\u70b9\uff0c\u6211\u4eec\u9700\u8981\u80fd\u591f\u8f7b\u677e\u5730\u4ece\u7ed9\u5b9a\u7684\u51fd\u6570\u4e2d\u5b9a\u4e49 **custom layer** \u3002\u4f8b\u5982\uff0cPyTorch\u6ca1\u6709 `view` \u5c42\uff0c\n\u6211\u4eec\u9700\u8981\u4e3a\u6211\u4eec\u7684\u7f51\u7edc\u521b\u5efa\u4e00\u4e2a `view` \u5c42\u3002``Lambda`` \u5c06\u521b\u5efa\u4e00\u4e2a\u5c42\uff0c\u7136\u540e\u6211\u4eec\u5728\u7528 ``Sequential`` \u5b9a\u4e49\u7f51\u7edc\u7684\u65f6\u5019\u5c31\u53ef\u4ee5\u4f7f\u7528\u5b83\u3002\n\n"
      ]
    },
    {
      "cell_type": "code",
      "execution_count": null,
      "metadata": {
        "collapsed": false
      },
      "outputs": [],
      "source": [
        "class Lambda(nn.Module):\n    def __init__(self, func):\n        super().__init__()\n        self.func = func\n\n    def forward(self, x):\n        return self.func(x)\n\n\ndef preprocess(x):\n    return x.view(-1, 1, 28, 28)"
      ]
    },
    {
      "cell_type": "markdown",
      "metadata": {},
      "source": [
        "\u4f7f\u7528 ``Sequential`` \u521b\u5efa\u7684\u6a21\u578b\u662f\u5f88\u7b80\u5355\u6ef4:\n\n"
      ]
    },
    {
      "cell_type": "code",
      "execution_count": null,
      "metadata": {
        "collapsed": false
      },
      "outputs": [],
      "source": [
        "model = nn.Sequential(\n    Lambda(preprocess),\n    nn.Conv2d(1, 16, kernel_size=3, stride=2, padding=1),\n    nn.ReLU(),\n    nn.Conv2d(16, 16, kernel_size=3, stride=2, padding=1),\n    nn.ReLU(),\n    nn.Conv2d(16, 10, kernel_size=3, stride=2, padding=1),\n    nn.ReLU(),\n    nn.AvgPool2d(4),\n    Lambda(lambda x: x.view(x.size(0), -1)),\n)\n\nopt = optim.SGD(model.parameters(), lr=lr, momentum=0.9)\n\nfit(epochs, model, loss_func, opt, train_dl, valid_dl)"
      ]
    },
    {
      "cell_type": "markdown",
      "metadata": {},
      "source": [
        "\u5c01\u88c5 DataLoader\n-----------------------------\n\n\u6211\u4eec\u7684CNN\u76f8\u5f53\u7b80\u6d01\uff0c\u4f46\u5b83\u53ea\u9002\u7528\u4e8eMNIST\uff0c\u56e0\u4e3a:\n - \u5b83\u5047\u8bbe\u8f93\u5165\u662f\u4e00\u4e2a 28*28 \u957f\u7684\u5411\u91cf\u3002\n - \u5b83\u5047\u8bbe\u6700\u540e\u7684CNN\u7f51\u683c\u5927\u5c0f\u4e3a4*4(\u56e0\u4e3a\u8fd9\u662f\u6211\u4eec\u4f7f\u7528\u7684\u5e73\u5747\u6c60\u5316\u6838\u7684size)\u3002\n\n\u8ba9\u6211\u4eec\u53bb\u6389\u8fd9\u4e24\u4e2a\u5047\u8bbe\uff0c\u6211\u4eec\u7684\u6a21\u578b\u9002\u7528\u4e8e\u4efb\u4f552d\u7684\u5355\u901a\u9053\u56fe\u50cf\u3002\u9996\u5148\uff0c\u6211\u4eec\u53ef\u4ee5\u5220\u9664\u521d\u59cb Lambda \u5c42\uff0c\n\u4f46\u662f\u5c06\u6570\u636e\u9884\u5904\u7406\u79fb\u5230\u4e00\u4e2a\u751f\u6210\u5668\u4e2d:\n\n"
      ]
    },
    {
      "cell_type": "code",
      "execution_count": null,
      "metadata": {
        "collapsed": false
      },
      "outputs": [],
      "source": [
        "def preprocess(x, y):\n    return x.view(-1, 1, 28, 28), y\n\n\nclass WrappedDataLoader:\n    def __init__(self, dl, func):\n        self.dl = dl\n        self.func = func\n\n    def __len__(self):\n        return len(self.dl)\n\n    def __iter__(self):\n        batches = iter(self.dl)\n        for b in batches:\n            yield (self.func(*b))\n\ntrain_dl, valid_dl = get_data(train_ds, valid_ds, bs)\ntrain_dl = WrappedDataLoader(train_dl, preprocess)\nvalid_dl = WrappedDataLoader(valid_dl, preprocess)"
      ]
    },
    {
      "cell_type": "markdown",
      "metadata": {},
      "source": [
        "\u63a5\u4e0b\u6765\uff0c\u6211\u4eec\u53ef\u4ee5\u5c06 ``nn.AvgPool2d`` \u66ff\u6362\u4e3a ``nn.AdaptiveAvgPool2d`` \uff0c\n\u8fd9\u5141\u8bb8\u6211\u4eec\u5b9a\u4e49\u6211\u4eec\u60f3\u8981\u7684 *output* tensor \u7684\u5927\u5c0f\uff0c\n\u800c\u4e0d\u662f\u6211\u4eec\u6240\u62e5\u6709\u7684 *input* tensor\u3002\u56e0\u6b64\uff0c\u6211\u4eec\u7684\u6a21\u578b\u5c06\u9002\u7528\u4e8e\u4efb\u4f55\u5927\u5c0f\u7684\u8f93\u5165\u3002\n\n"
      ]
    },
    {
      "cell_type": "code",
      "execution_count": null,
      "metadata": {
        "collapsed": false
      },
      "outputs": [],
      "source": [
        "model = nn.Sequential(\n    nn.Conv2d(1, 16, kernel_size=3, stride=2, padding=1),\n    nn.ReLU(),\n    nn.Conv2d(16, 16, kernel_size=3, stride=2, padding=1),\n    nn.ReLU(),\n    nn.Conv2d(16, 10, kernel_size=3, stride=2, padding=1),\n    nn.ReLU(),\n    nn.AdaptiveAvgPool2d(1),\n    Lambda(lambda x: x.view(x.size(0), -1)),\n)\n\nopt = optim.SGD(model.parameters(), lr=lr, momentum=0.9)"
      ]
    },
    {
      "cell_type": "markdown",
      "metadata": {},
      "source": [
        "\u8ba9\u6211\u4eec\u7684\u4ee3\u7801\u8dd1\u8d77\u6765\u8bd5\u8bd5\u770b:\n\n"
      ]
    },
    {
      "cell_type": "code",
      "execution_count": null,
      "metadata": {
        "collapsed": false
      },
      "outputs": [],
      "source": [
        "fit(epochs, model, loss_func, opt, train_dl, valid_dl)"
      ]
    },
    {
      "cell_type": "markdown",
      "metadata": {},
      "source": [
        "\u4f7f\u7528 GPU\n---------------\n\n\u5982\u679c\u60a8\u6709\u4e00\u4e2aCUDA\u529f\u80fd\u7684GPU\uff0c\u90a3\u4e48\u60a8\u53ef\u4ee5\u4f7f\u7528\u5b83\u6765\u52a0\u901f\u60a8\u7684\u4ee3\u7801\u3002\n\u9996\u5148\uff0c\u68c0\u67e5\u60a8\u7684GPU\u662f\u5426\u6b63\u5728Pytorch\u4e2d\u5de5\u4f5c\uff1a\n\n"
      ]
    },
    {
      "cell_type": "code",
      "execution_count": null,
      "metadata": {
        "collapsed": false
      },
      "outputs": [],
      "source": [
        "print(torch.cuda.is_available())"
      ]
    },
    {
      "cell_type": "markdown",
      "metadata": {},
      "source": [
        "\u7136\u540e\u4e3a\u5b83\u521b\u5efa\u4e00\u4e2a\u8bbe\u5907\u5bf9\u8c61\uff08device object\uff09\uff1a \n\n"
      ]
    },
    {
      "cell_type": "code",
      "execution_count": null,
      "metadata": {
        "collapsed": false
      },
      "outputs": [],
      "source": [
        "dev = torch.device(\n    \"cuda\") if torch.cuda.is_available() else torch.device(\"cpu\")"
      ]
    },
    {
      "cell_type": "markdown",
      "metadata": {},
      "source": [
        "\u8ba9\u6211\u4eec\u66f4\u65b0 ``preprocess`` \u628a batches \u79fb\u52a8\u5230 GPU \u4e0a:\n\n"
      ]
    },
    {
      "cell_type": "code",
      "execution_count": null,
      "metadata": {
        "collapsed": false
      },
      "outputs": [],
      "source": [
        "def preprocess(x, y):\n    return x.view(-1, 1, 28, 28).to(dev), y.to(dev)\n\n\ntrain_dl, valid_dl = get_data(train_ds, valid_ds, bs)\ntrain_dl = WrappedDataLoader(train_dl, preprocess)\nvalid_dl = WrappedDataLoader(valid_dl, preprocess)"
      ]
    },
    {
      "cell_type": "markdown",
      "metadata": {},
      "source": [
        "\u6700\u540e, \u6211\u4eec\u53ef\u4ee5\u628a\u6211\u4eec\u7684 model \u4e5f\u79fb\u52a8\u5230 GPU \u4e0a\u3002\n\n"
      ]
    },
    {
      "cell_type": "code",
      "execution_count": null,
      "metadata": {
        "collapsed": false
      },
      "outputs": [],
      "source": [
        "model.to(dev)\nopt = optim.SGD(model.parameters(), lr=lr, momentum=0.9)"
      ]
    },
    {
      "cell_type": "markdown",
      "metadata": {},
      "source": [
        "\u73b0\u5728\u4f60\u5e94\u8be5\u80fd\u53d1\u73b0\u5b83\u8dd1\u5f97\u66f4\u5feb\u4e86:\n\n"
      ]
    },
    {
      "cell_type": "code",
      "execution_count": null,
      "metadata": {
        "collapsed": false
      },
      "outputs": [],
      "source": [
        "fit(epochs, model, loss_func, opt, train_dl, valid_dl)"
      ]
    },
    {
      "cell_type": "markdown",
      "metadata": {},
      "source": [
        "\u5b8c\u7ed3\u65f6\u7684\u601d\u8003\n-----------------\n\n\u73b0\u5728\u6211\u4eec\u6709\u4e86\u4e00\u4e2a\u901a\u7528\u7684 data pipeline \u548c training loop\uff0c\u60a8\u53ef\u4ee5\u4f7f\u7528\u5b83\u6765\u8bad\u7ec3\u8bb8\u591a\u7c7b\u578b\u7684\u6a21\u578b\u3002\n\u8981\u4e86\u89e3\u6a21\u578b\u73b0\u5728\u53ef\u4ee5\u8fdb\u884c\u591a\u7b80\u5355\u7684\u8bad\u7ec3\uff0c\u8bf7\u770b\u4e00\u4e0b `mnist_sample` notebook \u3002\n\n\u5f53\u7136\uff0c\u60a8\u9700\u8981\u6dfb\u52a0\u5f88\u591a\u4e1c\u897f\uff0c\u4f8b\u5982\u6570\u636e\u589e\u5f3a\u3001\u8d85\u53c2\u6570\u8c03\u4f18\u3001\u76d1\u89c6\u8bad\u7ec3\u3001\u8fc1\u79fb\u5b66\u4e60\u7b49\u7b49\u3002\n\n\u5728\u672c\u6559\u7a0b\u5f00\u59cb\u65f6\uff0c\u6211\u4eec\u627f\u8bfa\u5c06\u901a\u8fc7\u793a\u4f8b\u89e3\u91ca ``torch.nn``, ``torch.optim``, ``Dataset``, \u548c ``DataLoader`` \u3002\n\u8ba9\u6211\u4eec\u603b\u7ed3\u4e00\u4e0b\u6211\u4eec\u6240\u770b\u5230\u7684\uff1a\n\n - **torch.nn**\n\n   + ``Module``: \u521b\u5efa\u4e00\u4e2a\u53ef\u8c03\u7528\u5bf9\u8c61\uff0c\u5b83\u7684\u884c\u4e3a\u50cf\u4e00\u4e2a\u51fd\u6570\uff0c\u4f46\u4e5f\u53ef\u4ee5\u5305\u542b\u72b6\u6001(\u5982\u795e\u7ecf\u7f51\u7edc\u5c42\u6743\u91cd)\u3002\n     \u5b83\u77e5\u9053\u5b83\u5305\u542b\u4ec0\u4e48 ``Parameter`` \uff0c\u5e76\u4e14\u53ef\u4ee5\u5bf9\u5b83\u4eec\u7684\u6240\u6709\u68af\u5ea6\u8fdb\u884c\u96f6\u5316\uff0c\u5faa\u73af\u904d\u5386\u5b83\u4eec\u4ee5\u8fdb\u884c\u6743\u91cd\u66f4\u65b0\uff0c\u7b49\u7b49\u3002\n   + ``Parameter``: \u4e00\u4e2a\u5f20\u91cf\u7684\u5c01\u88c5\u5668\uff0c\u5b83\u544a\u8bc9 ``Module`` \u5b83\u6709\u9700\u8981\u5728\u53cd\u5411\u4f20\u64ad\u8fc7\u7a0b\u4e2d\u66f4\u65b0\u7684\u6743\u91cd\u3002\n     \u53ea\u66f4\u65b0\u5177\u6709 `requires_grad` \u5c5e\u6027\u7684\u5f20\u91cf\u3002\n   + ``functional``: \u4e00\u4e2amodule(\u901a\u5e38\u6309\u7ea6\u5b9a\u5bfc\u5165\u5230 ``F`` \u547d\u540d\u7a7a\u95f4)\uff0c\u5b83\u5305\u542b\u6fc0\u6d3b\u51fd\u6570\u3001\u635f\u5931\u51fd\u6570\u7b49\uff0c\u4ee5\u53ca\u5c42\u7684\u65e0\u72b6\u6001\u7248\u672c\uff0c\u5982\u5377\u79ef\u5c42\u548c\u7ebf\u6027\u5c42\u3002\n - ``torch.optim``: \u5305\u542b\u8bf8\u5982 ``SGD`` \u4e4b\u7c7b\u7684\u4f18\u5316\u5668\uff0c\u8fd9\u4e9b\u4f18\u5316\u5668\u5728\u53cd\u5411\u4f20\u9012\u671f\u95f4\u66f4\u65b0\u53c2\u6570\u7684\u6743\u91cd\n - ``Dataset``: \u5177\u6709 ``__len__`` \u548c ``__getitem__`` \u7684\u5bf9\u8c61\u7684\u62bd\u8c61\u63a5\u53e3\uff0c\u5305\u62ecPytorch\u63d0\u4f9b\u7684\u7c7b\uff0c\u5982 ``TensorDataset``\n - ``DataLoader``: \u83b7\u53d6\u4efb\u610f ``Dataset`` \u5e76\u521b\u5efa\u8fd4\u56de\u6279\u91cf\u6570\u636e\u7684\u8fed\u4ee3\u5668\u3002 \n\n"
      ]
    }
  ],
  "metadata": {
    "kernelspec": {
      "display_name": "Python 3",
      "language": "python",
      "name": "python3"
    },
    "language_info": {
      "codemirror_mode": {
        "name": "ipython",
        "version": 3
      },
      "file_extension": ".py",
      "mimetype": "text/x-python",
      "name": "python",
      "nbconvert_exporter": "python",
      "pygments_lexer": "ipython3",
      "version": "3.6.5"
    }
  },
  "nbformat": 4,
  "nbformat_minor": 0
}