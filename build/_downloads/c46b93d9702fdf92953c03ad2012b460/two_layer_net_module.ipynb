{
  "cells": [
    {
      "cell_type": "code",
      "execution_count": null,
      "metadata": {
        "collapsed": false
      },
      "outputs": [],
      "source": [
        "%matplotlib inline"
      ]
    },
    {
      "cell_type": "markdown",
      "metadata": {},
      "source": [
        "\nPyTorch: \u81ea\u5b9a\u4e49 nn Modules\n--------------------------\n\n\u4e00\u4e2a\u5b8c\u5168\u8fde\u63a5\u7684ReLU\u7f51\u7edc\uff0c\u53ea\u6709\u4e00\u4e2a\u9690\u85cf\u5c42\uff0c\u6ca1\u6709\u504f\u7f6e\uff0c\u6700\u5c0f\u5316\u6b27\u6c0f\u8bef\u5dee\u8bad\u7ec3\u4ecex\u9884\u6d4by\u3002\n\n\u8be5\u5b9e\u73b0\u5c06\u6a21\u578b\u5b9a\u4e49\u4e3a\u81ea\u5b9a\u4e49\u6a21\u5757\u7684\u5b50\u7c7b\u3002\u5f53\u4f60\u9700\u8981\u4e00\u4e2a\u6bd4\u5df2\u6709\u7684\u7b80\u5355\u5e8f\u5217\u5316\u6a21\u5757\u66f4\u590d\u6742\u7684\u6a21\u578b\u7684\u65f6\u5019\uff0c\n\u4f60\u5c31\u9700\u8981\u7528\u8fd9\u79cd\u65b9\u5f0f\u6765\u5b9a\u4e49\u4f60\u7684\u6a21\u578b\u3002\n\n\u8bf7\u6ce8\u610f\uff1a\u8fd9\u91cc\u6709\u4e24\u4e2a\u8bcd\uff0c\u4e00\u4e2a\u662f \u6a21\u578b(model);\u53e6\u4e00\u4e2a\u662f \u6a21\u5757(module)\u3002\u6211\u4eec\u53ef\u4ee5\u7528\u6a21\u5757\u7684\u65b9\u5f0f\u6765\u5b9a\u4e49\u6a21\u578b\n\n"
      ]
    },
    {
      "cell_type": "code",
      "execution_count": null,
      "metadata": {
        "collapsed": false
      },
      "outputs": [],
      "source": [
        "import torch\n\n\nclass TwoLayerNet(torch.nn.Module):\n    def __init__(self, D_in, H, D_out):\n        \"\"\"\n        \u5728\u6784\u9020\u51fd\u6570\u4e2d\uff0c\u6211\u4eec\u5b9e\u4f8b\u5316\u4e86\u4e24\u4e2ann.Linear\u6a21\u5757\uff0c\n        \u5e76\u5c06\u5b83\u4eec\u8d4b\u503c\u4e3a\u6210\u5458\u53d8\u91cf\u3002\n        \"\"\"\n        super(TwoLayerNet, self).__init__()\n        self.linear1 = torch.nn.Linear(D_in, H)\n        self.linear2 = torch.nn.Linear(H, D_out)\n\n    def forward(self, x):\n        \"\"\"\n        \u5728\u524d\u9988\u51fd\u6570\u4e2d\uff0c\u6211\u4eec\u63a5\u53d7\u4e00\u4e2a\u8f93\u5165\u6570\u636e\u7684 Tensor\uff0c\n        \u5e76\u4e14\u6211\u4eec\u5fc5\u987b\u8fd4\u56de\u8f93\u51fa\u6570\u636e\u7684Tensor\u3002\u5728\u8fd9\u91cc\n        \u6211\u4eec\u53ef\u4ee5\u4f7f\u7528\u9020\u51fd\u6570\u4e2d\u5df2\u7ecf\u5b9a\u4e49\u597d\u7684Modules\u548c\n        \u5176\u4ed6\u4efb\u610f\u7684Tensors\u4e0a\u7684\u7b97\u5b50\u6765\u5b8c\u6210\u524d\u9988\u51fd\u6570\u7684\u4efb\u52a1\u903b\u8f91\u3002\n        \"\"\"\n        h_relu = self.linear1(x).clamp(min=0)\n        y_pred = self.linear2(h_relu)\n        return y_pred\n\n\n# N is batch size; D_in is input dimension;\n# H is hidden dimension; D_out is output dimension.\nN, D_in, H, D_out = 64, 1000, 100, 10\n\n# \u521b\u5efa\u6301\u6709\u8f93\u5165\u548c\u8f93\u51fa\u7684\u968f\u673a\u5f20\u91cf\nx = torch.randn(N, D_in)\ny = torch.randn(N, D_out)\n\n# \u901a\u8fc7\u5b9e\u4f8b\u5316\u4e0a\u9762\u5b9a\u4e49\u7684\u7c7b\uff0c\u6765\u521b\u5efa\u6a21\u578b\nmodel = TwoLayerNet(D_in, H, D_out)\n\n# \u6784\u5efa\u6211\u4eec\u7684\u635f\u5931\u51fd\u6570\u548c\u4f18\u5316\u5668\u3002\u5728SGD\u7684\u6784\u9020\u5668\u4e2d\u8c03\u7528 model.parameters()\n# \u5c06\u4f1a\u5305\u542b\u6765\u81ea\u4e24\u4e2ann.Linear modules\u7684\u53ef\u5b66\u4e60\u53c2\u6570\uff1b\n# \u8fd9\u4e24\u4e2a nn.Linear modules \u662f\u6211\u4eec\u81ea\u5b9a\u4e49\u7684\u6a21\u578b\u7684\u7c7b\u6210\u5458\u3002\ncriterion = torch.nn.MSELoss(reduction='sum')\noptimizer = torch.optim.SGD(model.parameters(), lr=1e-4)\nfor t in range(500):\n    # \u524d\u5411\u8fc7\u7a0b: \u628a x \u4f20\u9012\u7ed9model, \u8ba1\u7b97 predicted y \n    y_pred = model(x)\n\n    # \u8ba1\u7b97\u5e76\u8f93\u51faloss\n    loss = criterion(y_pred, y)\n    print(t, loss.item())\n\n    # \u628a\u68af\u5ea6\u7f6e\u96f6\uff0c \u6267\u884c\u540e\u5411\u4f20\u9012, \u4ee5\u53ca \u66f4\u65b0\u6743\u91cd\n    optimizer.zero_grad()\n    loss.backward()\n    optimizer.step()"
      ]
    }
  ],
  "metadata": {
    "kernelspec": {
      "display_name": "Python 3",
      "language": "python",
      "name": "python3"
    },
    "language_info": {
      "codemirror_mode": {
        "name": "ipython",
        "version": 3
      },
      "file_extension": ".py",
      "mimetype": "text/x-python",
      "name": "python",
      "nbconvert_exporter": "python",
      "pygments_lexer": "ipython3",
      "version": "3.6.5"
    }
  },
  "nbformat": 4,
  "nbformat_minor": 0
}