{
  "cells": [
    {
      "cell_type": "code",
      "execution_count": null,
      "metadata": {
        "collapsed": false
      },
      "outputs": [],
      "source": [
        "%matplotlib inline"
      ]
    },
    {
      "cell_type": "markdown",
      "metadata": {},
      "source": [
        "\n\u5bf9\u6297\u6837\u672c\u751f\u6210\n==============================\n\n**Author:** `Nathan Inkawhich <https://github.com/inkawhich>`__\n\n**\u7ffb\u8bd1\u8005**: `Antares\u535a\u58eb <http://www.studyai.com/antares>`__\n\n\u5982\u679c\u4f60\u6b63\u5728\u9605\u8bfb\u8fd9\u7bc7\u6587\u7ae0\uff0c\u5e0c\u671b\u4f60\u80fd\u4f53\u4f1a\u5230\u4e00\u4e9b\u673a\u5668\u5b66\u4e60\u6a21\u578b\u662f\u591a\u4e48\u7684\u6709\u6548\u3002\u7814\u7a76\u4e0d\u65ad\u63a8\u52a8ML\u6a21\u578b\u53d8\u5f97\u66f4\u5feb\u3001\u66f4\u51c6\u786e\u548c\u66f4\u9ad8\u6548\u3002\n\u7136\u800c\uff0c\u8bbe\u8ba1\u548c\u8bad\u7ec3\u6a21\u578b\u7684\u4e00\u4e2a\u7ecf\u5e38\u88ab\u5ffd\u89c6\u7684\u65b9\u9762\u662f\u5b89\u5168\u6027\u548c\u5065\u58ee\u6027\uff0c\u7279\u522b\u662f\u5728\u9762\u5bf9\u5e0c\u671b\u6b3a\u9a97\u6a21\u578b\u7684\u5bf9\u624b\u65f6\u3002\n\n\u672c\u6559\u7a0b\u5c06\u63d0\u9ad8\u60a8\u5bf9ML\u6a21\u578b\u7684\u5b89\u5168\u6f0f\u6d1e\u7684\u8ba4\u8bc6\uff0c\u5e76\u5c06\u6df1\u5165\u4e86\u89e3\u5bf9\u6297\u6027\u673a\u5668\u5b66\u4e60\u7684\u70ed\u95e8\u8bdd\u9898\u3002\n\u60a8\u53ef\u80fd\u4f1a\u60ca\u8bb6\u5730\u53d1\u73b0\uff0c\u5728\u56fe\u50cf\u4e2d\u6dfb\u52a0\u4e0d\u53ef\u5bdf\u89c9\u7684\u6270\u52a8\u4f1a\u5bfc\u81f4\u622a\u7136\u4e0d\u540c\u7684\u6a21\u578b\u6027\u80fd\u3002\n\u9274\u4e8e\u8fd9\u662f\u4e00\u4e2a\u6559\u7a0b\uff0c\u6211\u4eec\u5c06\u901a\u8fc7\u4e00\u4e2a\u56fe\u50cf\u5206\u7c7b\u5668\u7684\u4f8b\u5b50\u6765\u63a2\u8ba8\u8fd9\u4e2a\u4e3b\u9898\u3002\n\u5177\u4f53\u6765\u8bf4\uff0c\u6211\u4eec\u5c06\u4f7f\u7528\u7b2c\u4e00\u79cd\u4e5f\u662f\u6700\u6d41\u884c\u7684\u653b\u51fb\u65b9\u6cd5-\u5feb\u901f\u68af\u5ea6\u7b26\u53f7\u653b\u51fb(Fast Gradient Sign Attack ,FGSM)\u6765\u6b3a\u9a97MNIST\u5206\u7c7b\u5668\u3002\n\n\n"
      ]
    },
    {
      "cell_type": "markdown",
      "metadata": {},
      "source": [
        "\u5a01\u80c1\u6a21\u578b(Threat Model)\n-------------------------\n\n\u6709\u5f88\u591a\u79cd\u7c7b\u7684\u5bf9\u6297\u6027\u653b\u51fb\uff0c\u6bcf\u79cd\u653b\u51fb\u90fd\u6709\u4e0d\u540c\u7684\u76ee\u6807\u548c\u653b\u51fb\u8005\u7684\u77e5\u8bc6\u5047\u8bbe\u3002\u4f46\u662f\uff0c\u603b\u4f53\u76ee\u6807\n\u662f\u5728\u8f93\u5165\u6570\u636e\u4e2d\u589e\u52a0\u6700\u5c11\u7684\u6270\u52a8\u91cf\uff0c\u4ee5\u5bfc\u81f4\u671f\u671b\u7684\u9519\u8bef\u5206\u7c7b\u3002\u653b\u51fb\u8005\u7684\u77e5\u8bc6\u6709\u51e0\u79cd\u5047\u8bbe\uff0c\u5176\u4e2d\u4e24\u79cd\u5047\u8bbe\u662f\uff1a\n**\u767d\u76d2\u5b50(white-box)** \u548c **\u9ed1\u76d2\u5b50(black-box)**\u3002\n*\u767d\u76d2\u5b50* \u653b\u51fb\u5047\u5b9a\u653b\u51fb\u8005\u62e5\u6709\u5bf9\u6a21\u578b\u7684\u5168\u90e8\u77e5\u8bc6\u548c\u8bbf\u95ee\u6743\u9650\uff0c\u5305\u62ec\u4f53\u7cfb\u7ed3\u6784\u3001\u8f93\u5165\u3001\u8f93\u51fa\u548c\u6743\u91cd\u3002\n*\u9ed1\u76d2\u5b50* \u653b\u51fb\u5047\u8bbe\u653b\u51fb\u8005\u53ea\u80fd\u8bbf\u95ee\u6a21\u578b\u7684\u8f93\u5165\u548c\u8f93\u51fa\uff0c\u800c\u5bf9\u5e95\u5c42\u67b6\u6784\u6216\u6743\u91cd\u4e00\u65e0\u6240\u77e5\u3002\n\u8fd8\u6709\u51e0\u79cd\u76ee\u6807\u7c7b\u578b\uff0c\u5305\u62ec **\u9519\u8bef\u5206\u7c7b(misclassification)** \u548c **\u6e90/\u76ee\u6807\u9519\u8bef\u5206\u7c7b(source/target misclassification)** \u3002\n*\u9519\u8bef\u5206\u7c7b* \u7684\u76ee\u6807\u610f\u5473\u7740\u5bf9\u624b\u53ea\u5e0c\u671b\u8f93\u51fa\u5206\u7c7b\u662f\u9519\u8bef\u7684\uff0c\u800c\u4e0d\u5173\u5fc3\u65b0\u7684\u5206\u7c7b\u662f\u4ec0\u4e48\u3002\n*\u6e90/\u76ee\u6807\u9519\u8bef\u5206\u7c7b* \u610f\u5473\u7740\u5bf9\u624b\u5e0c\u671b\u66f4\u6539\u6700\u521d\u5c5e\u4e8e\u7279\u5b9a\u6e90\u7c7b\u7684\u56fe\u50cf\uff0c\u4ece\u800c\u5c06\u5176\u5f52\u7c7b\u4e3a\u7279\u5b9a\u7684\u76ee\u6807\u7c7b\u3002\n\n\u5728\u8fd9\u79cd\u60c5\u51b5\u4e0b\uff0cFGSM\u653b\u51fb\u662f\u4ee5 *\u9519\u8bef\u5206\u7c7b* \u4e3a\u76ee\u6807\u7684 *\u767d\u76d2\u653b\u51fb* \u3002 \u6709\u4e86\u8fd9\u4e9b\u80cc\u666f\u4fe1\u606f\uff0c\u6211\u4eec\u73b0\u5728\u53ef\u4ee5\u8be6\u7ec6\u8ba8\u8bba\u653b\u51fb(attack)\u4e86\u3002\n\n\u5feb\u901f\u68af\u5ea6\u7b26\u53f7\u653b\u51fb(Fast Gradient Sign Attack)\n--------------------------------------------\n\n\u8fc4\u4eca\u4e3a\u6b62\uff0c\u7b2c\u4e00\u6b21\u4e5f\u662f\u6700\u6d41\u884c\u7684\u5bf9\u6297\u6027\u653b\u51fb(adversarial attacks)\u4e4b\u4e00\u88ab\u79f0\u4e3a *\u5feb\u901f\u68af\u5ea6\u7b26\u53f7\u653b\u51fb(FGSM)* \uff0c\n\u53e4\u5fb7\u8d39\u5c14\u7279\u5bf9\u6b64\u8fdb\u884c\u4e86\u63cf\u8ff0:  `Explaining and Harnessing Adversarial Examples <https://arxiv.org/abs/1412.6572>`__\u3002\n\u653b\u51fb\u662f\u975e\u5e38\u5f3a\u5927\u7684\uff0c\u4f46\u5374\u662f\u76f4\u89c2\u7684\u3002\u5b83\u662f\u8bbe\u8ba1\u7528\u6765\u653b\u51fb\u795e\u7ecf\u7f51\u7edc\uff0c\u5229\u7528\u4ed6\u4eec\u7684\u5b66\u4e60\u65b9\u5f0f\uff0c*\u68af\u5ea6* \u3002\u5176\u601d\u60f3\u5f88\u7b80\u5355\uff0c\n\u4e0d\u662f\u901a\u8fc7\u8c03\u6574\u57fa\u4e8e\u53cd\u5411\u4f20\u64ad\u68af\u5ea6\u7684\u6743\u91cd\u6765\u6700\u5c0f\u5316\u635f\u5931\uff0c\u800c\u662f *\u57fa\u4e8e\u76f8\u540c\u7684\u53cd\u5411\u4f20\u64ad\u68af\u5ea6\u8c03\u6574\u8f93\u5165\u6570\u636e\uff0c\n\u4f7f\u635f\u5931\u6700\u5927\u5316* \u3002\u6362\u53e5\u8bdd\u8bf4\uff0c\u653b\u51fb\u4f7f\u7528\u635f\u5931W.r.t\u8f93\u5165\u6570\u636e\u7684\u68af\u5ea6\uff0c\u7136\u540e\u8c03\u6574\u8f93\u5165\u6570\u636e\u4ee5\u6700\u5927\u5316\u635f\u5931\u3002\n\n\u5728\u6211\u4eec\u8fdb\u5165\u4ee3\u7801\u4e4b\u524d\uff0c\u8ba9\u6211\u4eec\u770b\u4e00\u4e0b\u8457\u540d\u7684 `FGSM <https://arxiv.org/abs/1412.6572>`__  \u718a\u732b\u793a\u4f8b\uff0c\u5e76\u63d0\u53d6\u4e00\u4e9b\u8bb0\u53f7(notation)\u3002\n\n.. figure:: /_static/img/fgsm_panda_image.png\n   :alt: fgsm_panda_image\n\n\u4ece\u56fe\u7247\u4e2d, $\\mathbf{x}$ \u662f\u88ab\u6b63\u786e\u5206\u7c7b\u4e3a\u201cpanda\u201d\u7684\u539f\u59cb\u56fe\u50cf\uff0c $y$ \n\u662f $\\mathbf{x}$ \u7684\u771f\u6b63\u7684\u7c7b\u6807\u7b7e\u3002\n$\\mathbf{\\theta}$ \u8868\u793a\u6a21\u578b\u53c2\u6570\uff0c\u5e76\u4e14 $J(\\mathbf{\\theta}, \\mathbf{x}, y)$ \u7528\u6765\n\u8bad\u7ec3\u7f51\u7edc\u7684\u635f\u5931\u3002 \u653b\u51fb\u5c06\u68af\u5ea6\u53cd\u5411\u4f20\u64ad\u56de\u8f93\u5165\u6570\u636e\u4ee5\u8fdb\u884c\u8ba1\u7b97 $\\nabla_{x} J(\\mathbf{\\theta}, \\mathbf{x}, y)$ \u3002\n\u7136\u540e\uff0c\u5b83\u6cbf\u7740\u4f7f\u635f\u5931\u6700\u5927\u5316\u7684\u65b9\u5411(i.e. $sign(\\nabla_{x} J(\\mathbf{\\theta}, \\mathbf{x}, y))$) \u4e0a\n\u8c03\u6574\u8f93\u5165\u6570\u636e\u4e00\u5c0f\u6b65($\\epsilon$ \u6216 $0.007$ \u5728\u56fe\u7247\u4e2d)\u3002\n\u7531\u6b64\u4ea7\u751f\u7684\u6270\u52a8\u56fe\u50cf(perturbed image), $x'$, \u5c31\u4f1a\u88ab\u76ee\u6807\u7f51\u7edc *\u8bef\u5206\u7c7b(misclassified)* \u4e3a \u201cgibbon\u201d\uff0c\n\u4f46\u4e8b\u5b9e\u4e0a \u88ab\u6270\u52a8\u7684\u56fe\u50cf\u4f9d\u7136\u662f\u4e2a \u201cpanda\u201d \u3002\n\n\u5e0c\u671b\u73b0\u5728\u4f60\u5df2\u660e\u4e86\u672c\u6559\u7a0b\u7684\u52a8\u673a\u4e86\uff0c\u6240\u4ee5\u8ba9\u6211\u4eec\u8df3\u5230\u5b83\u7684\u5177\u4f53\u5b9e\u73b0\u5427\u3002\n\n\n"
      ]
    },
    {
      "cell_type": "code",
      "execution_count": null,
      "metadata": {
        "collapsed": false
      },
      "outputs": [],
      "source": [
        "from __future__ import print_function\nimport torch\nimport torch.nn as nn\nimport torch.nn.functional as F\nimport torch.optim as optim\nfrom torchvision import datasets, transforms\nimport numpy as np\nimport matplotlib.pyplot as plt"
      ]
    },
    {
      "cell_type": "markdown",
      "metadata": {},
      "source": [
        "\u5b9e\u73b0\n--------------\n\n\u5728\u8fd9\u4e00\u5c0f\u8282\u4e2d, \u6211\u4eec\u5c06\u8ba8\u8bba\u8f93\u5165\u53c2\u6570\uff0c\u5b9a\u4e49\u5728\u653b\u51fb\u4e4b\u4e0b\u7684\u6a21\u578b\uff0c\u7136\u540e\u7f16\u5199\u653b\u51fb\u4ee3\u7801\u7136\u540e\u5c06\u4e00\u4e9b\u6d4b\u8bd5\u8dd1\u8d77\u6765\u3002\n\n\u8f93\u5165\n~~~~~~\n\n\u672c\u6559\u7a0b\u53ea\u6709\u4e09\u4e2a\u8f93\u5165\uff0c\u5b9a\u4e49\u5982\u4e0b:\n\n-  **epsilons** - \u8981\u7528\u4e8e\u8fd0\u884c\u7684epsilon\u503c\u5217\u8868\u3002\u5728\u5217\u8868\u4e2d\u4fdd\u63010\u5f88\u91cd\u8981\uff0c\u56e0\u4e3a\u5b83\u4ee3\u8868\u4e86\u539f\u59cb\u6d4b\u8bd5\u96c6\u4e0a\u7684\u6a21\u578b\u6027\u80fd\u3002\u800c\u4e14\uff0c\u4ece\u76f4\u89c9\u4e0a\u8bf4\uff0c\n   \u6211\u4eec\u8ba4\u4e3aepsilon\u8d8a\u5927\uff0c\u6270\u52a8\u8d8a\u660e\u663e\uff0c\u4f46\u653b\u51fb\u8d8a\u6709\u6548\uff0c\u964d\u4f4e\u4e86\u6a21\u578b\u7684\u51c6\u786e\u6027\u3002\u7531\u4e8e \u6570\u636e\u7684\u8303\u56f4\u662f $[0,1]$ \uff0c\u4efb\u4f55epsilon\u503c\u90fd\u4e0d\u5e94\u8d85\u8fc71\u3002\n\n-  **pretrained_model** - \u901a\u5411\u9884\u5148\u8bad\u7ec3\u8fc7\u7684MNIST\u6a21\u578b\u7684\u8def\u5f84\uff0c\u8be5\u6a21\u578b\u662f\u7528 \n   `pytorch/examples/mnist <https://github.com/pytorch/examples/tree/master/mnist>`__ \u3002\n   \u4e3a\u4e86\u7b80\u5355\u8d77\u89c1\uff0c\u8bf7\u5728 `\u8fd9\u91cc <https://drive.google.com/drive/folders/1fn83DF14tWmit0RTKWRhPq5uVXt73e0h?usp=sharing>`__ \n   \u4e0b\u8f7d\u7ecf\u8fc7\u9884\u5148\u8bad\u7ec3\u7684\u6a21\u578b\u3002\n\n-  **use_cuda** - \u5e03\u5c14\u6807\u5fd7\u4f7f\u7528CUDA(\u5982\u679c\u9700\u8981\u548c\u53ef\u7528\u7684\u8bdd)\u3002\u6ce8\u610f\uff0c\u5e26\u6709CUDA\u7684GPU\u5bf9\u4e8e\u672c\u6559\u7a0b\u6765\u8bf4\u5e76\u4e0d\u91cd\u8981\uff0c\u56e0\u4e3aCPU\u4e0d\u4f1a\u82b1\u8d39\u592a\u591a\u65f6\u95f4\u3002\n\n\n"
      ]
    },
    {
      "cell_type": "code",
      "execution_count": null,
      "metadata": {
        "collapsed": false
      },
      "outputs": [],
      "source": [
        "epsilons = [0, .05, .1, .15, .2, .25, .3]\npretrained_model = \"./data/lenet_mnist_model.pth\"\nuse_cuda=True"
      ]
    },
    {
      "cell_type": "markdown",
      "metadata": {},
      "source": [
        "\u53d7\u653b\u51fb\u6a21\u578b(Model Under Attack)\n~~~~~~~~~~~~~~~~~~~~~~~~~~~~~~~\n\n\u5982\u524d\u6240\u8ff0\uff0c\u53d7\u653b\u51fb\u7684\u6a21\u578b\u662f\u4e0e `pytorch/examples/mnist <https://github.com/pytorch/examples/tree/master/mnist>`__ \n\u76f8\u540c\u7684MNIST\u6a21\u578b\u3002\u60a8\u53ef\u4ee5\u8bad\u7ec3\u548c\u4fdd\u5b58\u81ea\u5df1\u7684MNIST\u6a21\u578b\uff0c\u4e5f\u53ef\u4ee5\u4e0b\u8f7d\u548c\u4f7f\u7528\u6240\u63d0\u4f9b\u7684\u6a21\u578b\u3002\n\u8fd9\u91cc\u7684\u7f51\u7edc\u5b9a\u4e49\u548c\u6d4b\u8bd5dataloader\u662f\u4eceMNIST\u793a\u4f8b\u4e2d\u590d\u5236\u7684\u3002\u672c\u8282\u7684\u76ee\u7684\u662f\u5b9a\u4e49model\u548cdataloader\uff0c\n\u7136\u540e\u521d\u59cb\u5316\u6a21\u578b\u5e76\u52a0\u8f7d\u9884\u5148\u8bad\u7ec3\u7684\u6743\u91cd\u3002\n\n\n"
      ]
    },
    {
      "cell_type": "code",
      "execution_count": null,
      "metadata": {
        "collapsed": false
      },
      "outputs": [],
      "source": [
        "# LeNet Model definition\nclass Net(nn.Module):\n    def __init__(self):\n        super(Net, self).__init__()\n        self.conv1 = nn.Conv2d(1, 10, kernel_size=5)\n        self.conv2 = nn.Conv2d(10, 20, kernel_size=5)\n        self.conv2_drop = nn.Dropout2d()\n        self.fc1 = nn.Linear(320, 50)\n        self.fc2 = nn.Linear(50, 10)\n\n    def forward(self, x):\n        x = F.relu(F.max_pool2d(self.conv1(x), 2))\n        x = F.relu(F.max_pool2d(self.conv2_drop(self.conv2(x)), 2))\n        x = x.view(-1, 320)\n        x = F.relu(self.fc1(x))\n        x = F.dropout(x, training=self.training)\n        x = self.fc2(x)\n        return F.log_softmax(x, dim=1)\n\n# MNIST Test dataset \u548c dataloader \u58f0\u660e\ntest_loader = torch.utils.data.DataLoader(\n    datasets.MNIST('./data/mnist', train=False, download=True, transform=transforms.Compose([\n            transforms.ToTensor(),\n            ])), \n        batch_size=1, shuffle=True)\n\n# \u5b9a\u4e49\u6211\u4eec\u8981\u4f7f\u7528\u7684\u8bbe\u5907\nprint(\"CUDA Available: \",torch.cuda.is_available())\ndevice = torch.device(\"cuda\" if (use_cuda and torch.cuda.is_available()) else \"cpu\")\n\n# \u521d\u59cb\u5316\u7f51\u7edc\nmodel = Net().to(device)\n\n# \u52a0\u8f7d\u9884\u8bad\u7ec3\u6a21\u578b\nmodel.load_state_dict(torch.load(pretrained_model, map_location='cpu'))\n\n# \u5c06\u6a21\u578b\u8bbe\u7f6e\u4e3a\u8bc4\u4f30\u6a21\u5f0f. \u8fd9\u662f\u4e3a\u4e86 Dropout layers\u3002\nmodel.eval()"
      ]
    },
    {
      "cell_type": "markdown",
      "metadata": {},
      "source": [
        "FGSM Attack\n~~~~~~~~~~~~~~~~~~~\n\n\u73b0\u5728\uff0c\u6211\u4eec\u53ef\u4ee5\u901a\u8fc7\u6270\u52a8\u539f\u59cb\u8f93\u5165\u6765\u5b9a\u4e49\u521b\u5efa\u5bf9\u6297\u6027\u6837\u4f8b(adversarial examples)\u7684\u51fd\u6570\u3002\n``fgsm_attack`` \u51fd\u6570\u63a5\u6536\u4e09\u4e2a\u8f93\u5165\uff1a *image* \u662f\u539f\u59cb\u7684\u5e72\u51c0\u56fe\u50cf ($x$), *epsilon* \u662f\n\u9010\u50cf\u7d20\u6270\u52a8\u91cf ($\\epsilon$), \u800c *data_grad* \u662f\u635f\u5931\u76f8\u5bf9\u4e8e(w.r.t)\u8f93\u5165\u56fe\u50cf\u7684\u68af\u5ea6\uff1a\n($\\nabla_{x} J(\\mathbf{\\theta}, \\mathbf{x}, y)$) \u3002 \u6709\u4e86\u8fd9\u4e09\u4e2a\u8f93\u5165\uff0c\u8be5\u51fd\u6570\u5c31\u4f1a\u6309\u4e0b\u8ff0\u65b9\u6cd5\n\u521b\u5efa\u6270\u52a8\u56fe\u50cf(perturbed image):\n\n\\begin{align}perturbed\\_image = image + epsilon*sign(data\\_grad) = x + \\epsilon * sign(\\nabla_{x} J(\\mathbf{\\theta}, \\mathbf{x}, y))\\end{align}\n\n\u6700\u540e, \u4e3a\u4e86\u4fdd\u6301\u6570\u636e\u7684\u539f\u59cb\u8303\u56f4\uff0c\u5c06\u6270\u52a8\u56fe\u50cf\u88c1\u526a\u5230 $[0,1]$ \u8303\u56f4\u5185\u3002\n\n\n"
      ]
    },
    {
      "cell_type": "code",
      "execution_count": null,
      "metadata": {
        "collapsed": false
      },
      "outputs": [],
      "source": [
        "# FGSM \u653b\u51fb\u4ee3\u7801\ndef fgsm_attack(image, epsilon, data_grad):\n    # Collect the element-wise sign of the data gradient\n    sign_data_grad = data_grad.sign()\n    # Create the perturbed image by adjusting each pixel of the input image\n    perturbed_image = image + epsilon*sign_data_grad\n    # Adding clipping to maintain [0,1] range\n    perturbed_image = torch.clamp(perturbed_image, 0, 1)\n    # Return the perturbed image\n    return perturbed_image"
      ]
    },
    {
      "cell_type": "markdown",
      "metadata": {},
      "source": [
        "\u6d4b\u8bd5\u51fd\u6570\n~~~~~~~~~~~~~~~~\n\n\u6700\u540e\uff0c\u672c\u6559\u7a0b\u7684\u4e2d\u5fc3\u7ed3\u679c\u6765\u81ea\u4e8e ``test`` \u51fd\u6570\u3002\u6bcf\u6b21\u8c03\u7528\u8be5\u6d4b\u8bd5\u51fd\u6570\u90fd\u4f1a\u5728MNIST\u6d4b\u8bd5\u96c6\u4e0a\u6267\u884c\u5b8c\u6574\u7684\u6d4b\u8bd5\u6b65\u9aa4\uff0c\n\u5e76\u62a5\u544a\u6700\u7ec8\u7684\u51c6\u786e\u6027\u3002\u4f46\u662f\uff0c\u8bf7\u6ce8\u610f\uff0c\u6b64\u51fd\u6570\u4e5f\u63a5\u53d7 *epsilon* \u8f93\u5165\u3002\u8fd9\u662f\u56e0\u4e3a ``test`` \u51fd\u6570\u62a5\u544a\u4e86\u4e00\u4e2a\u6a21\u578b\u7684\u51c6\u786e\u6027\uff0c\n\u8be5\u6a21\u578b\u6b63\u53d7\u5230\u6765\u81ea\u5b9e\u529b $\\epsilon$ \u7684\u5bf9\u624b\u7684\u653b\u51fb\u3002\u66f4\u5177\u4f53\u5730\u8bf4\uff0c\u5bf9\u4e8e\u6d4b\u8bd5\u96c6\u4e2d\u7684\u6bcf\u4e2a\u6837\u672c\uff0c\n\u8be5\u51fd\u6570\u8ba1\u7b97loss w.r.t the input data ($data\\_grad$)\uff0c\u7528 ``fgsm_attack`` ($perturbed\\_data$) \n\u521b\u5efa\u4e00\u4e2a\u53d7\u6270\u52a8\u7684\u56fe\u50cf\uff0c\u7136\u540e\u68c0\u67e5\u88ab\u6270\u52a8\u7684\u6837\u4f8b\u662f\u5426\u662f\u5bf9\u6297\u6027\u7684\u3002\u9664\u4e86\u6d4b\u8bd5\u6a21\u578b\u7684\u51c6\u786e\u6027\u5916\uff0c\n\u8be5\u51fd\u6570\u8fd8\u4fdd\u5b58\u5e76\u8fd4\u56de\u4e86\u4e00\u4e9b\u6210\u529f\u7684\u5bf9\u6297\u6027\u6837\u4f8b\uff0c\u4ee5\u4f9b\u4ee5\u540e\u53ef\u89c6\u5316\u3002\n\n\n"
      ]
    },
    {
      "cell_type": "code",
      "execution_count": null,
      "metadata": {
        "collapsed": false
      },
      "outputs": [],
      "source": [
        "def test( model, device, test_loader, epsilon ):\n\n    # Accuracy counter\n    correct = 0\n    adv_examples = []\n\n    # Loop over all examples in test set\n    for data, target in test_loader:\n\n        # Send the data and label to the device\n        data, target = data.to(device), target.to(device)\n\n        # Set requires_grad attribute of tensor. Important for Attack\n        data.requires_grad = True\n\n        # Forward pass the data through the model\n        output = model(data)\n        init_pred = output.max(1, keepdim=True)[1] # get the index of the max log-probability\n\n        # If the initial prediction is wrong, dont bother attacking, just move on\n        if init_pred.item() != target.item():\n            continue\n\n        # Calculate the loss\n        loss = F.nll_loss(output, target)\n\n        # Zero all existing gradients\n        model.zero_grad()\n\n        # Calculate gradients of model in backward pass\n        loss.backward()\n\n        # Collect datagrad\n        data_grad = data.grad.data\n\n        # Call FGSM Attack\n        perturbed_data = fgsm_attack(data, epsilon, data_grad)\n\n        # Re-classify the perturbed image\n        output = model(perturbed_data)\n\n        # Check for success\n        final_pred = output.max(1, keepdim=True)[1] # get the index of the max log-probability\n        if final_pred.item() == target.item():\n            correct += 1\n            # Special case for saving 0 epsilon examples\n            if (epsilon == 0) and (len(adv_examples) < 5):\n                adv_ex = perturbed_data.squeeze().detach().cpu().numpy()\n                adv_examples.append( (init_pred.item(), final_pred.item(), adv_ex) )\n        else:\n            # Save some adv examples for visualization later\n            if len(adv_examples) < 5:\n                adv_ex = perturbed_data.squeeze().detach().cpu().numpy()\n                adv_examples.append( (init_pred.item(), final_pred.item(), adv_ex) )\n\n    # Calculate final accuracy for this epsilon\n    final_acc = correct/float(len(test_loader))\n    print(\"Epsilon: {}\\tTest Accuracy = {} / {} = {}\".format(epsilon, correct, len(test_loader), final_acc))\n\n    # Return the accuracy and an adversarial example\n    return final_acc, adv_examples"
      ]
    },
    {
      "cell_type": "markdown",
      "metadata": {},
      "source": [
        "\u8fd0\u884c Attack\n~~~~~~~~~~~~~~~~~~\n\n\u5b9e\u73b0\u7684\u6700\u540e\u4e00\u90e8\u5206\u662f\u5b9e\u9645\u8fd0\u884c\u653b\u51fb\u3002\u5728\u8fd9\u91cc\uff0c\u6211\u4eec\u5bf9 *epsilons* \u8f93\u5165\u4e2d\u7684\u6bcf\u4e2aepsilon\u503c\u8fd0\u884c\u4e00\u4e2a\u5b8c\u6574\u7684\u6d4b\u8bd5\u6b65\u9aa4\u3002\n\u5bf9\u4e8e\u6bcf\u4e2aepsilon\uff0c\u6211\u4eec\u8fd8\u4fdd\u5b58\u4e86\u6700\u7ec8\u7684\u51c6\u786e\u6027\u548c\u4e00\u4e9b\u6210\u529f\u7684\u5bf9\u6297\u6027\u6837\u4f8b\uff0c\u5c06\u5728\u63a5\u4e0b\u6765\u7ed8\u5236\u51fa\u6765\u3002\n\u6ce8\u610f\u6253\u5370\u7cbe\u5ea6\u662f\u5982\u4f55\u968f\u7740epsilon\u503c\u7684\u589e\u52a0\u800c\u964d\u4f4e\u7684\u3002\u53e6\u5916\uff0c\u8bf7\u6ce8\u610f $\\epsilon=0$ \n\u8868\u793a\u539f\u59cb\u6d4b\u8bd5\u7684\u51c6\u786e\u6027\uff0c\u6ca1\u6709\u4efb\u4f55\u653b\u51fb\u3002\n\n\n"
      ]
    },
    {
      "cell_type": "code",
      "execution_count": null,
      "metadata": {
        "collapsed": false
      },
      "outputs": [],
      "source": [
        "accuracies = []\nexamples = []\n\n# Run test for each epsilon\nfor eps in epsilons:\n    acc, ex = test(model, device, test_loader, eps)\n    accuracies.append(acc)\n    examples.append(ex)"
      ]
    },
    {
      "cell_type": "markdown",
      "metadata": {},
      "source": [
        "\u7ed3\u679c\n-------\n\nAccuracy vs Epsilon\n~~~~~~~~~~~~~~~~~~~~~\n\n\u7b2c\u4e00\u4e2a\u7ed3\u679c\u662faccuracy vs epsilon\u7684\u56fe\u3002\u6b63\u5982\u524d\u9762\u63d0\u5230\u7684\uff0c\u968f\u7740epsilon\u7684\u589e\u52a0\uff0c\u6211\u4eec\u9884\u8ba1\u6d4b\u8bd5\u7684\u51c6\u786e\u6027\u4f1a\u4e0b\u964d\u3002\n\u8fd9\u662f\u56e0\u4e3a\u66f4\u5927\u7684epsilon\u610f\u5473\u7740\u6211\u4eec\u671d\u7740\u6700\u5927\u5316\u635f\u5931\u7684\u65b9\u5411\u8fc8\u51fa\u4e86\u66f4\u5927\u7684\u4e00\u6b65\u3002\u6ce8\u610f\uff0c\u5373\u4f7fepsilon\u503c\u662f\u7ebf\u6027\u7684\uff0c\n\u66f2\u7ebf\u4e2d\u7684\u8d8b\u52bf\u4e5f\u4e0d\u662f\u7ebf\u6027\u7684\u3002\u4f8b\u5982\uff0c\u5728 $\\epsilon=0.05$ \u5904\u7684\u51c6\u786e\u5ea6\u4ec5\u6bd4 $\\epsilon=0.15$ \u4f4e4%\uff0c\n\u800c $\\epsilon=0.2$ \u7684\u51c6\u786e\u5ea6\u6bd4 $\\epsilon=0.15$ \u4f4e25%\u3002\n\u53e6\u5916\uff0c\u6ce8\u610f\u6a21\u578b\u7684\u7cbe\u5ea6\u5bf910\u7c7b\u5206\u7c7b\u5668\u7684\u968f\u673a\u7cbe\u5ea6\u5f71\u54cd\u5728 $\\epsilon=0.25$ \u548c $\\epsilon=0.3$ \u4e4b\u95f4\u3002\n\n\n"
      ]
    },
    {
      "cell_type": "code",
      "execution_count": null,
      "metadata": {
        "collapsed": false
      },
      "outputs": [],
      "source": [
        "plt.figure(figsize=(5,5))\nplt.plot(epsilons, accuracies, \"*-\")\nplt.yticks(np.arange(0, 1.1, step=0.1))\nplt.xticks(np.arange(0, .35, step=0.05))\nplt.title(\"Accuracy vs Epsilon\")\nplt.xlabel(\"Epsilon\")\nplt.ylabel(\"Accuracy\")\nplt.show()"
      ]
    },
    {
      "cell_type": "markdown",
      "metadata": {},
      "source": [
        "\u4e00\u4e9b\u5bf9\u6297\u6027\u6837\u672c\n~~~~~~~~~~~~~~~~~~~~~~~~~~~\n\n\u8fd8\u8bb0\u5f97\u6ca1\u6709\u514d\u8d39\u5348\u9910\u7684\u601d\u60f3\u5417\uff1f\u5728\u8fd9\u79cd\u60c5\u51b5\u4e0b\uff0c\u968f\u7740epsilon\u7684\u589e\u52a0\uff0c\u6d4b\u8bd5\u7cbe\u5ea6\u964d\u4f4e\uff0c\u4f46\u6270\u52a8\u53d8\u5f97\u66f4\u5bb9\u6613\u5bdf\u89c9\u3002\n\u5b9e\u9645\u4e0a\uff0c\u653b\u51fb\u8005\u5fc5\u987b\u8003\u8651\u7684\u662f\u51c6\u786e\u6027\u3001\u7a0b\u5ea6\u548c\u53ef\u611f\u77e5\u6027\u4e4b\u95f4\u7684\u6743\u8861\u3002\u5728\u8fd9\u91cc\uff0c\u6211\u4eec\u5c55\u793a\u4e86\u5728\u6bcf\u4e2aepsilon\u503c\u4e0b\n\u4e00\u4e9b\u6210\u529f\u7684\u5bf9\u6297\u6027\u6837\u4f8b\u3002\u56fe\u4e2d\u7684\u6bcf\u4e00\u884c\u90fd\u663e\u793a\u4e0d\u540c\u7684epsilon\u503c\u3002\u7b2c\u4e00\u884c\u662f $\\epsilon=0$ \u793a\u4f8b\uff0c\n\u5b83\u8868\u793a\u539f\u59cb\u7684\u201c\u5e72\u51c0\u201d\u56fe\u50cf\uff0c\u6ca1\u6709\u4efb\u4f55\u6270\u52a8\u3002\u6bcf\u5e45\u56fe\u50cf\u7684\u6807\u9898\u663e\u793a\u201c\u539f\u59cb\u5206\u7c7b->\u5bf9\u6297\u6027\u5206\u7c7b\u201d\u3002\n\u6ce8\u610f\uff0c\u5f53 $\\epsilon=0.15$ \u65f6\uff0c\u6270\u52a8\u5f00\u59cb\u53d8\u5f97\u660e\u663e\uff0c\u5728 $\\epsilon=0.3$ \u65f6\u975e\u5e38\u660e\u663e\u3002\n\u7136\u800c\uff0c\u5728\u6240\u6709\u60c5\u51b5\u4e0b\uff0c\u4eba\u7c7b\u4ecd\u7136\u80fd\u591f\u8bc6\u522b\u6b63\u786e\u7684\u7c7b\u522b\uff0c\u5c3d\u7ba1\u589e\u52a0\u4e86\u566a\u97f3\u3002\n\n\n"
      ]
    },
    {
      "cell_type": "code",
      "execution_count": null,
      "metadata": {
        "collapsed": false
      },
      "outputs": [],
      "source": [
        "# Plot several examples of adversarial samples at each epsilon\ncnt = 0\nplt.figure(figsize=(8,10))\nfor i in range(len(epsilons)):\n    for j in range(len(examples[i])):\n        cnt += 1\n        plt.subplot(len(epsilons),len(examples[0]),cnt)\n        plt.xticks([], [])\n        plt.yticks([], [])\n        if j == 0:\n            plt.ylabel(\"Eps: {}\".format(epsilons[i]), fontsize=14)\n        orig,adv,ex = examples[i][j]\n        plt.title(\"{} -> {}\".format(orig, adv))\n        plt.imshow(ex, cmap=\"gray\")\nplt.tight_layout()\nplt.show()"
      ]
    },
    {
      "cell_type": "markdown",
      "metadata": {},
      "source": [
        "\u4e0b\u4e00\u6b65\u53bb\u54ea\u91cc?\n-----------------\n\n\u5e0c\u671b\u672c\u6559\u7a0b\u80fd\u63d0\u4f9b\u4e00\u4e9b\u5173\u4e8e\u5bf9\u6297\u6027\u673a\u5668\u5b66\u4e60\u4e3b\u9898\u7684\u89c1\u89e3\u3002\u8fd9\u91cc\u6709\u8bb8\u591a\u6f5c\u5728\u7684\u65b9\u5411\u53ef\u8d70\u3002\n\u8fd9\u79cd\u653b\u51fb\u4ee3\u8868\u4e86\u5bf9\u6297\u6027\u653b\u51fb\u7814\u7a76\u7684\u5f00\u59cb\uff0c\u5e76\u4e14\u7531\u4e8e\u6709\u8bb8\u591a\u5173\u4e8e\u5982\u4f55\u653b\u51fb\u548c\u4fdd\u62a4ML\u6a21\u578b\u4e0d\u53d7\u5bf9\u624b\u653b\u51fb\u7684\u60f3\u6cd5\u3002\n\u5b9e\u9645\u4e0a\uff0c\u5728NIPS 2017\u7684\u6bd4\u8d5b\u4e2d\uff0c\u5b58\u5728\u7740\u4e00\u79cd\u5bf9\u6297\u6027\u7684\u653b\u9632\u7ade\u4e89\uff0c\n`\u672c\u6587 <https://arxiv.org/pdf/1804.00097.pdf>`__ \u4ecb\u7ecd\u4e86\u5728\u8fd9\u573a\u6bd4\u8d5b\u4e2d\u6240\u91c7\u7528\u7684\u8bb8\u591a\u65b9\u6cd5\uff1a\u5bf9\u6297\u653b\u51fb\u548c\u9632\u5fa1\u7ade\u4e89\u3002\n\u9632\u5fa1\u65b9\u9762\u7684\u5de5\u4f5c\u4e5f\u5e26\u6765\u4e86\u4f7f\u673a\u5668\u5b66\u4e60\u6a21\u578b\u5728\u4e00\u822c\u60c5\u51b5\u4e0b\u66f4\u52a0\u5065\u58ee\u7684\u60f3\u6cd5\uff0c\n\u4f7f\u673a\u5668\u5b66\u4e60\u6a21\u578b\u65e2\u5177\u6709\u81ea\u7136\u7684\u6270\u52a8\u6027\uff0c\u53c8\u5177\u6709\u5bf9\u6297\u6027\u7684\u8f93\u5165\u3002\n\n\u53e6\u4e00\u4e2a\u65b9\u5411\u662f\u4e0d\u540c\u9886\u57df\u7684\u5bf9\u6297\u653b\u51fb\u548c\u9632\u5fa1\u3002\u5bf9\u6297\u6027\u7814\u7a76\u5e76\u4e0d\u5c40\u9650\u4e8e\u56fe\u50cf\u9886\u57df\uff0c\u8bf7\u770b `\u8fd9\u4e2a <https://arxiv.org/pdf/1801.01944.pdf>`__  \n\u5bf9\u8bed\u97f3\u5230\u6587\u672c\u6a21\u578b\u7684\u653b\u51fb\u3002\n\u4f46\u662f\u4e5f\u8bb8\u4e86\u89e3\u66f4\u591a\u5bf9\u6297\u6027\u673a\u5668\u5b66\u4e60\u7684\u6700\u597d\u65b9\u6cd5\u662f\u5f04\u810f\u4f60\u7684\u624b(\u610f\u601d\u662f\u8ba9\u4f60\u52a8\u624b\u5c1d\u8bd5)\u3002\n\u5c1d\u8bd5\u5b9e\u73b0\u6765\u81eaNIPS 2017 \u7ade\u8d5b\u7684\u4e0d\u540c\u7684\u653b\u51fb\u7b56\u7565\uff0c\u770b\u770b\u5b83\u4e0eFGSM\u6709\u4f55\u4e0d\u540c\u3002\u7136\u540e\uff0c\u8bd5\u7740\u4fdd\u62a4\u6a21\u578b\u4e0d\u53d7\u4f60\u81ea\u5df1\u7684\u653b\u51fb\u3002\n\n\n"
      ]
    }
  ],
  "metadata": {
    "kernelspec": {
      "display_name": "Python 3",
      "language": "python",
      "name": "python3"
    },
    "language_info": {
      "codemirror_mode": {
        "name": "ipython",
        "version": 3
      },
      "file_extension": ".py",
      "mimetype": "text/x-python",
      "name": "python",
      "nbconvert_exporter": "python",
      "pygments_lexer": "ipython3",
      "version": "3.6.5"
    }
  },
  "nbformat": 4,
  "nbformat_minor": 0
}