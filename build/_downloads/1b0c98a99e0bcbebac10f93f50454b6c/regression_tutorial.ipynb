{
  "cells": [
    {
      "cell_type": "code",
      "execution_count": null,
      "metadata": {
        "collapsed": false
      },
      "outputs": [],
      "source": [
        "%matplotlib inline"
      ]
    },
    {
      "cell_type": "markdown",
      "metadata": {},
      "source": [
        "\n\u591a\u9879\u5f0f\u7ebf\u6027\u56de\u5f52\n================\n**\u7ffb\u8bd1\u8005**: `Antares\u535a\u58eb <http://www.studyai.com/antares>`_\n\n\u8fd9\u662f\u4e00\u4e2a\u7528PyTorch\u89e3\u51b3\u591a\u9879\u5f0f\u7ebf\u6027\u56de\u5f52\u95ee\u9898\u7684\u6848\u4f8b\n\n"
      ]
    },
    {
      "cell_type": "code",
      "execution_count": null,
      "metadata": {
        "collapsed": false
      },
      "outputs": [],
      "source": [
        "from __future__ import print_function\nfrom itertools import count\n\n\nimport torch\nimport torch.autograd\nimport torch.nn.functional as F\n\nPOLY_DEGREE = 4\nW_target = torch.randn(POLY_DEGREE, 1) * 5\nb_target = torch.randn(1) * 5\n\n\ndef make_features(x):\n    \"\"\"Builds features i.e. a matrix with columns [x, x^2, x^3, x^4].\"\"\"\n    x = x.unsqueeze(1)\n    return torch.cat([x ** i for i in range(1, POLY_DEGREE+1)], 1)\n\n\ndef f(x):\n    \"\"\"Approximated function.\"\"\"\n    return x.mm(W_target) + b_target.item()\n\n\ndef poly_desc(W, b):\n    \"\"\"Creates a string description of a polynomial.\"\"\"\n    result = 'y = '\n    for i, w in enumerate(W):\n        result += '{:+.2f} x^{} '.format(w, len(W) - i)\n    result += '{:+.2f}'.format(b[0])\n    return result\n\n\ndef get_batch(batch_size=32):\n    \"\"\"Builds a batch i.e. (x, f(x)) pair.\"\"\"\n    random = torch.randn(batch_size)\n    x = make_features(random)\n    y = f(x)\n    return x, y\n\n\n# Define model\nfc = torch.nn.Linear(W_target.size(0), 1)\n\nfor batch_idx in count(1):\n    # Get data\n    batch_x, batch_y = get_batch()\n\n    # Reset gradients\n    fc.zero_grad()\n\n    # Forward pass\n    output = F.smooth_l1_loss(fc(batch_x), batch_y)\n    loss = output.item()\n\n    # Backward pass\n    output.backward()\n\n    # Apply gradients\n    for param in fc.parameters():\n        param.data.add_(-0.1 * param.grad.data)\n\n    # Stop criterion\n    if loss < 1e-3:\n        break\n\nprint('Loss: {:.6f} after {} batches'.format(loss, batch_idx))\nprint('==> Learned function:\\t' + poly_desc(fc.weight.view(-1), fc.bias))\nprint('==> Actual function:\\t' + poly_desc(W_target.view(-1), b_target))"
      ]
    }
  ],
  "metadata": {
    "kernelspec": {
      "display_name": "Python 3",
      "language": "python",
      "name": "python3"
    },
    "language_info": {
      "codemirror_mode": {
        "name": "ipython",
        "version": 3
      },
      "file_extension": ".py",
      "mimetype": "text/x-python",
      "name": "python",
      "nbconvert_exporter": "python",
      "pygments_lexer": "ipython3",
      "version": "3.6.5"
    }
  },
  "nbformat": 4,
  "nbformat_minor": 0
}