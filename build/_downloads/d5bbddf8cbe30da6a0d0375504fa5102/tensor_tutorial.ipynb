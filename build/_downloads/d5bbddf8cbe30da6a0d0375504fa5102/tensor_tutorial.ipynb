{
  "cells": [
    {
      "cell_type": "code",
      "execution_count": null,
      "metadata": {
        "collapsed": false
      },
      "outputs": [],
      "source": [
        "%matplotlib inline"
      ]
    },
    {
      "cell_type": "markdown",
      "metadata": {},
      "source": [
        "\nPyTorch\u662f\u4ec0\u4e48?\n================\n**\u7ffb\u8bd1\u8005**: `Antares\u535a\u58eb <http://www.studyai.com/antares>`_\n\n\u8fd9\u662f\u4e00\u4e2a\u57fa\u4e8ePython\u7684\u79d1\u5b66\u8ba1\u7b97\u5305\uff0c\u9488\u5bf9\u4e24\u7ec4\u53d7\u4f17:\n\n-  \u60f3\u8981\u66ff\u6362NumPy\u4ece\u800c\u4f7f\u7528GPU\u7684\u8ba1\u7b97\u80fd\u529b\n-  \u63d0\u4f9b\u6700\u5927\u7075\u6d3b\u6027\u548c\u901f\u5ea6\u7684\u6df1\u5ea6\u5b66\u4e60\u7814\u7a76\u5e73\u53f0\n\n\u5f00\u59cb\u8d70\u8d77\n---------------\n\nTensors\n^^^^^^^\n\nTensors \u7c7b\u4f3c\u4e8eNumPy\u7684 ndarrays, \u53e6\u5916\uff0c\u5b83\u8fd8\u53ef\u4ee5\u5728GPU\u4e0a\u4f7f\u7528\u52a0\u901f\u8ba1\u7b97\u3002\n\n"
      ]
    },
    {
      "cell_type": "code",
      "execution_count": null,
      "metadata": {
        "collapsed": false
      },
      "outputs": [],
      "source": [
        "from __future__ import print_function\nimport torch"
      ]
    },
    {
      "cell_type": "markdown",
      "metadata": {},
      "source": [
        "\u6784\u5efa\u4e00\u4e2a 5x3 \u77e9\u9635, \u672a\u521d\u59cb\u5316:\n\n"
      ]
    },
    {
      "cell_type": "code",
      "execution_count": null,
      "metadata": {
        "collapsed": false
      },
      "outputs": [],
      "source": [
        "x = torch.empty(5, 3)\nprint(x)"
      ]
    },
    {
      "cell_type": "markdown",
      "metadata": {},
      "source": [
        "\u6784\u5efa\u4e00\u4e2a\u968f\u673a\u521d\u59cb\u5316\u7684\u77e9\u9635:\n\n"
      ]
    },
    {
      "cell_type": "code",
      "execution_count": null,
      "metadata": {
        "collapsed": false
      },
      "outputs": [],
      "source": [
        "x = torch.rand(5, 3)\nprint(x)"
      ]
    },
    {
      "cell_type": "markdown",
      "metadata": {},
      "source": [
        "\u521b\u5efa\u4e00\u4e2a\u77e9\u9635\uff0c\u7528 0 \u586b\u5145\uff0c\u6570\u636e\u7c7b\u578b\u4e3a long:\n\n"
      ]
    },
    {
      "cell_type": "code",
      "execution_count": null,
      "metadata": {
        "collapsed": false
      },
      "outputs": [],
      "source": [
        "x = torch.zeros(5, 3, dtype=torch.long)\nprint(x)"
      ]
    },
    {
      "cell_type": "markdown",
      "metadata": {},
      "source": [
        "\u76f4\u63a5\u4ece\u5df2\u6709\u7684\u6570\u636e(\u4e0d\u662fTensor\u7c7b\u578b)\u521b\u5efa\u4e00\u4e2a\u77e9\u9635:\n\n"
      ]
    },
    {
      "cell_type": "code",
      "execution_count": null,
      "metadata": {
        "collapsed": false
      },
      "outputs": [],
      "source": [
        "x = torch.tensor([5.5, 3])\nprint(x)"
      ]
    },
    {
      "cell_type": "markdown",
      "metadata": {},
      "source": [
        "\u6216\u8005\u57fa\u4e8e\u4e00\u4e2a\u5df2\u6709\u7684tensor\u521b\u5efa\u4e00\u4e2a\u65b0\u7684tensor\u3002\u8fd9\u7c7b\u65b9\u6cd5\u5c06\u4f1a\u91cd\u7528\n\u8f93\u5165tensor\u7684\u5c5e\u6027, e.g. dtype, \u9664\u975e\u7528\u6237\u63d0\u4f9b\u4e86\u65b0\u7684\u5c5e\u6027\u503c\n\n"
      ]
    },
    {
      "cell_type": "code",
      "execution_count": null,
      "metadata": {
        "collapsed": false
      },
      "outputs": [],
      "source": [
        "x = x.new_ones(5, 3, dtype=torch.int)      # new_* \u65b9\u6cd5\u9700\u8981\u63a5\u53d7 sizes \u53c2\u6570\nprint(x)\n\nx = torch.randn_like(x, dtype=torch.float)    # \u8986\u76d6\u4e0a\u9762\u7684 x \u7684 dtype!\nprint(x)                                      # \u7ed3\u679c\u6709\u76f8\u540c\u7684 size"
      ]
    },
    {
      "cell_type": "markdown",
      "metadata": {},
      "source": [
        "\u83b7\u5f97\u5f20\u91cf\u7684 size:\n\n"
      ]
    },
    {
      "cell_type": "code",
      "execution_count": null,
      "metadata": {
        "collapsed": false
      },
      "outputs": [],
      "source": [
        "print(x.size())"
      ]
    },
    {
      "cell_type": "markdown",
      "metadata": {},
      "source": [
        "<div class=\"alert alert-info\"><h4>Note</h4><p>``torch.Size`` \u4e8b\u5b9e\u4e0a\u662f\u4e2a\u5143\u7956(tuple),\u56e0\u6b64\u5b83\u652f\u6301\u6240\u6709\u7684\u5143\u7956\u64cd\u4f5c</p></div>\n\n\u64cd\u4f5c\n^^^^^^^^^^\n\u5f20\u91cf\u7684\u8fd0\u7b97\u6709\u591a\u79cd\u8bed\u6cd5\u3002\u5728\u4e0b\u9762\u7684\u793a\u4f8b\u4e2d\uff0c\u6211\u4eec\u5c06\u67e5\u770b\u52a0\u6cd5\u8fd0\u7b97\uff0c\u51cf\u6cd5\u8fd0\u7b97\u4ee5\u6b64\u4e3a\u4f8b\u3002\n\n\u52a0\u6cd5: \u8bed\u6cd5 1\n\n"
      ]
    },
    {
      "cell_type": "code",
      "execution_count": null,
      "metadata": {
        "collapsed": false
      },
      "outputs": [],
      "source": [
        "y = torch.rand(5, 3)\nprint(x + y)"
      ]
    },
    {
      "cell_type": "markdown",
      "metadata": {},
      "source": [
        "\u52a0\u6cd5: \u8bed\u6cd5 2\n\n"
      ]
    },
    {
      "cell_type": "code",
      "execution_count": null,
      "metadata": {
        "collapsed": false
      },
      "outputs": [],
      "source": [
        "print(torch.add(x, y))"
      ]
    },
    {
      "cell_type": "markdown",
      "metadata": {},
      "source": [
        "\u52a0\u6cd5: \u63d0\u4f9b\u4e00\u4e2a\u8f93\u51fa\u5f20\u91cf\u4f5c\u4e3a\u53c2\u6570\n\n"
      ]
    },
    {
      "cell_type": "code",
      "execution_count": null,
      "metadata": {
        "collapsed": false
      },
      "outputs": [],
      "source": [
        "result = torch.empty(5, 3)\ntorch.add(x, y, out=result)\nprint(result)"
      ]
    },
    {
      "cell_type": "markdown",
      "metadata": {},
      "source": [
        "\u52a0\u6cd5: \u539f\u4f4d\u64cd\u4f5c(in-place)\n\n"
      ]
    },
    {
      "cell_type": "code",
      "execution_count": null,
      "metadata": {
        "collapsed": false
      },
      "outputs": [],
      "source": [
        "# \u628a x \u52a0\u5230 y \u4e0a\ny.add_(x)\nprint(y)"
      ]
    },
    {
      "cell_type": "markdown",
      "metadata": {},
      "source": [
        "<div class=\"alert alert-info\"><h4>Note</h4><p>\u4efb\u4f55\u539f\u4f4d\u4fee\u6539\u4e00\u4e2a\u5f20\u91cf\u7684\u8fd0\u7b97\u64cd\u4f5c\u90fd\u5e26\u6709\u4e0b\u5212\u7ebf\u540e\u7f00: ``_`` \u3002\n    \u6bd4\u5982: ``x.copy_(y)``, ``x.t_()``, \u5c06\u4f1a\u6539\u53d8 ``x``.</p></div>\n\n\u60a8\u53ef\u4ee5\u4f7f\u7528\u6807\u51c6\u7684NumPy\u7c7b\u7d22\u5f15(standard NumPy-like indexing) \u4ee5\u53ca\u5b83\u7684\u6240\u6709\u4e00\u5207\u82b1\u54e8\u7684\u7d22\u5f15\u6280\u5de7!\n\n"
      ]
    },
    {
      "cell_type": "code",
      "execution_count": null,
      "metadata": {
        "collapsed": false
      },
      "outputs": [],
      "source": [
        "print(x[:, 1])"
      ]
    },
    {
      "cell_type": "markdown",
      "metadata": {},
      "source": [
        "\u8c03\u6574\u5927\u5c0f(Resizing): \u5982\u679c\u8981\u8c03\u6574\u5f20\u91cf\u7684\u5927\u5c0f/\u5f62\u72b6(resize/reshape tensor)\uff0c\u53ef\u4ee5\u4f7f\u7528 ``torch.view``:\n\n"
      ]
    },
    {
      "cell_type": "code",
      "execution_count": null,
      "metadata": {
        "collapsed": false
      },
      "outputs": [],
      "source": [
        "x = torch.randn(4, 4)\ny = x.view(16)\nz = x.view(-1, 8)  # \u8fd9\u4e2a size -1 \u662f\u53ef\u4ee5\u6839\u636e\u5176\u4ed6\u7ef4\u7684\u7ef4\u6570\u548c\u603b\u7684\u7ef4\u6570\u63a8\u65ad\u51fa\u6765\u7684\nprint(x.size(), y.size(), z.size())"
      ]
    },
    {
      "cell_type": "markdown",
      "metadata": {},
      "source": [
        "\u5982\u679c\u4f60\u6709\u4e00\u4e2a\u5355\u5143\u7d20\u5f20\u91cf(one element tensor), \u53ef\u4ee5\u4f7f\u7528 ``.item()`` \u6765\u53d6\u5f97\u91cc\u9762\u7684\u503c\uff0c\u5c06\u5176\u4f5c\u4e3a\u666e\u901a\u7684Python number\u3002\n\n"
      ]
    },
    {
      "cell_type": "code",
      "execution_count": null,
      "metadata": {
        "collapsed": false
      },
      "outputs": [],
      "source": [
        "x = torch.randn(1)\nprint(x)\nprint(x.item())"
      ]
    },
    {
      "cell_type": "markdown",
      "metadata": {},
      "source": [
        "**\u7a0d\u540e\u9605\u8bfb:**\n\n\n  100+ Tensor \u8fd0\u7b97\u64cd\u4f5c, \u5305\u62ec transposing, indexing, slicing,\n  mathematical operations, linear algebra, random numbers, etc.,\n  \u70b9\u51fb\u4e0b\u9762\u7684\u94fe\u63a5\u67e5\u770b `here <https://pytorch.org/docs/torch>`_.\n\nNumPy \u6865\u63a5\n------------\n\n\u628aTorch Tensor\u8f6c\u6362\u6210NumPy array\u662f\u5f88easy\u7684\uff0c\u53cd\u4e4b\u4ea6\u7136\u3002\n\nTorch Tensor \u548c NumPy array \u5c06\u4f1a\u5171\u4eab\u5e95\u5c42\u5185\u5b58\u4f4d\u7f6e, \u5e76\u4e14 \u4fee\u6539\u4e86\u4e00\u4e2a\u540e\u53e6\u4e2a\u4e5f\u4f1a\u88ab\u6539\u53d8.\n\n\u628a Torch Tensor \u8f6c\u6362\u4e3a\u4e00\u4e2a NumPy Array\n^^^^^^^^^^^^^^^^^^^^^^^^^^^^^^^^^^^^^^^^^^\n\n"
      ]
    },
    {
      "cell_type": "code",
      "execution_count": null,
      "metadata": {
        "collapsed": false
      },
      "outputs": [],
      "source": [
        "a = torch.ones(5)\nprint(a)"
      ]
    },
    {
      "cell_type": "code",
      "execution_count": null,
      "metadata": {
        "collapsed": false
      },
      "outputs": [],
      "source": [
        "b = a.numpy()\nprint(b)"
      ]
    },
    {
      "cell_type": "markdown",
      "metadata": {},
      "source": [
        "\u8bf7\u770b\u4e0b\u9762 numpy array \u7684\u6570\u503c\u662f\u5982\u4f55\u6539\u53d8\u7684.\n\n"
      ]
    },
    {
      "cell_type": "code",
      "execution_count": null,
      "metadata": {
        "collapsed": false
      },
      "outputs": [],
      "source": [
        "a.add_(1)\nprint(a)\nprint(b)"
      ]
    },
    {
      "cell_type": "markdown",
      "metadata": {},
      "source": [
        "\u628a NumPy Array \u8f6c\u4e3a Torch Tensor\n^^^^^^^^^^^^^^^^^^^^^^^^^^^^^^^^^^^^^^\n\u8bf7\u770b\u5982\u4f55\u81ea\u52a8\u7684\u628a np array \u8f6c\u53d8\u4e3a Torch Tensor:\n\n"
      ]
    },
    {
      "cell_type": "code",
      "execution_count": null,
      "metadata": {
        "collapsed": false
      },
      "outputs": [],
      "source": [
        "import numpy as np\na = np.ones(5)\nb = torch.from_numpy(a)\nnp.add(a, 1, out=a)\nprint(a)\nprint(b)"
      ]
    },
    {
      "cell_type": "markdown",
      "metadata": {},
      "source": [
        "\u6240\u6709\u5728CPU \u4e0a\u7684\u5f20\u91cf\u9664\u4e86CharTensor \u4e4b\u5916\u90fd\u652f\u6301\u4e0eNumpy\u4e4b\u95f4\u7684\u76f8\u4e92\u8f6c\u6362\u3002\n\nCUDA \u5f20\u91cf\n------------\n\n\u53ef\u4ee5\u4f7f\u7528 ``.to`` \u65b9\u6cd5\u628a\u5f20\u91cf\u79fb\u52a8\u5230\u4efb\u610f\u7684\u8bbe\u5907\u3002\n\n"
      ]
    },
    {
      "cell_type": "code",
      "execution_count": null,
      "metadata": {
        "collapsed": false
      },
      "outputs": [],
      "source": [
        "# \u8ba9\u6211\u4eec\u8fd0\u884c\u4e0b\u9762\u8fd9\u6bb5\u4ee3\u7801\u4ec5\u4ec5\u5f53 CUDA \u53ef\u7528\u7684\u65f6\u5019\u3002\n# \u6211\u4eec\u5c06\u4f7f\u7528 ``torch.device`` \u5bf9\u8c61\u628a\u5f20\u91cf\u5728CPU\u548cGPU\u4e4b\u95f4\u79fb\u8fdb\u6765\u79fb\u51fa\u53bb\u3002\nif torch.cuda.is_available():\n    device = torch.device(\"cuda\")          # a CUDA device object\n    y = torch.ones_like(x, device=device)  # directly create a tensor on GPU\n    x = x.to(device)                       # or just use strings ``.to(\"cuda\")``\n    z = x + y\n    print(z)\n    print(z.to(\"cpu\", torch.double))       # ``.to`` can also change dtype together!"
      ]
    },
    {
      "cell_type": "markdown",
      "metadata": {},
      "source": [
        ".. rst-class:: sphx-glr-script-out\n\n Out:\n\n .. code-block:: none\n\n    tensor([0.8812], device='cuda:0')\n    tensor([0.8812], dtype=torch.float64)\n\n"
      ]
    }
  ],
  "metadata": {
    "kernelspec": {
      "display_name": "Python 3",
      "language": "python",
      "name": "python3"
    },
    "language_info": {
      "codemirror_mode": {
        "name": "ipython",
        "version": 3
      },
      "file_extension": ".py",
      "mimetype": "text/x-python",
      "name": "python",
      "nbconvert_exporter": "python",
      "pygments_lexer": "ipython3",
      "version": "3.6.5"
    }
  },
  "nbformat": 4,
  "nbformat_minor": 0
}