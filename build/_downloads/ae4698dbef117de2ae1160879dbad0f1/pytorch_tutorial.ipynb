{
  "cells": [
    {
      "cell_type": "code",
      "execution_count": null,
      "metadata": {
        "collapsed": false
      },
      "outputs": [],
      "source": [
        "%matplotlib inline"
      ]
    },
    {
      "cell_type": "markdown",
      "metadata": {},
      "source": [
        "\nPyTorch\u7684\u7b80\u5355\u4ecb\u7ecd\n***********************\n\u7ffb\u8bd1\u8005\uff1awww.studyai.com/antares\n\nTorch \u7684\u5f20\u91cf\u5e93\u7684\u4ecb\u7ecd\n======================================\n\n\u6240\u6709\u7684\u6df1\u5ea6\u5b66\u4e60\u90fd\u662f\u5173\u4e8e\u5f20\u91cf\u7684\u8ba1\u7b97\uff0c\u5b83\u662f\u77e9\u9635\u7684\u63a8\u5e7f\uff0c\u53ef\u4ee5\u5728\u591a\u4e2a\u7ef4\u5ea6\u4e0a\u7d22\u5f15\u3002\n\u6211\u4eec\u5c06\u5728\u4ee5\u540e\u6df1\u5165\u4e86\u89e3\u8fd9\u610f\u5473\u7740\u4ec0\u4e48\u3002\u9996\u5148\uff0c\u8ba9\u6211\u4eec\u770b\u770b\u6211\u4eec\u80fd\u7528\u5f20\u91cf\u505a\u4e9b\u4ec0\u4e48\u3002\n\n"
      ]
    },
    {
      "cell_type": "code",
      "execution_count": null,
      "metadata": {
        "collapsed": false
      },
      "outputs": [],
      "source": [
        "# Author: Robert Guthrie\n\nimport torch\nimport torch.autograd as autograd\nimport torch.nn as nn\nimport torch.nn.functional as F\nimport torch.optim as optim\n\ntorch.manual_seed(1)"
      ]
    },
    {
      "cell_type": "markdown",
      "metadata": {},
      "source": [
        "\u521b\u5efa\u5f20\u91cf\n~~~~~~~~~~~~~~~~\n\n\u53ef\u4ee5\u4f7f\u7528 torch.Tensor() \u51fd\u6570 \u4ecePython\u7684list\u521b\u5efa\u5f20\u91cf\n\n\n"
      ]
    },
    {
      "cell_type": "code",
      "execution_count": null,
      "metadata": {
        "collapsed": false
      },
      "outputs": [],
      "source": [
        "# torch.tensor(data) \u4f7f\u7528\u7ed9\u5b9a\u7684\u6570\u636e\u521b\u5efa\u4e00\u4e2a torch.Tensor \u5bf9\u8c61\nV_data = [1., 2., 3.]\nV = torch.tensor(V_data)\nprint(V)\n\n# \u521b\u5efa\u4e00\u4e2a\u77e9\u9635\nM_data = [[1., 2., 3.], [4., 5., 6]]\nM = torch.tensor(M_data)\nprint(M)\n\n# \u521b\u5efa\u4e00\u4e2a\u5c3a\u5bf8\u4e3a 2x2x2 \u7684 3D tensor\u3002\nT_data = [[[1., 2.], [3., 4.]],\n          [[5., 6.], [7., 8.]]]\nT = torch.tensor(T_data)\nprint(T)"
      ]
    },
    {
      "cell_type": "markdown",
      "metadata": {},
      "source": [
        "\u4ec0\u4e48\u662f\u4e09\u7ef4\u5f20\u91cf\uff1f\u50cf\u8fd9\u6837\u60f3\u4e00\u60f3\u3002\u5982\u679c\u4f60\u6709\u4e00\u4e2a\u5411\u91cf\uff0c\u7d22\u5f15\u5230\u5411\u91cf\u4f1a\u7ed9\u4f60\u4e00\u4e2a\u6807\u91cf\u3002\n\u5982\u679c\u4f60\u6709\u4e00\u4e2a\u77e9\u9635\uff0c\u7d22\u5f15\u5230\u77e9\u9635\u7ed9\u4f60\u4e00\u4e2a\u5411\u91cf\u3002\n\u5982\u679c\u4f60\u6709\u4e00\u4e2a\u4e09\u7ef4\u5f20\u91cf\uff0c\u90a3\u4e48\u7d22\u5f15\u5230\u5f20\u91cf\u7ed9\u4f60\u4e00\u4e2a\u77e9\u9635\uff01\n\n\u5173\u4e8e\u672f\u8bed\u7684\u6ce8\u610f\u4e8b\u9879\uff1a\u5f53\u6211\u5728\u672c\u6559\u7a0b\u4e2d\u8bf4\u201c\u5f20\u91cf\u201d\u65f6\uff0c\u5b83\u6307\u7684\u662f\u4efb\u4f55\u4e00\u4e2atorch.Tensor\u5bf9\u8c61\u3002\n\u77e9\u9635\u548c\u5411\u91cf\u662ftorch.Tensor\u7684\u7279\u4f8b\uff0c\u5b83\u4eec\u7684\u7ef4\u6570\u5206\u522b\u4e3a1\u548c2\u3002\u5f53\u6211\u8c08\u8bba\u4e09\u7ef4\u5f20\u91cf\u65f6\uff0c\u6211\u4f1a\u660e\u786e\u5730\u4f7f\u7528\u201c\u4e09\u7ef4\u5f20\u91cf(3D tensor)\u201d\u8fd9\u4e2a\u8bcd\u3002\n\n\n"
      ]
    },
    {
      "cell_type": "code",
      "execution_count": null,
      "metadata": {
        "collapsed": false
      },
      "outputs": [],
      "source": [
        "# Index into V and get a scalar (0 dimensional tensor)\nprint(V[0])\n# Get a Python number from it\nprint(V[0].item())\n\n# Index into M and get a vector\nprint(M[0])\n\n# Index into T and get a matrix\nprint(T[0])"
      ]
    },
    {
      "cell_type": "markdown",
      "metadata": {},
      "source": [
        "\u60a8\u8fd8\u53ef\u4ee5\u521b\u5efa\u5176\u4ed6\u6570\u636e\u7c7b\u578b\u7684\u5f20\u91cf\u3002\u5982\u60a8\u6240\u89c1\uff0c\u9ed8\u8ba4\u60c5\u51b5\u662fFloat\u3002\n\u82e5\u8981\u521b\u5efa\u6574\u6570\u7c7b\u578b\u7684\u5f20\u91cf\uff0c\u8bf7\u5c1d\u8bd5 torch.LongTensor()\u3002\n\u67e5\u770b\u6587\u6863\u4ee5\u83b7\u5f97\u66f4\u591a\u7684\u6570\u636e\u7c7b\u578b\uff0c\u4f46Float\u548cLong\u5c06\u662f\u6700\u5e38\u89c1\u7684\u3002\n\n\n"
      ]
    },
    {
      "cell_type": "markdown",
      "metadata": {},
      "source": [
        "\u4f60\u53ef\u4ee5\u7528\u968f\u673a\u6570\u636e\u521b\u5efa\u4e00\u4e2a\u5f20\u91cf\uff0c\u63d0\u4f9b\u7ef4\u6570,\u7528 torch.randn() \u521b\u5efa\u3002\n\n\n"
      ]
    },
    {
      "cell_type": "code",
      "execution_count": null,
      "metadata": {
        "collapsed": false
      },
      "outputs": [],
      "source": [
        "x = torch.randn((3, 4, 5))\nprint(x)"
      ]
    },
    {
      "cell_type": "markdown",
      "metadata": {},
      "source": [
        "\u5f20\u91cf\u7684\u64cd\u4f5c\n~~~~~~~~~~~~~~~~~~~~~~~\n\n\u4f60\u53ef\u4ee5\u6309\u4f60\u671f\u671b\u7684\u65b9\u5f0f\u5bf9\u5f20\u91cf\u8fdb\u884c\u64cd\u4f5c\u3002\n\n"
      ]
    },
    {
      "cell_type": "code",
      "execution_count": null,
      "metadata": {
        "collapsed": false
      },
      "outputs": [],
      "source": [
        "x = torch.tensor([1., 2., 3.])\ny = torch.tensor([4., 5., 6.])\nz = x + y\nprint(z)"
      ]
    },
    {
      "cell_type": "markdown",
      "metadata": {},
      "source": [
        "\u6709\u5173\u53ef\u4f9b\u60a8\u4f7f\u7528\u7684\u5927\u91cf\u64cd\u4f5c\u7684\u5b8c\u6574\u5217\u8868\uff0c\u8bf7 `\u53c2\u9605\u6587\u6863 <https://pytorch.org/docs/torch.html>`__\u3002\n\u5b83\u4eec\u4e0d\u4ec5\u4ec5\u5305\u62ec\u6570\u5b66\u8fd0\u7b97\u3002\n\n\u6211\u4eec\u7a0d\u540e\u5c06\u4f7f\u7528\u7684\u4e00\u4e2a\u6709\u7528\u7684\u64cd\u4f5c\u662f\u4e32\u63a5(concatenation)\u3002\n\n\n"
      ]
    },
    {
      "cell_type": "code",
      "execution_count": null,
      "metadata": {
        "collapsed": false
      },
      "outputs": [],
      "source": [
        "# \u9ed8\u8ba4\u60c5\u51b5\u4e0b\uff0c\u5b83\u6cbf\u7740\u7b2c\u4e00\u4e2a\u8f74(axis)\u8fdb\u884c\u4e32\u63a5 (concatenates rows)\nx_1 = torch.randn(2, 5)\ny_1 = torch.randn(3, 5)\nz_1 = torch.cat([x_1, y_1])\nprint(z_1)\n\n# Concatenate columns:\nx_2 = torch.randn(2, 3)\ny_2 = torch.randn(2, 5)\n# \u7b2c\u4e8c\u4e2a\u53c2\u6570\u7528\u4e8e\u6307\u5b9a\u8981\u6cbf\u7740\u54ea\u4e2a\u8f74(axis)\u8fdb\u884c\u4e32\u63a5\nz_2 = torch.cat([x_2, y_2], 1)\nprint(z_2)\n\n# \u5982\u679c\u4f60\u7684\u5f20\u91cf\u4e0d\u517c\u5bb9\uff0ctorch\u4f1a\u62b1\u6028\u3002\u53d6\u6d88\u6ce8\u91ca\u4ee5\u67e5\u770b\u9519\u8bef\n# torch.cat([x_1, x_2])"
      ]
    },
    {
      "cell_type": "markdown",
      "metadata": {},
      "source": [
        "\u91cd\u5851(reshape)\u5f20\u91cf\n~~~~~~~~~~~~~~~~~\n\n\u4f7f\u7528.view()\u65b9\u6cd5\u91cd\u65b0\u5851\u9020\u5f20\u91cf(reshape a tensor)\u3002\u7531\u4e8e\u8bb8\u591a\u795e\u7ecf\u7f51\u7edc\u7ec4\u4ef6\u671f\u671b\u7684\u8f93\u5165\u5177\u6709\u4e00\u5b9a\u7684\u5f62\u72b6(shape)\uff0c\n\u8fd9\u4e2a\u65b9\u6cd5(reshape, .view()\u65b9\u6cd5)\u5f97\u5230\u4e86\u5927\u91cf\u7684\u5e94\u7528\u3002\u901a\u5e38\uff0c\u5728\u5c06\u6570\u636e\u4f20\u9012\u7ed9\u7ec4\u4ef6\u4e4b\u524d\uff0c\u60a8\u9700\u8981\u8fdb\u884c\u6574\u5f62(reshape)\u3002\n\n\n"
      ]
    },
    {
      "cell_type": "code",
      "execution_count": null,
      "metadata": {
        "collapsed": false
      },
      "outputs": [],
      "source": [
        "x = torch.randn(2, 3, 4)\nprint(x)\nprint(x.view(2, 12))  # Reshape to 2 rows, 12 columns\n# Same as above.  \u5982\u679c\u5176\u4e2d\u4e00\u4e2a\u7ef4\u5ea6\u662f -1, \u5b83\u7684size\u5c06\u4f1a\u88ab\u63a8\u65ad\u51fa\u6765\nprint(x.view(2, -1))"
      ]
    },
    {
      "cell_type": "markdown",
      "metadata": {},
      "source": [
        "\u8ba1\u7b97\u56fe\u548c\u81ea\u52a8\u5fae\u5206\n================================================\n\n\n\u8ba1\u7b97\u56fe\u7684\u6982\u5ff5\u5bf9\u4e8e\u9ad8\u6548\u7684\u6df1\u5ea6\u5b66\u4e60\u7f16\u7a0b\u81f3\u5173\u91cd\u8981\uff0c\u56e0\u4e3a\u5b83\u5141\u8bb8\u60a8\u4e0d\u5fc5\u81ea\u5df1\u7f16\u5199\u53cd\u5411\u4f20\u64ad\u68af\u5ea6\u3002\n\u8ba1\u7b97\u56fe\u53ea\u662f\u5bf9\u5982\u4f55\u7ec4\u5408\u6570\u636e\u4ee5\u7ed9\u51fa\u8f93\u51fa\u7684\u4e00\u79cd\u89c4\u8303\u3002\u7531\u4e8e\u8ba1\u7b97\u56fe\u5b8c\u5168\u6307\u5b9a\u4e86\u6d89\u53ca\u54ea\u4e9b\u64cd\u4f5c\u7684\u53c2\u6570\uff0c\n\u6240\u4ee5\u5b83\u5305\u542b\u4e86\u8db3\u591f\u7684\u4fe1\u606f\u6765\u8ba1\u7b97\u5bfc\u6570\u3002\u8fd9\u53ef\u80fd\u542c\u8d77\u6765\u5f88\u6a21\u7cca\uff0c\u6240\u4ee5\u8ba9\u6211\u4eec\u770b\u770b\u4f7f\u7528 \u57fa\u7840\u6807\u5fd7\n``requires_grad`` \u5c06\u4f1a\u53d1\u751f\u4ec0\u4e48\u3002\n\n\u9996\u5148\uff0c\u4ece\u7a0b\u5e8f\u5458\u7684\u89d2\u5ea6\u601d\u8003\u3002\u6211\u4eec\u5728\u4e0a\u9762\u521b\u5efa\u7684 torch.Tensor \u5bf9\u8c61\u4e2d\u5b58\u50a8\u7684\u662f\u4ec0\u4e48\uff1f\n\u5f88\u660e\u663e\uff0c\u6570\u636e\u548c\u5f62\u72b6\uff0c\u4e5f\u8bb8\u8fd8\u6709\u5176\u4ed6\u4e00\u4e9b\u4e1c\u897f\u3002\u4f46\u662f\u5f53\u6211\u4eec\u628a\u4e24\u4e2a\u5f20\u91cf\u76f8\u52a0\u65f6\uff0c\n\u6211\u4eec\u5f97\u5230\u4e86\u4e00\u4e2a\u8f93\u51fa\u5f20\u91cf\u3002\u8fd9\u4e2a\u8f93\u51fa\u5f20\u91cf\u53ea\u77e5\u9053\u5b83\u7684\u6570\u636e\u548c\u5f62\u72b6\u3002\n\u5b83\u4e0d\u77e5\u9053\u5b83\u662f\u53e6\u5916\u4e24\u4e2a\u5f20\u91cf\u7684\u603b\u548c(\u5b83\u53ef\u80fd\u662f\u4ece\u6587\u4ef6\u4e2d\u8bfb\u53d6\u7684\uff0c\u4e5f\u53ef\u80fd\u662f\u5176\u4ed6\u64cd\u4f5c\u7684\u7ed3\u679c\uff0c\u7b49\u7b49)\u3002\n\n\u5982\u679c ``requires_grad=True``, Tensor \u5bf9\u8c61\u5c31\u53ef\u4ee5\u8ddf\u8e2a\u5b83\u81ea\u5df1\u662f\u5982\u4f55\u88ab\u521b\u5efa\u51fa\u6765\u7684\u3002\u8ba9\u6211\u4eec\u770b\u770b\u5177\u4f53\u7684\u4ee3\u7801\u5427\u3002\n\n\n"
      ]
    },
    {
      "cell_type": "code",
      "execution_count": null,
      "metadata": {
        "collapsed": false
      },
      "outputs": [],
      "source": [
        "# Tensor factory methods have a ``requires_grad`` flag\nx = torch.tensor([1., 2., 3], requires_grad=True)\n\n# With requires_grad=True, you can still do all the operations you previously\n# could\ny = torch.tensor([4., 5., 6], requires_grad=True)\nz = x + y\nprint(z)\n\n# BUT z knows something extra.\nprint(z.grad_fn)"
      ]
    },
    {
      "cell_type": "markdown",
      "metadata": {},
      "source": [
        "\u6240\u4ee5\u5f20\u91cf\u77e5\u9053\u662f\u4ec0\u4e48\u521b\u9020\u4e86\u5b83\u4eec\u3002Z \u77e5\u9053\u5b83\u4e0d\u662f\u4ece\u6587\u4ef6\u4e2d\u8bfb\u53d6\u7684\uff0c\u5b83\u4e0d\u662f\u4e58\u6cd5\u6216\u6307\u6570\u4e4b\u7c7b\u7684\u7ed3\u679c\u3002\n\u5982\u679c\u4f60\u7ee7\u7eed\u8ddf\u8e2a z.grad_fn\uff0c\u4f60\u4f1a\u5728  x\u548c y \u53d1\u73b0\u81ea\u5df1\u3002\n\n\u4f46\u8fd9\u5982\u4f55\u5e2e\u52a9\u6211\u4eec\u8ba1\u7b97\u68af\u5ea6\u5462\uff1f\n\n\n"
      ]
    },
    {
      "cell_type": "code",
      "execution_count": null,
      "metadata": {
        "collapsed": false
      },
      "outputs": [],
      "source": [
        "# Lets sum up all the entries in z\ns = z.sum()\nprint(s)\nprint(s.grad_fn)"
      ]
    },
    {
      "cell_type": "markdown",
      "metadata": {},
      "source": [
        "\u90a3\u4e48\uff0c\u8fd9\u4e2a\u548c(sum)\u76f8\u5bf9\u4e8ex\u7684\u7b2c\u4e00\u4e2a\u5206\u91cf\u7684\u5bfc\u6570\u662f\u4ec0\u4e48\u5462\uff1f\u5728\u6570\u5b66\u65b9\u9762\uff0c\u6211\u4eec\u60f3:\n\n\\begin{align}\\frac{\\partial s}{\\partial x_0}\\end{align}\n\n\n\n\u597d\u5427, s \u77e5\u9053\u5b83\u662f\u88ab\u4f5c\u4e3a\u5f20\u91cf z \u7684\u548c\u6240\u521b\u5efa\u7684\u3002z \u77e5\u9053\u5b83\u662f x + y \u7684\u548c\uff0c\u56e0\u6b64\uff1a\n\n\\begin{align}s = \\overbrace{x_0 + y_0}^\\text{$z_0$} + \\overbrace{x_1 + y_1}^\\text{$z_1$} + \\overbrace{x_2 + y_2}^\\text{$z_2$}\\end{align}\n\n\u56e0\u6b64 s \u5305\u542b\u4e86\u8db3\u591f\u7684\u4fe1\u606f\u53bb\u8ba1\u7b97\u51fa\u6211\u4eec\u60f3\u8981\u7684\u5bfc\u6570\u5c31\u662f 1 !!\n\n\u5f53\u7136\uff0c\u8fd9\u63a9\u76d6\u4e86\u5982\u4f55\u5b9e\u9645\u8ba1\u7b97\u5bfc\u6570\u7684\u6311\u6218\u3002\u8fd9\u91cc\u7684\u8981\u70b9\u662f\uff0cs\u643a\u5e26\u4e86\u8db3\u591f\u591a\u7684\u4fe1\u606f\uff0c\u56e0\u6b64\u53ef\u4ee5\u8ba1\u7b97\u5b83\u3002\n\u5728\u73b0\u5b9e\u4e2d\uff0cPytorch \u7684\u5f00\u53d1\u4eba\u5458\u5bf9sum()\u548c+\u64cd\u4f5c\u8fdb\u884c\u7f16\u7a0b\uff0c\u4ee5\u4e86\u89e3\u5982\u4f55\u8ba1\u7b97\u5b83\u4eec\u7684\u68af\u5ea6\uff0c\n\u5e76\u8fd0\u884c\u53cd\u5411\u4f20\u64ad\u7b97\u6cd5\u3002\u5bf9\u8be5\u7b97\u6cd5\u7684\u6df1\u5165\u8ba8\u8bba\u8d85\u51fa\u4e86\u672c\u6559\u7a0b\u7684\u8303\u56f4.\n\n\n"
      ]
    },
    {
      "cell_type": "markdown",
      "metadata": {},
      "source": [
        "\u8ba9Pytorch\u8ba1\u7b97\u68af\u5ea6\uff0c\u770b\u770b\u6211\u4eec\u662f\u5bf9\u7684\uff1a(\u6ce8\u610f\uff0c\u5982\u679c\u60a8\u591a\u6b21\u8fd0\u884c\u8fd9\u4e2a\u5757\uff0c\u68af\u5ea6\u5c31\u4f1a\u589e\u52a0\u3002\n\u8fd9\u662f\u56e0\u4e3aPytorch\u5c06\u68af\u5ea6 **\u7d2f\u52a0** \u5230 .grad \u5c5e\u6027\u4e2d\uff0c\u56e0\u4e3a\u5bf9\u4e8e\u8bb8\u591a\u6a21\u578b\u6765\u8bf4\uff0c\u8fd9\u975e\u5e38\u65b9\u4fbf\u3002)\n\n\n"
      ]
    },
    {
      "cell_type": "code",
      "execution_count": null,
      "metadata": {
        "collapsed": false
      },
      "outputs": [],
      "source": [
        "# \u8c03\u7528\u4efb\u610f\u53d8\u91cf\u7684 .backward() \u5c06\u4f1a\u6267\u884c\u53cd\u5411\u4f20\u64ad(backprop), \u4ece\u8be5\u53d8\u91cf\u5f00\u59cb.\ns.backward()\nprint(x.grad)"
      ]
    },
    {
      "cell_type": "markdown",
      "metadata": {},
      "source": [
        "\u7406\u89e3\u4e0b\u9762\u8fd9\u4e2a\u6a21\u5757\u4e2d\u6b63\u5728\u53d1\u751f\u7684\u4e8b\u60c5\u5bf9\u4e8e\u6210\u4e3a\u4e00\u540d\u6210\u529f\u7684\u6df1\u5ea6\u5b66\u4e60\u7684\u7a0b\u5e8f\u5458\u6765\u8bf4\u662f\u81f3\u5173\u91cd\u8981\u7684\u3002\n\n\n"
      ]
    },
    {
      "cell_type": "code",
      "execution_count": null,
      "metadata": {
        "collapsed": false
      },
      "outputs": [],
      "source": [
        "x = torch.randn(2, 2)\ny = torch.randn(2, 2)\n# \u9ed8\u8ba4\u60c5\u51b5\u4e0b\uff0c\u7528\u6237\u521b\u5efa\u7684 Tensors \u7684 ``requires_grad=False``\nprint(x.requires_grad, y.requires_grad)\nz = x + y\n# So you can't backprop through z\nprint(z.grad_fn)\n\n# ``.requires_grad_( ... )`` \u4f1a\u539f\u4f4d\u6539\u53d8\u4e00\u4e2a\u5df2\u7ecf\u5b58\u5728\u7684\u5f20\u91cf\u7684 ``requires_grad`` \u6807\u8bb0\n# The input flag defaults to ``True`` if not given.\nx = x.requires_grad_()\ny = y.requires_grad_()\n# z \u5305\u542b\u4e86\u8db3\u591f\u7684\u4fe1\u606f\u6765\u8ba1\u7b97\u68af\u5ea6, as we saw above\nz = x + y\nprint(z.grad_fn)\n# If any input to an operation has ``requires_grad=True``, so will the output\nprint(z.requires_grad)\n\n# \u73b0\u5728 z \u62e5\u6709\u5b83\u81ea\u5df1\u548cx\u4ee5\u53cay\u76f8\u5173\u8054\u7684\u8ba1\u7b97\u5386\u53f2\uff0c\n# \u6211\u4eec\u53ef\u4ee5\u53ea\u63a5\u53d7\u5b83\u7684\u503c, \u800c\u628a\u5b83\u4ece\u5b83\u7684\u5386\u53f2\u4e2d **detach** \u51fa\u6765\u5417?\nnew_z = z.detach()\n\n# ... \u90a3\u4e48 new_z \u6709\u4fe1\u606f\u53ef\u4ee5\u53cd\u5411\u4f20\u64ad\u5230 x \u548c y \u5417?  **\u6ca1\u6709**\nprint(new_z.grad_fn)\n# \u90a3\u4e48\u4e3a\u5565\u4f1a\u8fd9\u6837\u7684\u5462? ``z.detach()`` \u8fd4\u56de\u4e00\u4e2a\u4e0e ``z`` \u5171\u4eab\u5b58\u50a8\u7a7a\u95f4\u7684\u5f20\u91cf\uff0c\u4f46\u662f\u628a ``z`` \u4e0a\u7684\n# \u8ba1\u7b97\u5386\u53f2\u5168\u5fd8\u8bb0\u4e86(\u6254\u4e86)\u3002 new_z \u6839\u672c\u4e0d\u77e5\u9053\u5b83\u662f\u5982\u4f55\u88ab\u8ba1\u7b97\u51fa\u6765\u7684\u3002\n# \u4ece\u672c\u8d28\u4e0a\u8bf4\uff0c\u6211\u4eec\u5df2\u7ecf\u628a\u5f20\u91cf\u4ece\u8fc7\u53bb\u7684\u5386\u53f2\u4e2d\u5265\u79bb\u51fa\u6765\u4e86\u3002"
      ]
    },
    {
      "cell_type": "markdown",
      "metadata": {},
      "source": [
        "\u8fd8\u53ef\u4ee5\u901a\u8fc7\u5c06\u4ee3\u7801\u5757\u5305\u88c5\u5728 ``with torch.no_grad():`` \u4e2d\u6765\u963b\u6b62autograd\u5728\n``.requires_grad``=True \u4e2d\u8ddf\u8e2a\u5f20\u91cf\u4e0a\u7684\u5386\u53f2\u8bb0\u5f55\uff1a\n\n"
      ]
    },
    {
      "cell_type": "code",
      "execution_count": null,
      "metadata": {
        "collapsed": false
      },
      "outputs": [],
      "source": [
        "print(x.requires_grad)\nprint((x ** 2).requires_grad)\n\nwith torch.no_grad():\n\tprint((x ** 2).requires_grad)"
      ]
    }
  ],
  "metadata": {
    "kernelspec": {
      "display_name": "Python 3",
      "language": "python",
      "name": "python3"
    },
    "language_info": {
      "codemirror_mode": {
        "name": "ipython",
        "version": 3
      },
      "file_extension": ".py",
      "mimetype": "text/x-python",
      "name": "python",
      "nbconvert_exporter": "python",
      "pygments_lexer": "ipython3",
      "version": "3.6.5"
    }
  },
  "nbformat": 4,
  "nbformat_minor": 0
}