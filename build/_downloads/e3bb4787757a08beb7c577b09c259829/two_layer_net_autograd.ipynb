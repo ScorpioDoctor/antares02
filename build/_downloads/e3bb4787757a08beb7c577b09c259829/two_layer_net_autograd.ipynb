{
  "cells": [
    {
      "cell_type": "code",
      "execution_count": null,
      "metadata": {
        "collapsed": false
      },
      "outputs": [],
      "source": [
        "%matplotlib inline"
      ]
    },
    {
      "cell_type": "markdown",
      "metadata": {},
      "source": [
        "\nPyTorch: \u5f20\u91cf\u548c\u81ea\u52a8\u68af\u5ea6\n-------------------------------\n\n\u4e00\u4e2a\u5b8c\u5168\u8fde\u63a5\u7684ReLU\u7f51\u7edc\uff0c\u53ea\u6709\u4e00\u4e2a\u9690\u85cf\u5c42\uff0c\u6ca1\u6709\u504f\u7f6e\uff0c\u6700\u5c0f\u5316\u6b27\u6c0f\u8bef\u5dee\u8bad\u7ec3\u4ecex\u9884\u6d4by\u3002\n\n\u8fd9\u4e2a\u5b9e\u73b0\u4f7f\u7528Pytorch\u7684tensors\u4e0a\u7684\u8fd0\u7b97\u64cd\u4f5c\u8ba1\u7b97\u524d\u5411\u4f20\u9012\uff0c\n\u5e76\u4f7f\u7528PyTorch\u7684autograd\u8ba1\u7b97\u68af\u5ea6\u3002\n\n\u4e00\u4e2a PyTorch Tensor \u4ee3\u8868\u4e86\u8ba1\u7b97\u56fe\u4e0a\u7684\u4e00\u4e2a\u8282\u70b9\u3002 \u5982\u679c ``x`` \u662f\u4e00\u4e2a\u72b6\u6001\u4e3a\n``x.requires_grad=True`` \u7684\u5f20\u91cf\uff0c\u90a3\u4e48 ``x.grad`` \u662f\u53e6\u4e00\u4e2a\u5f20\u91cf\uff0c\u5b83\u6301\u6709\n``x`` \u76f8\u5bf9\u4e8e\u67d0\u4e2a\u6807\u91cf\u7684\u68af\u5ea6\u3002\n\n"
      ]
    },
    {
      "cell_type": "code",
      "execution_count": null,
      "metadata": {
        "collapsed": false
      },
      "outputs": [],
      "source": [
        "import torch\n\ndtype = torch.float\ndevice = torch.device(\"cpu\")\n# device = torch.device(\"cuda:0\") #\u53bb\u6389\u8fd9\u884c\u6ce8\u91ca\u5c31\u53ef\u4ee5\u5728GPU\u4e0a\u8fd0\u884c\n\n# N is batch size; D_in is input dimension;\n# H is hidden dimension; D_out is output dimension.\nN, D_in, H, D_out = 64, 1000, 100, 10\n\n# \u521b\u5efa\u968f\u673a\u5f20\u91cf\u4ee5\u6301\u6709\u8f93\u5165\u548c\u8f93\u51fa.\n# \u8bbe\u7f6e requires_grad=False \u8868\u660e \u6211\u4eec\u5728\u53cd\u5411\u4f20\u9012\u9636\u6bb5\n# \u4e0d\u9700\u8981\u8ba1\u7b97\u76f8\u5bf9\u4e8e\u8fd9\u4e9b\u5f20\u91cf\u7684\u68af\u5ea6 \nx = torch.randn(N, D_in, device=device, dtype=dtype)\ny = torch.randn(N, D_out, device=device, dtype=dtype)\n\n# \u521b\u5efa\u968f\u673a\u5f20\u91cf\u7528\u6765\u5b58\u653e\u6a21\u578b\u7684\u53ef\u5b66\u4e60\u53c2\u6570: weights\n# \u8bbe\u7f6e requires_grad=True \u8868\u660e \u6211\u4eec\u5728\u53cd\u5411\u4f20\u9012\u9636\u6bb5\n# \u9700\u8981\u8ba1\u7b97\u76f8\u5bf9\u4e8e\u8fd9\u4e9b\u5f20\u91cf\u7684\u68af\u5ea6 \nw1 = torch.randn(D_in, H, device=device, dtype=dtype, requires_grad=True)\nw2 = torch.randn(H, D_out, device=device, dtype=dtype, requires_grad=True)\n\nlearning_rate = 1e-6\nfor t in range(500):\n    # \u524d\u5411\u4f20\u9012: \u8ba1\u7b97\u9884\u6d4b\u51fa\u7684 y \u4f7f\u7528Tensors\u76f8\u5173\u7684\u8fd0\u7b97/\u64cd\u4f5c; \n    # \u8fd9\u4e2a\u5730\u65b9\u4e0e\u4e0a\u4e00\u8282\u4e2d\u4f7f\u7528Tensor\u7684\u540c\u6837\u7684\u64cd\u4f5c\u8ba1\u7b97\u524d\u5411\u4f20\u9012\u662f\u4e00\u6837\u7684\uff1b\n    # \u4f46\u662f\u6211\u4eec\u4e0d\u9700\u8981\u4fdd\u7559\u8ba1\u7b97\u8fc7\u7a0b\u7684\u4e2d\u95f4\u503c\u7684\u5f15\u7528\uff0c\n    # \u56e0\u4e3a\u6211\u4eec\u5e76\u6ca1\u6709\u53bb\u624b\u52a8\u5b9e\u73b0\u53cd\u5411\u4f20\u9012\u3002\n    y_pred = x.mm(w1).clamp(min=0).mm(w2)\n\n    # \u4f7f\u7528Tensors\u7684\u64cd\u4f5c \u8ba1\u7b97\u635f\u5931\u5e76\u8f93\u51fa\n    # \u73b0\u5728\u635f\u5931\u662f\u4e00\u4e2a shape \u4e3a (1,) \u7684\u5f20\u91cf\n    # loss.item() \u53ef\u4ee5\u83b7\u5f97\u5f20\u91cfloss\u4e2d\u6301\u6709\u7684\u6570\u5b57\n    loss = (y_pred - y).pow(2).sum()\n    print(t, loss.item())\n\n    # \u4f7f\u7528 autograd \u53bb\u8ba1\u7b97\u53cd\u5411\u4f20\u9012\u3002 \u8fd9\u4e2a\u8c03\u7528\u5c06\u4f1a\u8ba1\u7b97\n    # loss\u76f8\u5bf9\u4e8e\u6240\u6709\u72b6\u6001\u4e3a requires_grad=True \u7684\u5f20\u91cf\u7684\u68af\u5ea6\u3002\n    # \u8c03\u7528\u5b8c\u6bd5\u4ee5\u540e\uff0c w1.grad \u548c w2.grad \u5c06\u4f1a\u662f\u4e24\u4e2a\u5f20\u91cf\uff0c\u5206\u522b\u6301\u6709\n    # \u635f\u5931\u76f8\u5bf9\u4e8e w1 \u548c w2 \u7684\u68af\u5ea6\u3002\n    loss.backward()\n\n    # \u4f7f\u7528\u68af\u5ea6\u4e0b\u964d\u6cd5\u624b\u52a8\u66f4\u65b0\u6743\u91cd\u3002\u5e76\u5c06\u4ee3\u7801\u5206\u88c5\u5728 torch.no_grad() \u4e2d\u3002\n    # \u56e0\u4e3a \u6743\u91cd\u5f20\u91cf\u7684\u72b6\u6001\u4e3a requires_grad=True, \u4f46\u662f\u6211\u4eec\u4e0d\u5e0c\u671b\u5728\n    # autograd \u4e2d\u53bb\u8ddf\u8e2a\u5386\u53f2.\n    # \u53e6\u4e00\u79cd\u53ef\u9009\u7684\u65b9\u6cd5\u662f \u76f4\u63a5\u64cd\u4f5c weight.data \u548c weight.grad.data \u3002\n    # \u56de\u60f3\u5230 tensor.data \u7ed9\u51fa\u4e00\u4e2a\u4e0e\u5176\u5171\u4eab\u5b58\u50a8\u7a7a\u95f4\u7684\u5f20\u91cf\uff0c\u4f46\u662f\u4e0d\u4f1a\u8ddf\u8e2a\u5386\u53f2\u3002\n    # \u4f60\u4e5f\u53ef\u4ee5\u4f7f\u7528 torch.optim.SGD \u6765\u8fbe\u5230\u6b64\u76ee\u7684\u3002\n    with torch.no_grad():\n        w1 -= learning_rate * w1.grad\n        w2 -= learning_rate * w2.grad\n\n        # \u66f4\u65b0\u5b8c\u6743\u91cd\u4ee5\u540e\uff0c\u624b\u52a8\u5c06\u6240\u6709\u7684\u68af\u5ea6\u6e05\u96f6\n        w1.grad.zero_()\n        w2.grad.zero_()"
      ]
    }
  ],
  "metadata": {
    "kernelspec": {
      "display_name": "Python 3",
      "language": "python",
      "name": "python3"
    },
    "language_info": {
      "codemirror_mode": {
        "name": "ipython",
        "version": 3
      },
      "file_extension": ".py",
      "mimetype": "text/x-python",
      "name": "python",
      "nbconvert_exporter": "python",
      "pygments_lexer": "ipython3",
      "version": "3.6.5"
    }
  },
  "nbformat": 4,
  "nbformat_minor": 0
}