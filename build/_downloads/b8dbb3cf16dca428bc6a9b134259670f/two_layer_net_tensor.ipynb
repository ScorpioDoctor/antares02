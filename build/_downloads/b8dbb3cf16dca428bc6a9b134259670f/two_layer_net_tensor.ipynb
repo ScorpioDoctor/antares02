{
  "cells": [
    {
      "cell_type": "code",
      "execution_count": null,
      "metadata": {
        "collapsed": false
      },
      "outputs": [],
      "source": [
        "%matplotlib inline"
      ]
    },
    {
      "cell_type": "markdown",
      "metadata": {},
      "source": [
        "\nPyTorch: \u5f20\u91cf\n----------------\n\n\u4e00\u4e2a\u5b8c\u5168\u8fde\u63a5\u7684ReLU\u7f51\u7edc\uff0c\u53ea\u6709\u4e00\u4e2a\u9690\u85cf\u5c42\uff0c\u6ca1\u6709\u504f\u7f6e\uff0c\u6700\u5c0f\u5316\u6b27\u6c0f\u8bef\u5dee\u8bad\u7ec3\u4ecex\u9884\u6d4by\u3002\n\n\u6b64\u5b9e\u73b0\u4f7f\u7528PyTorch tensors \u624b\u52a8\u8ba1\u7b97\u5411\u524d\u4f20\u9012\u3001\u635f\u5931\u548c\u53cd\u5411\u4f20\u9012\u3002\n\nPyTorch Tensor \u57fa\u672c\u7c7b\u4f3c\u4e8e Numpy \u6570\u7ec4: \u5b83\u4e0d\u77e5\u9053\u4efb\u4f55\u5173\u4e8e\u6df1\u5ea6\u5b66\u4e60\u3001\u68af\u5ea6\u6216\u8ba1\u7b97\u56fe\u7684\u77e5\u8bc6\uff0c\n\u5b83\u53ea\u662f\u6267\u884c\u901a\u7528\u6570\u5b57\u8ba1\u7b97\u7684\u4e00\u79cd\u65b9\u6cd5\u3002\n\nNumpy\u6570\u7ec4\u548cPyTorch\u5f20\u91cf\u4e4b\u95f4\u6700\u5927\u7684\u533a\u522b\u662fPyTorch\u5f20\u91cf\u53ef\u4ee5\u5728CPU\u6216GPU\u4e0a\u8fd0\u884c\u3002\n\u8981\u5728GPU\u4e0a\u8fd0\u884c\u64cd\u4f5c\uff0c\u53ea\u9700\u5c06\u5f20\u91cf\u8f6c\u6362\u4e3acuda\u6570\u636e\u7c7b\u578b\u5373\u53ef\u3002\n\n"
      ]
    },
    {
      "cell_type": "code",
      "execution_count": null,
      "metadata": {
        "collapsed": false
      },
      "outputs": [],
      "source": [
        "import torch\n\n\ndtype = torch.float\ndevice = torch.device(\"cpu\")\n# device = torch.device(\"cuda:0\") # \u53bb\u6389\u8fd9\u884c\u6ce8\u91ca\u5c31\u53ef\u4ee5\u5728GPU\u4e0a\u8fd0\u884c\n\n# N is batch size; D_in is input dimension;\n# H is hidden dimension; D_out is output dimension.\nN, D_in, H, D_out = 64, 1000, 100, 10\n\n# \u4ea7\u751f\u968f\u673a\u8f93\u5165\u548c\u8f93\u51fa\u6570\u636e\nx = torch.randn(N, D_in, device=device, dtype=dtype)\ny = torch.randn(N, D_out, device=device, dtype=dtype)\n\n# \u968f\u673a\u521d\u59cb\u5316\u6743\u91cd\nw1 = torch.randn(D_in, H, device=device, dtype=dtype)\nw2 = torch.randn(H, D_out, device=device, dtype=dtype)\n\nlearning_rate = 1e-6\nfor t in range(500):\n    # \u524d\u5411\u4f20\u9012: \u8ba1\u7b97 predicted y\n    h = x.mm(w1)\n    h_relu = h.clamp(min=0)\n    y_pred = h_relu.mm(w2)\n\n    # \u8ba1\u7b97\u5e76\u8f93\u51fa\u635f\u5931\n    loss = (y_pred - y).pow(2).sum().item()\n    print(t, loss)\n\n    # \u53cd\u5411\u4f20\u64ad(Backprop) \u53bb\u8ba1\u7b97 w1 \u548c w2 \u76f8\u5bf9\u4e8eloss\u7684\u68af\u5ea6\n    grad_y_pred = 2.0 * (y_pred - y)\n    grad_w2 = h_relu.t().mm(grad_y_pred)\n    grad_h_relu = grad_y_pred.mm(w2.t())\n    grad_h = grad_h_relu.clone()\n    grad_h[h < 0] = 0\n    grad_w1 = x.t().mm(grad_h)\n\n    # \u4f7f\u7528\u68af\u5ea6\u4e0b\u964d\u6cd5\u66f4\u65b0\u6743\u91cd\n    w1 -= learning_rate * grad_w1\n    w2 -= learning_rate * grad_w2"
      ]
    }
  ],
  "metadata": {
    "kernelspec": {
      "display_name": "Python 3",
      "language": "python",
      "name": "python3"
    },
    "language_info": {
      "codemirror_mode": {
        "name": "ipython",
        "version": 3
      },
      "file_extension": ".py",
      "mimetype": "text/x-python",
      "name": "python",
      "nbconvert_exporter": "python",
      "pygments_lexer": "ipython3",
      "version": "3.6.5"
    }
  },
  "nbformat": 4,
  "nbformat_minor": 0
}