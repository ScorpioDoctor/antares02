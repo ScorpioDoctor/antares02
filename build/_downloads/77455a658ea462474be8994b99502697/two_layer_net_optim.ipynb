{
  "cells": [
    {
      "cell_type": "code",
      "execution_count": null,
      "metadata": {
        "collapsed": false
      },
      "outputs": [],
      "source": [
        "%matplotlib inline"
      ]
    },
    {
      "cell_type": "markdown",
      "metadata": {},
      "source": [
        "\nPyTorch: optim\n--------------\n\n\u4e00\u4e2a\u5b8c\u5168\u8fde\u63a5\u7684ReLU\u7f51\u7edc\uff0c\u53ea\u6709\u4e00\u4e2a\u9690\u85cf\u5c42\uff0c\u6ca1\u6709\u504f\u7f6e\uff0c\u6700\u5c0f\u5316\u6b27\u6c0f\u8bef\u5dee\u8bad\u7ec3\u4ecex\u9884\u6d4by\u3002\n\n\u8fd9\u4e2a\u5b9e\u73b0\u5229\u7528\u4e86PyTorch\u4e2d\u7684 nn package \u6765\u6784\u5efa\u7f51\u7edc\u3002\n\n\u6211\u4eec\u6ca1\u6709\u50cf\u6211\u4eec\u4e4b\u524d\u7684\u4f8b\u5b50\u4e2d\u4e00\u76f4\u505a\u7684\u90a3\u6837\u624b\u52a8\u66f4\u65b0\u6a21\u578b\u7684\u6743\u91cd\uff0c\n\u800c\u662f\u4f7f\u7528optim package\u6765\u5b9a\u4e49\u4e00\u4e2a\u5c06\u4e3a\u6211\u4eec\u66f4\u65b0\u6743\u91cd\u7684\u4f18\u5316\u5668\u3002\noptim\u5305\u5b9a\u4e49\u4e86\u8bb8\u591a\u5728\u6df1\u5ea6\u5b66\u4e60\u4e2d\u5e38\u7528\u7684\u4f18\u5316\u7b97\u6cd5\uff0c\u5305\u62ecSGD+\u52a8\u91cf\u3001RMSProp\u3001Adam\u7b49\u3002\n\n"
      ]
    },
    {
      "cell_type": "code",
      "execution_count": null,
      "metadata": {
        "collapsed": false
      },
      "outputs": [],
      "source": [
        "import torch\n\n# N is batch size; D_in is input dimension;\n# H is hidden dimension; D_out is output dimension.\nN, D_in, H, D_out = 64, 1000, 100, 10\n\n# \u521b\u5efa\u6301\u6709\u8f93\u5165\u548c\u8f93\u51fa\u7684\u968f\u673a\u5f20\u91cf\nx = torch.randn(N, D_in)\ny = torch.randn(N, D_out)\n\n# \u4f7f\u7528 nn package \u6765 \u5b9a\u4e49\u6a21\u578b\u548c\u635f\u5931\u51fd\u6570\nmodel = torch.nn.Sequential(\n    torch.nn.Linear(D_in, H),\n    torch.nn.ReLU(),\n    torch.nn.Linear(H, D_out),\n)\nloss_fn = torch.nn.MSELoss(reduction='sum')\n\n# \u4f7f\u7528 optim package \u6765\u5b9a\u4e49\u4e00\u4e2a\u4f18\u5316\u5668(Optimizer),\u7528\u4e8e\u4e3a\u6211\u4eec\u66f4\u65b0\u6a21\u578b\u7684\u6743\u91cd\u3002\n# \u8fd9\u91cc\u6211\u4eec\u4f7f\u7528 Adam; optim package \u5305\u542b\u5f88\u591a\u5176\u4ed6\u7684\u4f18\u5316\u7b97\u6cd5\u3002\n# Adam \u6784\u9020\u51fd\u6570\u7684\u7b2c\u4e00\u4e2a\u53c2\u6570\u544a\u8bc9\u4f18\u5316\u5668\u54ea\u4e9bTensors\u9700\u8981\u88ab\u66f4\u65b0\u3002\nlearning_rate = 1e-4\noptimizer = torch.optim.Adam(model.parameters(), lr=learning_rate)\nfor t in range(500):\n    # \u524d\u5411\u4f20\u9012: \u901a\u8fc7\u628ax\u4f20\u5165\u6a21\u578b\u6765\u8ba1\u7b97 \u9884\u6d4b\u503c y\u3002\n    y_pred = model(x)\n\n    # \u8ba1\u7b97\u5e76\u8f93\u51fa loss.\n    loss = loss_fn(y_pred, y)\n    print(t, loss.item())\n\n    # \u5728\u5411\u540e\u4f20\u9012\u4e4b\u524d\uff0c\u4f7f\u7528\u4f18\u5316\u5668\u5bf9\u8c61\u628a\u5b83\u5c06\u8981\u66f4\u65b0\u7684\u53d8\u91cf(\u6a21\u578b\u7684\u53ef\u5b66\u4e60\u53c2\u6570)\u7684\u6240\u6709\u68af\u5ea6\u53d8\u4e3a\u96f6\u3002\n    # \u8fd9\u662f\u56e0\u4e3a\u9ed8\u8ba4\u60c5\u51b5\u4e0b\uff0c\u4e0d\u7ba1\u5565\u65f6\u5019\u8c03\u7528.backward()\uff0c\u68af\u5ea6\u90fd\u4f1a\u7d2f\u79ef\u5230\u7f13\u5b58(i.e. \u4e0d\u662f\u91cd\u65b0\u5199\u5165)\u3002\n    # \u8bf7\u67e5\u770b torch.autograd.backward \u7684\u6587\u6863\u83b7\u5f97\u66f4\u591a\u4fe1\u606f\u3002\n    optimizer.zero_grad()\n\n    # \u5411\u540e\u4f20\u9012: \u8ba1\u7b97\u635f\u5931\u76f8\u5bf9\u4e8e\u6a21\u578b\u53c2\u6570\u7684\u68af\u5ea6\n    loss.backward()\n\n    # \u8c03\u7528 Optimizer \u7684 step \u51fd\u6570\u5bf9\u53c2\u6570\u8fdb\u884c\u4e00\u6b65\u66f4\u65b0\n    optimizer.step()"
      ]
    }
  ],
  "metadata": {
    "kernelspec": {
      "display_name": "Python 3",
      "language": "python",
      "name": "python3"
    },
    "language_info": {
      "codemirror_mode": {
        "name": "ipython",
        "version": 3
      },
      "file_extension": ".py",
      "mimetype": "text/x-python",
      "name": "python",
      "nbconvert_exporter": "python",
      "pygments_lexer": "ipython3",
      "version": "3.6.5"
    }
  },
  "nbformat": 4,
  "nbformat_minor": 0
}