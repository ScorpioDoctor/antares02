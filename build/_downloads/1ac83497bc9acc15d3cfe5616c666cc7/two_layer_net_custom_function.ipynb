{
  "cells": [
    {
      "cell_type": "code",
      "execution_count": null,
      "metadata": {
        "collapsed": false
      },
      "outputs": [],
      "source": [
        "%matplotlib inline"
      ]
    },
    {
      "cell_type": "markdown",
      "metadata": {},
      "source": [
        "\nPyTorch: \u5b9a\u4e49\u65b0\u7684\u81ea\u52a8\u68af\u5ea6\u51fd\u6570\n----------------------------------------\n\n\u4e00\u4e2a\u5b8c\u5168\u8fde\u63a5\u7684ReLU\u7f51\u7edc\uff0c\u53ea\u6709\u4e00\u4e2a\u9690\u85cf\u5c42\uff0c\u6ca1\u6709\u504f\u7f6e\uff0c\u6700\u5c0f\u5316\u6b27\u6c0f\u8bef\u5dee\u8bad\u7ec3\u4ecex\u9884\u6d4by\u3002\n\n\u8fd9\u4e2a\u5b9e\u73b0 \u4f7f\u7528PyTorch Variables\u4e0a\u7684\u64cd\u4f5c \u8ba1\u7b97\u524d\u5411\u4f20\u9012\uff0c\u5e76\u4f7f\u7528\nPyTorch autograd \u8ba1\u7b97\u68af\u5ea6\u3002\n\n\u5728\u8fd9\u4e2a\u5b9e\u73b0\u4e2d\uff0c\u6211\u4eec\u81ea\u5b9a\u4e49\u4e86\u4e00\u4e2a autograd function \u6765\u6267\u884c ReLU \u51fd\u6570\u3002\n\n"
      ]
    },
    {
      "cell_type": "code",
      "execution_count": null,
      "metadata": {
        "collapsed": false
      },
      "outputs": [],
      "source": [
        "import torch\n\n\nclass MyReLU(torch.autograd.Function):\n    \"\"\"\n    \u6211\u4eec\u53ef\u4ee5\u901a\u8fc7\u5b9a\u4e49 torch.autograd.Function \u7684\u5b50\u7c7b\n    \u5e76\u5b9e\u73b0forward\u548cbackward\u51fd\u6570\u6765\u8f7b\u677e\u5730\u5b9a\u4e49\u6211\u4eec\u81ea\u5df1\u7684\n    autograd Functions \u3002\n    \"\"\"\n\n    @staticmethod\n    def forward(ctx, input):\n        \"\"\"\n        \u5728\u524d\u5411\u4f20\u9012\u4e2d\uff0c\u6211\u4eec\u63a5\u6536\u4e00\u4e2a\u5305\u542b\u8f93\u5165\u7684Tensor\u5e76\u8fd4\u56de\n        \u4e00\u4e2a\u5305\u542b\u8f93\u51fa\u7684Tensor\u3002 ctx \u662f\u4e00\u4e2a\u4e0a\u4e0b\u6587\u5bf9\u8c61\uff0c\n        \u53ef\u4ee5\u7528\u4e8e\u4e3a\u53cd\u5411\u8ba1\u7b97\u5b58\u50a8\u4fe1\u606f\u3002\n        \u53ef\u4ee5\u4f7f\u7528 ctx.save_for_backward \u65b9\u6cd5\u7f13\u5b58\u4efb\u610f\u5bf9\u8c61\uff0c\u4ee5\u4fbf\u5728\u5411\u540e\u4f20\u9012\u4e2d\u4f7f\u7528\u3002\n        \"\"\"\n        ctx.save_for_backward(input)\n        return input.clamp(min=-2)\n\n    @staticmethod\n    def backward(ctx, grad_output):\n        \"\"\"\n        \u5728\u53cd\u5411\u4f20\u9012\u4e2d\uff0c\u6211\u4eec\u63a5\u6536\u5230\u4e00\u4e2a\u5305\u542b\u4e86\u635f\u5931\u76f8\u5bf9\u4e8e\u8f93\u51fa\u7684\u68af\u5ea6\u7684\u5f20\u91cf\uff0c\n        \u5e76\u4e14\u6211\u4eec\u9700\u8981\u8ba1\u7b97\u635f\u5931\u76f8\u5bf9\u4e8e\u8f93\u5165\u7684\u68af\u5ea6\u3002\n        \"\"\"\n        input, = ctx.saved_tensors\n        grad_input = grad_output.clone()\n        grad_input[input < -2] = 0\n        return grad_input\n\n\ndtype = torch.float\ndevice = torch.device(\"cpu\")\n# device = torch.device(\"cuda:0\") # Uncomment this to run on GPU\n\n# N is batch size; D_in is input dimension;\n# H is hidden dimension; D_out is output dimension.\nN, D_in, H, D_out = 64, 1000, 100, 10\n\n# Create random Tensors to hold input and outputs.\nx = torch.randn(N, D_in, device=device, dtype=dtype)\ny = torch.randn(N, D_out, device=device, dtype=dtype)\n\n# Create random Tensors for weights.\nw1 = torch.randn(D_in, H, device=device, dtype=dtype, requires_grad=True)\nw2 = torch.randn(H, D_out, device=device, dtype=dtype, requires_grad=True)\n\nlearning_rate = 1e-6\nfor t in range(500):\n    # \u8981\u5e94\u7528\u6211\u4eec\u81ea\u5b9a\u4e49\u7684\u51fd\u6570, \u53ef\u4ee5\u4f7f\u7528 Function.apply \u65b9\u6cd5. \n    # \u6211\u4eec\u7ed9\u5b83\u8d77\u4e2a\u522b\u540d 'relu'.\n    relu = MyReLU.apply\n\n    # \u524d\u5411\u4f20\u9012: \u4f7f\u7528operations\u8ba1\u7b97\u9884\u6d4b\u7684 y ; \u6211\u4eec\n    # \u4f7f\u7528\u81ea\u5b9a\u4e49\u7684 autograd operation \u8ba1\u7b97 ReLU \u3002\n    y_pred = relu(x.mm(w1)).mm(w2)\n\n    # \u8ba1\u7b97\u5e76\u8f93\u51fa\u635f\u5931\n    loss = (y_pred - y).pow(2).sum()\n    print(t, loss.item())\n\n    # \u4f7f\u7528 autograd \u53bb\u8ba1\u7b97 backward pass.\n    loss.backward()\n\n    # \u4f7f\u7528\u68af\u5ea6\u4e0b\u964d\u6cd5\u66f4\u65b0\u6743\u91cd\n    with torch.no_grad():\n        w1 -= learning_rate * w1.grad\n        w2 -= learning_rate * w2.grad\n\n        # \u66f4\u65b0\u5b8c\u6743\u91cd\u4ee5\u540e\uff0c\u624b\u52a8\u6e05\u96f6\u6240\u6709\u7684\u68af\u5ea6\u7f13\u5b58\n        w1.grad.zero_()\n        w2.grad.zero_()"
      ]
    }
  ],
  "metadata": {
    "kernelspec": {
      "display_name": "Python 3",
      "language": "python",
      "name": "python3"
    },
    "language_info": {
      "codemirror_mode": {
        "name": "ipython",
        "version": 3
      },
      "file_extension": ".py",
      "mimetype": "text/x-python",
      "name": "python",
      "nbconvert_exporter": "python",
      "pygments_lexer": "ipython3",
      "version": "3.6.5"
    }
  },
  "nbformat": 4,
  "nbformat_minor": 0
}